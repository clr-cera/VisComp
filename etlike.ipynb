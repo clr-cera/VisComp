{
 "cells": [
  {
   "cell_type": "code",
   "execution_count": 79,
   "id": "59641f96",
   "metadata": {},
   "outputs": [],
   "source": [
    "import polars as pl"
   ]
  },
  {
   "cell_type": "code",
   "execution_count": 80,
   "id": "21aad8b5",
   "metadata": {},
   "outputs": [],
   "source": [
    "tables = []\n",
    "\n",
    "for i in range(5):\n",
    "    df = pl.read_csv(f\"data/{i}.csv\")\n",
    "    tables.append(df)"
   ]
  },
  {
   "cell_type": "code",
   "execution_count": 81,
   "id": "9f7f45b4",
   "metadata": {},
   "outputs": [
    {
     "data": {
      "text/plain": [
       "[shape: (44, 9)\n",
       " ┌─────────┬─────────────────────────────────┬──────────────┬─────┬───┬───────┬──────┬──────┬──────┐\n",
       " │ Sigla   ┆ Nome                            ┆ Ano/Semestre ┆ AU  ┆ … ┆ AU+TR ┆ EXT  ┆ FREQ ┆ NOTA │\n",
       " │ ---     ┆ ---                             ┆ ---          ┆ --- ┆   ┆ ---   ┆ ---  ┆ ---  ┆ ---  │\n",
       " │ str     ┆ str                             ┆ str          ┆ i64 ┆   ┆ i64   ┆ i64  ┆ i64  ┆ str  │\n",
       " ╞═════════╪═════════════════════════════════╪══════════════╪═════╪═══╪═══════╪══════╪══════╪══════╡\n",
       " │ SCC0200 ┆ Informação Profissional e Tuto… ┆ 2023/1       ┆ 2   ┆ … ┆ 2     ┆ 30   ┆ 100  ┆ 10.0 │\n",
       " │ SCC0221 ┆ Introdução à Ciência de Comput… ┆ 2023/1       ┆ 4   ┆ … ┆ 5     ┆ 90   ┆ 97   ┆ 9.0  │\n",
       " │ SCC0222 ┆ Laboratório de Introdução à Ci… ┆ 2023/1       ┆ 2   ┆ … ┆ 4     ┆ 90   ┆ 100  ┆ 9.8  │\n",
       " │ SMA0300 ┆ Geometria Analítica             ┆ 2023/1       ┆ 4   ┆ … ┆ 4     ┆ 60   ┆ 100  ┆ 7.5  │\n",
       " │ SMA0353 ┆ Cálculo I                       ┆ 2023/1       ┆ 4   ┆ … ┆ 4     ┆ 60   ┆ 100  ┆ 10.0 │\n",
       " │ …       ┆ …                               ┆ …            ┆ …   ┆ … ┆ …     ┆ …    ┆ …    ┆ …    │\n",
       " │ SCC0245 ┆ Processamento Analítico de Dad… ┆ 2025/2       ┆ 3   ┆ … ┆ 5     ┆ 30   ┆ null ┆ MA   │\n",
       " │ SCC0252 ┆ Visualização Computacional      ┆ 2025/2       ┆ 3   ┆ … ┆ 4     ┆ null ┆ null ┆ MA   │\n",
       " │ SME0110 ┆ Programação Matemática          ┆ 2025/2       ┆ 4   ┆ … ┆ 6     ┆ null ┆ null ┆ MA   │\n",
       " │ SSC0903 ┆ Computação de Alto Desempenho   ┆ 2025/2       ┆ 4   ┆ … ┆ 5     ┆ null ┆ null ┆ MA   │\n",
       " │ SSC0953 ┆ Sistemas Open Source            ┆ 2025/2       ┆ 2   ┆ … ┆ 4     ┆ null ┆ null ┆ MA   │\n",
       " └─────────┴─────────────────────────────────┴──────────────┴─────┴───┴───────┴──────┴──────┴──────┘,\n",
       " shape: (47, 9)\n",
       " ┌─────────┬─────────────────────────────────┬──────────────┬─────┬───┬───────┬──────┬──────┬──────┐\n",
       " │ Sigla   ┆ Nome                            ┆ Ano/Semestre ┆ AU  ┆ … ┆ AU+TR ┆ EXT  ┆ FREQ ┆ NOTA │\n",
       " │ ---     ┆ ---                             ┆ ---          ┆ --- ┆   ┆ ---   ┆ ---  ┆ ---  ┆ ---  │\n",
       " │ str     ┆ str                             ┆ str          ┆ i64 ┆   ┆ i64   ┆ i64  ┆ str  ┆ str  │\n",
       " ╞═════════╪═════════════════════════════════╪══════════════╪═════╪═══╪═══════╪══════╪══════╪══════╡\n",
       " │ SCC0200 ┆ Informação Profissional e Tuto… ┆ 2023/1       ┆ 2   ┆ … ┆ 2     ┆ null ┆ 100  ┆ 10.0 │\n",
       " │ SCC0221 ┆ Introdução à Ciência de Comput… ┆ 2023/1       ┆ 4   ┆ … ┆ 5     ┆ null ┆ 100  ┆ 9.2  │\n",
       " │ SCC0222 ┆ Laboratório de Introdução à Ci… ┆ 2023/1       ┆ 2   ┆ … ┆ 4     ┆ null ┆ 100  ┆ 10.0 │\n",
       " │ SMA0300 ┆ Geometria Analítica             ┆ 2023/1       ┆ 4   ┆ … ┆ 4     ┆ null ┆ 100  ┆ 7.3  │\n",
       " │ SMA0353 ┆ Cálculo I                       ┆ 2023/1       ┆ 4   ┆ … ┆ 4     ┆ null ┆ 100  ┆ 10.0 │\n",
       " │ …       ┆ …                               ┆ …            ┆ …   ┆ … ┆ …     ┆ …    ┆ …    ┆ …    │\n",
       " │ SCC0230 ┆ Inteligência Artificial         ┆ 2025/2       ┆ 4   ┆ … ┆ 5     ┆ 10   ┆ MA   ┆ MA   │\n",
       " │ SCC0252 ┆ Visualização Computacional      ┆ 2025/2       ┆ 3   ┆ … ┆ 4     ┆ null ┆ MA   ┆ MA   │\n",
       " │ SCC0284 ┆ Sistemas de Recomendação        ┆ 2025/2       ┆ 4   ┆ … ┆ 5     ┆ 10   ┆ MA   ┆ MA   │\n",
       " │ SME0110 ┆ Programação Matemática          ┆ 2025/2       ┆ 4   ┆ … ┆ 6     ┆ null ┆ MA   ┆ MA   │\n",
       " │ SSC0903 ┆ Computação de Alto Desempenho   ┆ 2025/2       ┆ 4   ┆ … ┆ 5     ┆ null ┆ MA   ┆ MA   │\n",
       " └─────────┴─────────────────────────────────┴──────────────┴─────┴───┴───────┴──────┴──────┴──────┘,\n",
       " shape: (75, 9)\n",
       " ┌─────────┬─────────────────────────────────┬──────────────┬─────┬───┬───────┬──────┬──────┬──────┐\n",
       " │ Sigla   ┆ Nome                            ┆ Ano/Semestre ┆ AU  ┆ … ┆ AU+TR ┆ EXT  ┆ FREQ ┆ NOTA │\n",
       " │ ---     ┆ ---                             ┆ ---          ┆ --- ┆   ┆ ---   ┆ ---  ┆ ---  ┆ ---  │\n",
       " │ str     ┆ str                             ┆ str          ┆ i64 ┆   ┆ i64   ┆ i64  ┆ i64  ┆ str  │\n",
       " ╞═════════╪═════════════════════════════════╪══════════════╪═════╪═══╪═══════╪══════╪══════╪══════╡\n",
       " │ SCC0200 ┆ Informação Profissional e Tuto… ┆ 2020/1       ┆ 2   ┆ … ┆ 2     ┆ null ┆ 100  ┆ 10.0 │\n",
       " │ SCC0221 ┆ Introdução à Ciência de Comput… ┆ 2020/1       ┆ 4   ┆ … ┆ 5     ┆ null ┆ 100  ┆ 10.0 │\n",
       " │ SCC0222 ┆ Laboratório de Introdução à Ci… ┆ 2020/1       ┆ 2   ┆ … ┆ 4     ┆ null ┆ 100  ┆ 9.9  │\n",
       " │ SMA0300 ┆ Geometria Analítica             ┆ 2020/1       ┆ 4   ┆ … ┆ 4     ┆ null ┆ 100  ┆ 6.8  │\n",
       " │ SMA0353 ┆ Cálculo I                       ┆ 2020/1       ┆ 4   ┆ … ┆ 4     ┆ null ┆ 100  ┆ 7.8  │\n",
       " │ …       ┆ …                               ┆ …            ┆ …   ┆ … ┆ …     ┆ …    ┆ …    ┆ …    │\n",
       " │ PRG0042 ┆ Disciplina Paulista de Acessib… ┆ 2025/2       ┆ 5   ┆ … ┆ 5     ┆ null ┆ null ┆ MA   │\n",
       " │ SCC0252 ┆ Visualização Computacional      ┆ 2025/2       ┆ 3   ┆ … ┆ 4     ┆ null ┆ null ┆ MA   │\n",
       " │ SCC0295 ┆ Atividades Acadêmicas de Exten… ┆ 2025/2       ┆ 1   ┆ … ┆ 3     ┆ 75   ┆ null ┆ MA   │\n",
       " │ SCC0641 ┆ Laboratório de Bases de Dados   ┆ 2025/2       ┆ 4   ┆ … ┆ 6     ┆ null ┆ null ┆ MA   │\n",
       " │ SSC0723 ┆ Sistemas Colaborativos: Fundam… ┆ 2025/2       ┆ 2   ┆ … ┆ 2     ┆ null ┆ null ┆ MA   │\n",
       " └─────────┴─────────────────────────────────┴──────────────┴─────┴───┴───────┴──────┴──────┴──────┘,\n",
       " shape: (48, 9)\n",
       " ┌─────────┬──────────────┬─────────────────────────────────┬─────┬───┬───────┬──────┬──────┬──────┐\n",
       " │ Sigla   ┆ Ano/Semestre ┆ Nome                            ┆ AU  ┆ … ┆ AU+TR ┆ EXT  ┆ FREQ ┆ NOTA │\n",
       " │ ---     ┆ ---          ┆ ---                             ┆ --- ┆   ┆ ---   ┆ ---  ┆ ---  ┆ ---  │\n",
       " │ str     ┆ str          ┆ str                             ┆ i64 ┆   ┆ i64   ┆ f64  ┆ str  ┆ str  │\n",
       " ╞═════════╪══════════════╪═════════════════════════════════╪═════╪═══╪═══════╪══════╪══════╪══════╡\n",
       " │ SCC0200 ┆ 2023/1       ┆ Informação Profissional e Tuto… ┆ 2   ┆ … ┆ 2     ┆ 30.0 ┆ 100  ┆ 10.0 │\n",
       " │ SCC0221 ┆ 2023/1       ┆ Introdução à Ciência de Comput… ┆ 4   ┆ … ┆ 5     ┆ 90.0 ┆ 100  ┆ 8.4  │\n",
       " │ SCC0222 ┆ 2023/1       ┆ Laboratório de Introdução à Ci… ┆ 2   ┆ … ┆ 4     ┆ 90.0 ┆ 100  ┆ 9.5  │\n",
       " │ SMA0300 ┆ 2023/1       ┆ Geometria Analítica             ┆ 4   ┆ … ┆ 4     ┆ 60.0 ┆ 100  ┆ 7.9  │\n",
       " │ SMA0353 ┆ 2023/1       ┆ Cálculo I                       ┆ 4   ┆ … ┆ 4     ┆ 60.0 ┆ 100  ┆ 8.5  │\n",
       " │ …       ┆ …            ┆ …                               ┆ …   ┆ … ┆ …     ┆ …    ┆ …    ┆ …    │\n",
       " │ SCC0230 ┆ 2025/2       ┆ Inteligência Artificial         ┆ 4   ┆ … ┆ 5     ┆ null ┆ MA   ┆ null │\n",
       " │ SCC0252 ┆ 2025/2       ┆ Visualização Computacional      ┆ 3   ┆ … ┆ 4     ┆ null ┆ MA   ┆ null │\n",
       " │ SCC0275 ┆ 2025/2       ┆ Introdução à Ciência de Dados   ┆ 4   ┆ … ┆ 5     ┆ null ┆ MA   ┆ null │\n",
       " │ SME0110 ┆ 2025/2       ┆ Programação Matemática          ┆ 4   ┆ … ┆ 6     ┆ null ┆ MA   ┆ null │\n",
       " │ SSC0903 ┆ 2025/2       ┆ Computação de Alto Desempenho   ┆ 4   ┆ … ┆ 5     ┆ null ┆ MA   ┆ null │\n",
       " └─────────┴──────────────┴─────────────────────────────────┴─────┴───┴───────┴──────┴──────┴──────┘,\n",
       " shape: (43, 9)\n",
       " ┌─────────┬──────────────┬─────────────────────────────────┬─────┬───┬───────┬─────┬──────┬──────┐\n",
       " │ Sigla   ┆ Ano/Semestre ┆ Nome                            ┆ AU  ┆ … ┆ AU+TR ┆ EXT ┆ FREQ ┆ NOTA │\n",
       " │ ---     ┆ ---          ┆ ---                             ┆ --- ┆   ┆ ---   ┆ --- ┆ ---  ┆ ---  │\n",
       " │ str     ┆ str          ┆ str                             ┆ i64 ┆   ┆ i64   ┆ i64 ┆ i64  ┆ f64  │\n",
       " ╞═════════╪══════════════╪═════════════════════════════════╪═════╪═══╪═══════╪═════╪══════╪══════╡\n",
       " │ SCC0200 ┆ 2023/1       ┆ Informação Profissional e Tuto… ┆ 2   ┆ … ┆ 2     ┆ 0   ┆ 90   ┆ 9.0  │\n",
       " │ SCC0221 ┆ 2023/1       ┆ Introdução à Ciência de Comput… ┆ 4   ┆ … ┆ 5     ┆ 10  ┆ 97   ┆ 7.9  │\n",
       " │ SCC0222 ┆ 2023/1       ┆ Laboratório de Introdução à Ci… ┆ 2   ┆ … ┆ 4     ┆ 0   ┆ 100  ┆ 8.4  │\n",
       " │ SMA0300 ┆ 2023/1       ┆ Geometria Analítica             ┆ 4   ┆ … ┆ 4     ┆ 0   ┆ 100  ┆ 7.8  │\n",
       " │ SMA0353 ┆ 2023/1       ┆ Cálculo I                       ┆ 4   ┆ … ┆ 4     ┆ 0   ┆ 100  ┆ 10.0 │\n",
       " │ …       ┆ …            ┆ …                               ┆ …   ┆ … ┆ …     ┆ …   ┆ …    ┆ …    │\n",
       " │ SME0104 ┆ 2025/1       ┆ Cálculo Numérico                ┆ 4   ┆ … ┆ 4     ┆ 0   ┆ 100  ┆ 9.5  │\n",
       " │ SME0121 ┆ 2025/1       ┆ Processos Estocásticos          ┆ 4   ┆ … ┆ 4     ┆ 0   ┆ 80   ┆ 8.5  │\n",
       " │ SME0130 ┆ 2025/1       ┆ Redes Complexas                 ┆ 4   ┆ … ┆ 6     ┆ 0   ┆ 100  ┆ 10.0 │\n",
       " │ SSC0130 ┆ 2025/1       ┆ Engenharia de Software          ┆ 4   ┆ … ┆ 5     ┆ 15  ┆ 100  ┆ 8.4  │\n",
       " │ SSC0142 ┆ 2025/1       ┆ Redes de Computadores           ┆ 4   ┆ … ┆ 6     ┆ 30  ┆ 80   ┆ 7.7  │\n",
       " └─────────┴──────────────┴─────────────────────────────────┴─────┴───┴───────┴─────┴──────┴──────┘]"
      ]
     },
     "metadata": {},
     "output_type": "display_data"
    }
   ],
   "source": [
    "display(tables)"
   ]
  },
  {
   "cell_type": "code",
   "execution_count": 82,
   "id": "8947b7b5",
   "metadata": {},
   "outputs": [],
   "source": [
    "dfs_with_student_id = []\n",
    "for i, d in enumerate(tables):\n",
    "    d = d.with_columns(pl.lit(i).alias(\"student_id\"))\n",
    "    dfs_with_student_id.append(d)"
   ]
  },
  {
   "cell_type": "code",
   "execution_count": 83,
   "id": "931f5650",
   "metadata": {},
   "outputs": [
    {
     "data": {
      "text/html": [
       "<div><style>\n",
       ".dataframe > thead > tr,\n",
       ".dataframe > tbody > tr {\n",
       "  text-align: right;\n",
       "  white-space: pre-wrap;\n",
       "}\n",
       "</style>\n",
       "<small>shape: (44, 10)</small><table border=\"1\" class=\"dataframe\"><thead><tr><th>Sigla</th><th>Nome</th><th>Ano/Semestre</th><th>AU</th><th>TR</th><th>AU+TR</th><th>EXT</th><th>FREQ</th><th>NOTA</th><th>student_id</th></tr><tr><td>str</td><td>str</td><td>str</td><td>i64</td><td>i64</td><td>i64</td><td>i64</td><td>i64</td><td>str</td><td>i32</td></tr></thead><tbody><tr><td>&quot;SCC0200&quot;</td><td>&quot;Informação Profissional e Tuto…</td><td>&quot;2023/1&quot;</td><td>2</td><td>0</td><td>2</td><td>30</td><td>100</td><td>&quot;10.0&quot;</td><td>0</td></tr><tr><td>&quot;SCC0221&quot;</td><td>&quot;Introdução à Ciência de Comput…</td><td>&quot;2023/1&quot;</td><td>4</td><td>1</td><td>5</td><td>90</td><td>97</td><td>&quot;9.0&quot;</td><td>0</td></tr><tr><td>&quot;SCC0222&quot;</td><td>&quot;Laboratório de Introdução à Ci…</td><td>&quot;2023/1&quot;</td><td>2</td><td>2</td><td>4</td><td>90</td><td>100</td><td>&quot;9.8&quot;</td><td>0</td></tr><tr><td>&quot;SMA0300&quot;</td><td>&quot;Geometria Analítica&quot;</td><td>&quot;2023/1&quot;</td><td>4</td><td>0</td><td>4</td><td>60</td><td>100</td><td>&quot;7.5&quot;</td><td>0</td></tr><tr><td>&quot;SMA0353&quot;</td><td>&quot;Cálculo I&quot;</td><td>&quot;2023/1&quot;</td><td>4</td><td>0</td><td>4</td><td>60</td><td>100</td><td>&quot;10.0&quot;</td><td>0</td></tr><tr><td>&hellip;</td><td>&hellip;</td><td>&hellip;</td><td>&hellip;</td><td>&hellip;</td><td>&hellip;</td><td>&hellip;</td><td>&hellip;</td><td>&hellip;</td><td>&hellip;</td></tr><tr><td>&quot;SCC0245&quot;</td><td>&quot;Processamento Analítico de Dad…</td><td>&quot;2025/2&quot;</td><td>3</td><td>2</td><td>5</td><td>30</td><td>null</td><td>&quot;MA&quot;</td><td>0</td></tr><tr><td>&quot;SCC0252&quot;</td><td>&quot;Visualização Computacional&quot;</td><td>&quot;2025/2&quot;</td><td>3</td><td>1</td><td>4</td><td>null</td><td>null</td><td>&quot;MA&quot;</td><td>0</td></tr><tr><td>&quot;SME0110&quot;</td><td>&quot;Programação Matemática&quot;</td><td>&quot;2025/2&quot;</td><td>4</td><td>2</td><td>6</td><td>null</td><td>null</td><td>&quot;MA&quot;</td><td>0</td></tr><tr><td>&quot;SSC0903&quot;</td><td>&quot;Computação de Alto Desempenho&quot;</td><td>&quot;2025/2&quot;</td><td>4</td><td>1</td><td>5</td><td>null</td><td>null</td><td>&quot;MA&quot;</td><td>0</td></tr><tr><td>&quot;SSC0953&quot;</td><td>&quot;Sistemas Open Source&quot;</td><td>&quot;2025/2&quot;</td><td>2</td><td>2</td><td>4</td><td>null</td><td>null</td><td>&quot;MA&quot;</td><td>0</td></tr></tbody></table></div>"
      ],
      "text/plain": [
       "shape: (44, 10)\n",
       "┌─────────┬─────────────────────────────┬──────────────┬─────┬───┬──────┬──────┬──────┬────────────┐\n",
       "│ Sigla   ┆ Nome                        ┆ Ano/Semestre ┆ AU  ┆ … ┆ EXT  ┆ FREQ ┆ NOTA ┆ student_id │\n",
       "│ ---     ┆ ---                         ┆ ---          ┆ --- ┆   ┆ ---  ┆ ---  ┆ ---  ┆ ---        │\n",
       "│ str     ┆ str                         ┆ str          ┆ i64 ┆   ┆ i64  ┆ i64  ┆ str  ┆ i32        │\n",
       "╞═════════╪═════════════════════════════╪══════════════╪═════╪═══╪══════╪══════╪══════╪════════════╡\n",
       "│ SCC0200 ┆ Informação Profissional e   ┆ 2023/1       ┆ 2   ┆ … ┆ 30   ┆ 100  ┆ 10.0 ┆ 0          │\n",
       "│         ┆ Tuto…                       ┆              ┆     ┆   ┆      ┆      ┆      ┆            │\n",
       "│ SCC0221 ┆ Introdução à Ciência de     ┆ 2023/1       ┆ 4   ┆ … ┆ 90   ┆ 97   ┆ 9.0  ┆ 0          │\n",
       "│         ┆ Comput…                     ┆              ┆     ┆   ┆      ┆      ┆      ┆            │\n",
       "│ SCC0222 ┆ Laboratório de Introdução à ┆ 2023/1       ┆ 2   ┆ … ┆ 90   ┆ 100  ┆ 9.8  ┆ 0          │\n",
       "│         ┆ Ci…                         ┆              ┆     ┆   ┆      ┆      ┆      ┆            │\n",
       "│ SMA0300 ┆ Geometria Analítica         ┆ 2023/1       ┆ 4   ┆ … ┆ 60   ┆ 100  ┆ 7.5  ┆ 0          │\n",
       "│ SMA0353 ┆ Cálculo I                   ┆ 2023/1       ┆ 4   ┆ … ┆ 60   ┆ 100  ┆ 10.0 ┆ 0          │\n",
       "│ …       ┆ …                           ┆ …            ┆ …   ┆ … ┆ …    ┆ …    ┆ …    ┆ …          │\n",
       "│ SCC0245 ┆ Processamento Analítico de  ┆ 2025/2       ┆ 3   ┆ … ┆ 30   ┆ null ┆ MA   ┆ 0          │\n",
       "│         ┆ Dad…                        ┆              ┆     ┆   ┆      ┆      ┆      ┆            │\n",
       "│ SCC0252 ┆ Visualização Computacional  ┆ 2025/2       ┆ 3   ┆ … ┆ null ┆ null ┆ MA   ┆ 0          │\n",
       "│ SME0110 ┆ Programação Matemática      ┆ 2025/2       ┆ 4   ┆ … ┆ null ┆ null ┆ MA   ┆ 0          │\n",
       "│ SSC0903 ┆ Computação de Alto          ┆ 2025/2       ┆ 4   ┆ … ┆ null ┆ null ┆ MA   ┆ 0          │\n",
       "│         ┆ Desempenho                  ┆              ┆     ┆   ┆      ┆      ┆      ┆            │\n",
       "│ SSC0953 ┆ Sistemas Open Source        ┆ 2025/2       ┆ 2   ┆ … ┆ null ┆ null ┆ MA   ┆ 0          │\n",
       "└─────────┴─────────────────────────────┴──────────────┴─────┴───┴──────┴──────┴──────┴────────────┘"
      ]
     },
     "metadata": {},
     "output_type": "display_data"
    }
   ],
   "source": [
    "display(dfs_with_student_id[0])"
   ]
  },
  {
   "cell_type": "code",
   "execution_count": 84,
   "id": "8ded5bd3",
   "metadata": {},
   "outputs": [
    {
     "data": {
      "text/html": [
       "<div><style>\n",
       ".dataframe > thead > tr,\n",
       ".dataframe > tbody > tr {\n",
       "  text-align: right;\n",
       "  white-space: pre-wrap;\n",
       "}\n",
       "</style>\n",
       "<small>shape: (48, 10)</small><table border=\"1\" class=\"dataframe\"><thead><tr><th>Sigla</th><th>Ano/Semestre</th><th>Nome</th><th>AU</th><th>TR</th><th>AU+TR</th><th>EXT</th><th>FREQ</th><th>NOTA</th><th>student_id</th></tr><tr><td>str</td><td>str</td><td>str</td><td>i64</td><td>i64</td><td>i64</td><td>f64</td><td>str</td><td>str</td><td>i32</td></tr></thead><tbody><tr><td>&quot;SCC0200&quot;</td><td>&quot;2023/1&quot;</td><td>&quot;Informação Profissional e Tuto…</td><td>2</td><td>0</td><td>2</td><td>30.0</td><td>&quot;100&quot;</td><td>&quot;10.0&quot;</td><td>3</td></tr><tr><td>&quot;SCC0221&quot;</td><td>&quot;2023/1&quot;</td><td>&quot;Introdução à Ciência de Comput…</td><td>4</td><td>1</td><td>5</td><td>90.0</td><td>&quot;100&quot;</td><td>&quot;8.4&quot;</td><td>3</td></tr><tr><td>&quot;SCC0222&quot;</td><td>&quot;2023/1&quot;</td><td>&quot;Laboratório de Introdução à Ci…</td><td>2</td><td>2</td><td>4</td><td>90.0</td><td>&quot;100&quot;</td><td>&quot;9.5&quot;</td><td>3</td></tr><tr><td>&quot;SMA0300&quot;</td><td>&quot;2023/1&quot;</td><td>&quot;Geometria Analítica&quot;</td><td>4</td><td>0</td><td>4</td><td>60.0</td><td>&quot;100&quot;</td><td>&quot;7.9&quot;</td><td>3</td></tr><tr><td>&quot;SMA0353&quot;</td><td>&quot;2023/1&quot;</td><td>&quot;Cálculo I&quot;</td><td>4</td><td>0</td><td>4</td><td>60.0</td><td>&quot;100&quot;</td><td>&quot;8.5&quot;</td><td>3</td></tr><tr><td>&hellip;</td><td>&hellip;</td><td>&hellip;</td><td>&hellip;</td><td>&hellip;</td><td>&hellip;</td><td>&hellip;</td><td>&hellip;</td><td>&hellip;</td><td>&hellip;</td></tr><tr><td>&quot;SCC0230&quot;</td><td>&quot;2025/2&quot;</td><td>&quot;Inteligência Artificial&quot;</td><td>4</td><td>1</td><td>5</td><td>null</td><td>&quot;MA&quot;</td><td>null</td><td>3</td></tr><tr><td>&quot;SCC0252&quot;</td><td>&quot;2025/2&quot;</td><td>&quot;Visualização Computacional&quot;</td><td>3</td><td>1</td><td>4</td><td>null</td><td>&quot;MA&quot;</td><td>null</td><td>3</td></tr><tr><td>&quot;SCC0275&quot;</td><td>&quot;2025/2&quot;</td><td>&quot;Introdução à Ciência de Dados&quot;</td><td>4</td><td>1</td><td>5</td><td>null</td><td>&quot;MA&quot;</td><td>null</td><td>3</td></tr><tr><td>&quot;SME0110&quot;</td><td>&quot;2025/2&quot;</td><td>&quot;Programação Matemática&quot;</td><td>4</td><td>2</td><td>6</td><td>null</td><td>&quot;MA&quot;</td><td>null</td><td>3</td></tr><tr><td>&quot;SSC0903&quot;</td><td>&quot;2025/2&quot;</td><td>&quot;Computação de Alto Desempenho&quot;</td><td>4</td><td>1</td><td>5</td><td>null</td><td>&quot;MA&quot;</td><td>null</td><td>3</td></tr></tbody></table></div>"
      ],
      "text/plain": [
       "shape: (48, 10)\n",
       "┌─────────┬──────────────┬─────────────────────────────┬─────┬───┬──────┬──────┬──────┬────────────┐\n",
       "│ Sigla   ┆ Ano/Semestre ┆ Nome                        ┆ AU  ┆ … ┆ EXT  ┆ FREQ ┆ NOTA ┆ student_id │\n",
       "│ ---     ┆ ---          ┆ ---                         ┆ --- ┆   ┆ ---  ┆ ---  ┆ ---  ┆ ---        │\n",
       "│ str     ┆ str          ┆ str                         ┆ i64 ┆   ┆ f64  ┆ str  ┆ str  ┆ i32        │\n",
       "╞═════════╪══════════════╪═════════════════════════════╪═════╪═══╪══════╪══════╪══════╪════════════╡\n",
       "│ SCC0200 ┆ 2023/1       ┆ Informação Profissional e   ┆ 2   ┆ … ┆ 30.0 ┆ 100  ┆ 10.0 ┆ 3          │\n",
       "│         ┆              ┆ Tuto…                       ┆     ┆   ┆      ┆      ┆      ┆            │\n",
       "│ SCC0221 ┆ 2023/1       ┆ Introdução à Ciência de     ┆ 4   ┆ … ┆ 90.0 ┆ 100  ┆ 8.4  ┆ 3          │\n",
       "│         ┆              ┆ Comput…                     ┆     ┆   ┆      ┆      ┆      ┆            │\n",
       "│ SCC0222 ┆ 2023/1       ┆ Laboratório de Introdução à ┆ 2   ┆ … ┆ 90.0 ┆ 100  ┆ 9.5  ┆ 3          │\n",
       "│         ┆              ┆ Ci…                         ┆     ┆   ┆      ┆      ┆      ┆            │\n",
       "│ SMA0300 ┆ 2023/1       ┆ Geometria Analítica         ┆ 4   ┆ … ┆ 60.0 ┆ 100  ┆ 7.9  ┆ 3          │\n",
       "│ SMA0353 ┆ 2023/1       ┆ Cálculo I                   ┆ 4   ┆ … ┆ 60.0 ┆ 100  ┆ 8.5  ┆ 3          │\n",
       "│ …       ┆ …            ┆ …                           ┆ …   ┆ … ┆ …    ┆ …    ┆ …    ┆ …          │\n",
       "│ SCC0230 ┆ 2025/2       ┆ Inteligência Artificial     ┆ 4   ┆ … ┆ null ┆ MA   ┆ null ┆ 3          │\n",
       "│ SCC0252 ┆ 2025/2       ┆ Visualização Computacional  ┆ 3   ┆ … ┆ null ┆ MA   ┆ null ┆ 3          │\n",
       "│ SCC0275 ┆ 2025/2       ┆ Introdução à Ciência de     ┆ 4   ┆ … ┆ null ┆ MA   ┆ null ┆ 3          │\n",
       "│         ┆              ┆ Dados                       ┆     ┆   ┆      ┆      ┆      ┆            │\n",
       "│ SME0110 ┆ 2025/2       ┆ Programação Matemática      ┆ 4   ┆ … ┆ null ┆ MA   ┆ null ┆ 3          │\n",
       "│ SSC0903 ┆ 2025/2       ┆ Computação de Alto          ┆ 4   ┆ … ┆ null ┆ MA   ┆ null ┆ 3          │\n",
       "│         ┆              ┆ Desempenho                  ┆     ┆   ┆      ┆      ┆      ┆            │\n",
       "└─────────┴──────────────┴─────────────────────────────┴─────┴───┴──────┴──────┴──────┴────────────┘"
      ]
     },
     "metadata": {},
     "output_type": "display_data"
    }
   ],
   "source": [
    "display(dfs_with_student_id[3])"
   ]
  },
  {
   "cell_type": "code",
   "execution_count": 85,
   "id": "43d56dcb",
   "metadata": {},
   "outputs": [
    {
     "name": "stdout",
     "output_type": "stream",
     "text": [
      "0\n",
      "1\n",
      "2\n",
      "3\n",
      "4\n"
     ]
    }
   ],
   "source": [
    "filtered_dfs = []\n",
    "for i, table in enumerate(dfs_with_student_id):\n",
    "    print(i)\n",
    "    try:\n",
    "        table = table.filter(pl.col(\"NOTA\") != \"MA\")\n",
    "    except: pass\n",
    "    try:\n",
    "        table = table.filter(pl.col(\"FREQ\") != \"MA\")\n",
    "    except: pass\n",
    "    table = table.with_columns(pl.col(\"NOTA\").cast(pl.Float64))\n",
    "    table = table.with_columns(pl.col(\"FREQ\").cast(pl.Float64))\n",
    "    table = table.with_columns(pl.col(\"EXT\").cast(pl.Int64))\n",
    "    \n",
    "    filtered_dfs.append(table)"
   ]
  },
  {
   "cell_type": "code",
   "execution_count": 86,
   "id": "dd089987",
   "metadata": {},
   "outputs": [
    {
     "data": {
      "text/html": [
       "<div><style>\n",
       ".dataframe > thead > tr,\n",
       ".dataframe > tbody > tr {\n",
       "  text-align: right;\n",
       "  white-space: pre-wrap;\n",
       "}\n",
       "</style>\n",
       "<small>shape: (1, 10)</small><table border=\"1\" class=\"dataframe\"><thead><tr><th>Sigla</th><th>Nome</th><th>Ano/Semestre</th><th>AU</th><th>TR</th><th>AU+TR</th><th>EXT</th><th>FREQ</th><th>NOTA</th><th>student_id</th></tr><tr><td>u32</td><td>u32</td><td>u32</td><td>u32</td><td>u32</td><td>u32</td><td>u32</td><td>u32</td><td>u32</td><td>u32</td></tr></thead><tbody><tr><td>0</td><td>0</td><td>0</td><td>0</td><td>0</td><td>0</td><td>0</td><td>0</td><td>0</td><td>0</td></tr></tbody></table></div>"
      ],
      "text/plain": [
       "shape: (1, 10)\n",
       "┌───────┬──────┬──────────────┬─────┬───┬─────┬──────┬──────┬────────────┐\n",
       "│ Sigla ┆ Nome ┆ Ano/Semestre ┆ AU  ┆ … ┆ EXT ┆ FREQ ┆ NOTA ┆ student_id │\n",
       "│ ---   ┆ ---  ┆ ---          ┆ --- ┆   ┆ --- ┆ ---  ┆ ---  ┆ ---        │\n",
       "│ u32   ┆ u32  ┆ u32          ┆ u32 ┆   ┆ u32 ┆ u32  ┆ u32  ┆ u32        │\n",
       "╞═══════╪══════╪══════════════╪═════╪═══╪═════╪══════╪══════╪════════════╡\n",
       "│ 0     ┆ 0    ┆ 0            ┆ 0   ┆ … ┆ 0   ┆ 0    ┆ 0    ┆ 0          │\n",
       "└───────┴──────┴──────────────┴─────┴───┴─────┴──────┴──────┴────────────┘"
      ]
     },
     "metadata": {},
     "output_type": "display_data"
    },
    {
     "data": {
      "text/html": [
       "<div><style>\n",
       ".dataframe > thead > tr,\n",
       ".dataframe > tbody > tr {\n",
       "  text-align: right;\n",
       "  white-space: pre-wrap;\n",
       "}\n",
       "</style>\n",
       "<small>shape: (1, 10)</small><table border=\"1\" class=\"dataframe\"><thead><tr><th>Sigla</th><th>Nome</th><th>Ano/Semestre</th><th>AU</th><th>TR</th><th>AU+TR</th><th>EXT</th><th>FREQ</th><th>NOTA</th><th>student_id</th></tr><tr><td>u32</td><td>u32</td><td>u32</td><td>u32</td><td>u32</td><td>u32</td><td>u32</td><td>u32</td><td>u32</td><td>u32</td></tr></thead><tbody><tr><td>0</td><td>0</td><td>0</td><td>0</td><td>12</td><td>0</td><td>27</td><td>0</td><td>0</td><td>0</td></tr></tbody></table></div>"
      ],
      "text/plain": [
       "shape: (1, 10)\n",
       "┌───────┬──────┬──────────────┬─────┬───┬─────┬──────┬──────┬────────────┐\n",
       "│ Sigla ┆ Nome ┆ Ano/Semestre ┆ AU  ┆ … ┆ EXT ┆ FREQ ┆ NOTA ┆ student_id │\n",
       "│ ---   ┆ ---  ┆ ---          ┆ --- ┆   ┆ --- ┆ ---  ┆ ---  ┆ ---        │\n",
       "│ u32   ┆ u32  ┆ u32          ┆ u32 ┆   ┆ u32 ┆ u32  ┆ u32  ┆ u32        │\n",
       "╞═══════╪══════╪══════════════╪═════╪═══╪═════╪══════╪══════╪════════════╡\n",
       "│ 0     ┆ 0    ┆ 0            ┆ 0   ┆ … ┆ 27  ┆ 0    ┆ 0    ┆ 0          │\n",
       "└───────┴──────┴──────────────┴─────┴───┴─────┴──────┴──────┴────────────┘"
      ]
     },
     "metadata": {},
     "output_type": "display_data"
    },
    {
     "data": {
      "text/html": [
       "<div><style>\n",
       ".dataframe > thead > tr,\n",
       ".dataframe > tbody > tr {\n",
       "  text-align: right;\n",
       "  white-space: pre-wrap;\n",
       "}\n",
       "</style>\n",
       "<small>shape: (1, 10)</small><table border=\"1\" class=\"dataframe\"><thead><tr><th>Sigla</th><th>Nome</th><th>Ano/Semestre</th><th>AU</th><th>TR</th><th>AU+TR</th><th>EXT</th><th>FREQ</th><th>NOTA</th><th>student_id</th></tr><tr><td>u32</td><td>u32</td><td>u32</td><td>u32</td><td>u32</td><td>u32</td><td>u32</td><td>u32</td><td>u32</td><td>u32</td></tr></thead><tbody><tr><td>0</td><td>0</td><td>0</td><td>0</td><td>21</td><td>0</td><td>69</td><td>0</td><td>0</td><td>0</td></tr></tbody></table></div>"
      ],
      "text/plain": [
       "shape: (1, 10)\n",
       "┌───────┬──────┬──────────────┬─────┬───┬─────┬──────┬──────┬────────────┐\n",
       "│ Sigla ┆ Nome ┆ Ano/Semestre ┆ AU  ┆ … ┆ EXT ┆ FREQ ┆ NOTA ┆ student_id │\n",
       "│ ---   ┆ ---  ┆ ---          ┆ --- ┆   ┆ --- ┆ ---  ┆ ---  ┆ ---        │\n",
       "│ u32   ┆ u32  ┆ u32          ┆ u32 ┆   ┆ u32 ┆ u32  ┆ u32  ┆ u32        │\n",
       "╞═══════╪══════╪══════════════╪═════╪═══╪═════╪══════╪══════╪════════════╡\n",
       "│ 0     ┆ 0    ┆ 0            ┆ 0   ┆ … ┆ 69  ┆ 0    ┆ 0    ┆ 0          │\n",
       "└───────┴──────┴──────────────┴─────┴───┴─────┴──────┴──────┴────────────┘"
      ]
     },
     "metadata": {},
     "output_type": "display_data"
    },
    {
     "data": {
      "text/html": [
       "<div><style>\n",
       ".dataframe > thead > tr,\n",
       ".dataframe > tbody > tr {\n",
       "  text-align: right;\n",
       "  white-space: pre-wrap;\n",
       "}\n",
       "</style>\n",
       "<small>shape: (1, 10)</small><table border=\"1\" class=\"dataframe\"><thead><tr><th>Sigla</th><th>Ano/Semestre</th><th>Nome</th><th>AU</th><th>TR</th><th>AU+TR</th><th>EXT</th><th>FREQ</th><th>NOTA</th><th>student_id</th></tr><tr><td>u32</td><td>u32</td><td>u32</td><td>u32</td><td>u32</td><td>u32</td><td>u32</td><td>u32</td><td>u32</td><td>u32</td></tr></thead><tbody><tr><td>0</td><td>0</td><td>0</td><td>0</td><td>0</td><td>0</td><td>5</td><td>0</td><td>0</td><td>0</td></tr></tbody></table></div>"
      ],
      "text/plain": [
       "shape: (1, 10)\n",
       "┌───────┬──────────────┬──────┬─────┬───┬─────┬──────┬──────┬────────────┐\n",
       "│ Sigla ┆ Ano/Semestre ┆ Nome ┆ AU  ┆ … ┆ EXT ┆ FREQ ┆ NOTA ┆ student_id │\n",
       "│ ---   ┆ ---          ┆ ---  ┆ --- ┆   ┆ --- ┆ ---  ┆ ---  ┆ ---        │\n",
       "│ u32   ┆ u32          ┆ u32  ┆ u32 ┆   ┆ u32 ┆ u32  ┆ u32  ┆ u32        │\n",
       "╞═══════╪══════════════╪══════╪═════╪═══╪═════╪══════╪══════╪════════════╡\n",
       "│ 0     ┆ 0            ┆ 0    ┆ 0   ┆ … ┆ 5   ┆ 0    ┆ 0    ┆ 0          │\n",
       "└───────┴──────────────┴──────┴─────┴───┴─────┴──────┴──────┴────────────┘"
      ]
     },
     "metadata": {},
     "output_type": "display_data"
    },
    {
     "data": {
      "text/html": [
       "<div><style>\n",
       ".dataframe > thead > tr,\n",
       ".dataframe > tbody > tr {\n",
       "  text-align: right;\n",
       "  white-space: pre-wrap;\n",
       "}\n",
       "</style>\n",
       "<small>shape: (1, 10)</small><table border=\"1\" class=\"dataframe\"><thead><tr><th>Sigla</th><th>Ano/Semestre</th><th>Nome</th><th>AU</th><th>TR</th><th>AU+TR</th><th>EXT</th><th>FREQ</th><th>NOTA</th><th>student_id</th></tr><tr><td>u32</td><td>u32</td><td>u32</td><td>u32</td><td>u32</td><td>u32</td><td>u32</td><td>u32</td><td>u32</td><td>u32</td></tr></thead><tbody><tr><td>0</td><td>0</td><td>0</td><td>0</td><td>0</td><td>0</td><td>0</td><td>0</td><td>0</td><td>0</td></tr></tbody></table></div>"
      ],
      "text/plain": [
       "shape: (1, 10)\n",
       "┌───────┬──────────────┬──────┬─────┬───┬─────┬──────┬──────┬────────────┐\n",
       "│ Sigla ┆ Ano/Semestre ┆ Nome ┆ AU  ┆ … ┆ EXT ┆ FREQ ┆ NOTA ┆ student_id │\n",
       "│ ---   ┆ ---          ┆ ---  ┆ --- ┆   ┆ --- ┆ ---  ┆ ---  ┆ ---        │\n",
       "│ u32   ┆ u32          ┆ u32  ┆ u32 ┆   ┆ u32 ┆ u32  ┆ u32  ┆ u32        │\n",
       "╞═══════╪══════════════╪══════╪═════╪═══╪═════╪══════╪══════╪════════════╡\n",
       "│ 0     ┆ 0            ┆ 0    ┆ 0   ┆ … ┆ 0   ┆ 0    ┆ 0    ┆ 0          │\n",
       "└───────┴──────────────┴──────┴─────┴───┴─────┴──────┴──────┴────────────┘"
      ]
     },
     "metadata": {},
     "output_type": "display_data"
    }
   ],
   "source": [
    "for df in filtered_dfs:\n",
    "    display(df.null_count())"
   ]
  },
  {
   "cell_type": "code",
   "execution_count": 87,
   "id": "e883b0a8",
   "metadata": {},
   "outputs": [],
   "source": [
    "processed_tables = []\n",
    "\n",
    "for df in filtered_dfs:\n",
    "    df = df.with_columns(pl.all().fill_null(0))\n",
    "    processed_tables.append(df)"
   ]
  },
  {
   "cell_type": "code",
   "execution_count": 88,
   "id": "48ecd4a5",
   "metadata": {},
   "outputs": [
    {
     "data": {
      "text/html": [
       "<div><style>\n",
       ".dataframe > thead > tr,\n",
       ".dataframe > tbody > tr {\n",
       "  text-align: right;\n",
       "  white-space: pre-wrap;\n",
       "}\n",
       "</style>\n",
       "<small>shape: (39, 10)</small><table border=\"1\" class=\"dataframe\"><thead><tr><th>Sigla</th><th>Ano/Semestre</th><th>Nome</th><th>AU</th><th>TR</th><th>AU+TR</th><th>EXT</th><th>FREQ</th><th>NOTA</th><th>student_id</th></tr><tr><td>str</td><td>str</td><td>str</td><td>i64</td><td>i64</td><td>i64</td><td>i64</td><td>f64</td><td>f64</td><td>i32</td></tr></thead><tbody><tr><td>&quot;SCC0200&quot;</td><td>&quot;2023/1&quot;</td><td>&quot;Informação Profissional e Tuto…</td><td>2</td><td>0</td><td>2</td><td>30</td><td>100.0</td><td>10.0</td><td>3</td></tr><tr><td>&quot;SCC0221&quot;</td><td>&quot;2023/1&quot;</td><td>&quot;Introdução à Ciência de Comput…</td><td>4</td><td>1</td><td>5</td><td>90</td><td>100.0</td><td>8.4</td><td>3</td></tr><tr><td>&quot;SCC0222&quot;</td><td>&quot;2023/1&quot;</td><td>&quot;Laboratório de Introdução à Ci…</td><td>2</td><td>2</td><td>4</td><td>90</td><td>100.0</td><td>9.5</td><td>3</td></tr><tr><td>&quot;SMA0300&quot;</td><td>&quot;2023/1&quot;</td><td>&quot;Geometria Analítica&quot;</td><td>4</td><td>0</td><td>4</td><td>60</td><td>100.0</td><td>7.9</td><td>3</td></tr><tr><td>&quot;SMA0353&quot;</td><td>&quot;2023/1&quot;</td><td>&quot;Cálculo I&quot;</td><td>4</td><td>0</td><td>4</td><td>60</td><td>100.0</td><td>8.5</td><td>3</td></tr><tr><td>&hellip;</td><td>&hellip;</td><td>&hellip;</td><td>&hellip;</td><td>&hellip;</td><td>&hellip;</td><td>&hellip;</td><td>&hellip;</td><td>&hellip;</td><td>&hellip;</td></tr><tr><td>&quot;SCC0261&quot;</td><td>&quot;2025/1&quot;</td><td>&quot;Multimídia&quot;</td><td>2</td><td>0</td><td>2</td><td>30</td><td>87.0</td><td>9.3</td><td>3</td></tr><tr><td>&quot;SME0104&quot;</td><td>&quot;2025/1&quot;</td><td>&quot;Cálculo Numérico&quot;</td><td>4</td><td>0</td><td>4</td><td>60</td><td>90.0</td><td>7.0</td><td>3</td></tr><tr><td>&quot;SME0121&quot;</td><td>&quot;2025/1&quot;</td><td>&quot;Processos Estocásticos&quot;</td><td>4</td><td>0</td><td>4</td><td>60</td><td>100.0</td><td>8.2</td><td>3</td></tr><tr><td>&quot;SSC0130&quot;</td><td>&quot;2025/1&quot;</td><td>&quot;Engenharia de Software&quot;</td><td>4</td><td>1</td><td>5</td><td>90</td><td>100.0</td><td>9.4</td><td>3</td></tr><tr><td>&quot;SSC0142&quot;</td><td>&quot;2025/1&quot;</td><td>&quot;Redes de Computadores&quot;</td><td>4</td><td>2</td><td>6</td><td>120</td><td>80.0</td><td>7.8</td><td>3</td></tr></tbody></table></div>"
      ],
      "text/plain": [
       "shape: (39, 10)\n",
       "┌─────────┬──────────────┬─────────────────────────────┬─────┬───┬─────┬───────┬──────┬────────────┐\n",
       "│ Sigla   ┆ Ano/Semestre ┆ Nome                        ┆ AU  ┆ … ┆ EXT ┆ FREQ  ┆ NOTA ┆ student_id │\n",
       "│ ---     ┆ ---          ┆ ---                         ┆ --- ┆   ┆ --- ┆ ---   ┆ ---  ┆ ---        │\n",
       "│ str     ┆ str          ┆ str                         ┆ i64 ┆   ┆ i64 ┆ f64   ┆ f64  ┆ i32        │\n",
       "╞═════════╪══════════════╪═════════════════════════════╪═════╪═══╪═════╪═══════╪══════╪════════════╡\n",
       "│ SCC0200 ┆ 2023/1       ┆ Informação Profissional e   ┆ 2   ┆ … ┆ 30  ┆ 100.0 ┆ 10.0 ┆ 3          │\n",
       "│         ┆              ┆ Tuto…                       ┆     ┆   ┆     ┆       ┆      ┆            │\n",
       "│ SCC0221 ┆ 2023/1       ┆ Introdução à Ciência de     ┆ 4   ┆ … ┆ 90  ┆ 100.0 ┆ 8.4  ┆ 3          │\n",
       "│         ┆              ┆ Comput…                     ┆     ┆   ┆     ┆       ┆      ┆            │\n",
       "│ SCC0222 ┆ 2023/1       ┆ Laboratório de Introdução à ┆ 2   ┆ … ┆ 90  ┆ 100.0 ┆ 9.5  ┆ 3          │\n",
       "│         ┆              ┆ Ci…                         ┆     ┆   ┆     ┆       ┆      ┆            │\n",
       "│ SMA0300 ┆ 2023/1       ┆ Geometria Analítica         ┆ 4   ┆ … ┆ 60  ┆ 100.0 ┆ 7.9  ┆ 3          │\n",
       "│ SMA0353 ┆ 2023/1       ┆ Cálculo I                   ┆ 4   ┆ … ┆ 60  ┆ 100.0 ┆ 8.5  ┆ 3          │\n",
       "│ …       ┆ …            ┆ …                           ┆ …   ┆ … ┆ …   ┆ …     ┆ …    ┆ …          │\n",
       "│ SCC0261 ┆ 2025/1       ┆ Multimídia                  ┆ 2   ┆ … ┆ 30  ┆ 87.0  ┆ 9.3  ┆ 3          │\n",
       "│ SME0104 ┆ 2025/1       ┆ Cálculo Numérico            ┆ 4   ┆ … ┆ 60  ┆ 90.0  ┆ 7.0  ┆ 3          │\n",
       "│ SME0121 ┆ 2025/1       ┆ Processos Estocásticos      ┆ 4   ┆ … ┆ 60  ┆ 100.0 ┆ 8.2  ┆ 3          │\n",
       "│ SSC0130 ┆ 2025/1       ┆ Engenharia de Software      ┆ 4   ┆ … ┆ 90  ┆ 100.0 ┆ 9.4  ┆ 3          │\n",
       "│ SSC0142 ┆ 2025/1       ┆ Redes de Computadores       ┆ 4   ┆ … ┆ 120 ┆ 80.0  ┆ 7.8  ┆ 3          │\n",
       "└─────────┴──────────────┴─────────────────────────────┴─────┴───┴─────┴───────┴──────┴────────────┘"
      ]
     },
     "metadata": {},
     "output_type": "display_data"
    }
   ],
   "source": [
    "display(processed_tables[3])"
   ]
  },
  {
   "cell_type": "code",
   "execution_count": 89,
   "id": "09ee0295",
   "metadata": {},
   "outputs": [],
   "source": [
    "final_column_order = [\"Sigla\", \"Nome\", \"Ano/Semestre\", \"AU\", \"TR\", \"AU+TR\", \"EXT\", \"FREQ\", \"NOTA\", \"student_id\"]\n",
    "\n",
    "final_dfs = []\n",
    "for df in processed_tables:\n",
    "    df = df.select(final_column_order)\n",
    "    final_dfs.append(df)"
   ]
  },
  {
   "cell_type": "code",
   "execution_count": 90,
   "id": "58435829",
   "metadata": {},
   "outputs": [],
   "source": [
    "final_table = pl.concat(final_dfs)"
   ]
  },
  {
   "cell_type": "code",
   "execution_count": 91,
   "id": "c5d2279c",
   "metadata": {},
   "outputs": [
    {
     "data": {
      "text/html": [
       "<div><style>\n",
       ".dataframe > thead > tr,\n",
       ".dataframe > tbody > tr {\n",
       "  text-align: right;\n",
       "  white-space: pre-wrap;\n",
       "}\n",
       "</style>\n",
       "<small>shape: (224, 10)</small><table border=\"1\" class=\"dataframe\"><thead><tr><th>Sigla</th><th>Nome</th><th>Ano/Semestre</th><th>AU</th><th>TR</th><th>AU+TR</th><th>EXT</th><th>FREQ</th><th>NOTA</th><th>student_id</th></tr><tr><td>str</td><td>str</td><td>str</td><td>i64</td><td>i64</td><td>i64</td><td>i64</td><td>f64</td><td>f64</td><td>i32</td></tr></thead><tbody><tr><td>&quot;SCC0200&quot;</td><td>&quot;Informação Profissional e Tuto…</td><td>&quot;2023/1&quot;</td><td>2</td><td>0</td><td>2</td><td>30</td><td>100.0</td><td>10.0</td><td>0</td></tr><tr><td>&quot;SCC0221&quot;</td><td>&quot;Introdução à Ciência de Comput…</td><td>&quot;2023/1&quot;</td><td>4</td><td>1</td><td>5</td><td>90</td><td>97.0</td><td>9.0</td><td>0</td></tr><tr><td>&quot;SCC0222&quot;</td><td>&quot;Laboratório de Introdução à Ci…</td><td>&quot;2023/1&quot;</td><td>2</td><td>2</td><td>4</td><td>90</td><td>100.0</td><td>9.8</td><td>0</td></tr><tr><td>&quot;SMA0300&quot;</td><td>&quot;Geometria Analítica&quot;</td><td>&quot;2023/1&quot;</td><td>4</td><td>0</td><td>4</td><td>60</td><td>100.0</td><td>7.5</td><td>0</td></tr><tr><td>&quot;SMA0353&quot;</td><td>&quot;Cálculo I&quot;</td><td>&quot;2023/1&quot;</td><td>4</td><td>0</td><td>4</td><td>60</td><td>100.0</td><td>10.0</td><td>0</td></tr><tr><td>&hellip;</td><td>&hellip;</td><td>&hellip;</td><td>&hellip;</td><td>&hellip;</td><td>&hellip;</td><td>&hellip;</td><td>&hellip;</td><td>&hellip;</td><td>&hellip;</td></tr><tr><td>&quot;SME0104&quot;</td><td>&quot;Cálculo Numérico&quot;</td><td>&quot;2025/1&quot;</td><td>4</td><td>0</td><td>4</td><td>0</td><td>100.0</td><td>9.5</td><td>4</td></tr><tr><td>&quot;SME0121&quot;</td><td>&quot;Processos Estocásticos&quot;</td><td>&quot;2025/1&quot;</td><td>4</td><td>0</td><td>4</td><td>0</td><td>80.0</td><td>8.5</td><td>4</td></tr><tr><td>&quot;SME0130&quot;</td><td>&quot;Redes Complexas&quot;</td><td>&quot;2025/1&quot;</td><td>4</td><td>2</td><td>6</td><td>0</td><td>100.0</td><td>10.0</td><td>4</td></tr><tr><td>&quot;SSC0130&quot;</td><td>&quot;Engenharia de Software&quot;</td><td>&quot;2025/1&quot;</td><td>4</td><td>1</td><td>5</td><td>15</td><td>100.0</td><td>8.4</td><td>4</td></tr><tr><td>&quot;SSC0142&quot;</td><td>&quot;Redes de Computadores&quot;</td><td>&quot;2025/1&quot;</td><td>4</td><td>2</td><td>6</td><td>30</td><td>80.0</td><td>7.7</td><td>4</td></tr></tbody></table></div>"
      ],
      "text/plain": [
       "shape: (224, 10)\n",
       "┌─────────┬─────────────────────────────┬──────────────┬─────┬───┬─────┬───────┬──────┬────────────┐\n",
       "│ Sigla   ┆ Nome                        ┆ Ano/Semestre ┆ AU  ┆ … ┆ EXT ┆ FREQ  ┆ NOTA ┆ student_id │\n",
       "│ ---     ┆ ---                         ┆ ---          ┆ --- ┆   ┆ --- ┆ ---   ┆ ---  ┆ ---        │\n",
       "│ str     ┆ str                         ┆ str          ┆ i64 ┆   ┆ i64 ┆ f64   ┆ f64  ┆ i32        │\n",
       "╞═════════╪═════════════════════════════╪══════════════╪═════╪═══╪═════╪═══════╪══════╪════════════╡\n",
       "│ SCC0200 ┆ Informação Profissional e   ┆ 2023/1       ┆ 2   ┆ … ┆ 30  ┆ 100.0 ┆ 10.0 ┆ 0          │\n",
       "│         ┆ Tuto…                       ┆              ┆     ┆   ┆     ┆       ┆      ┆            │\n",
       "│ SCC0221 ┆ Introdução à Ciência de     ┆ 2023/1       ┆ 4   ┆ … ┆ 90  ┆ 97.0  ┆ 9.0  ┆ 0          │\n",
       "│         ┆ Comput…                     ┆              ┆     ┆   ┆     ┆       ┆      ┆            │\n",
       "│ SCC0222 ┆ Laboratório de Introdução à ┆ 2023/1       ┆ 2   ┆ … ┆ 90  ┆ 100.0 ┆ 9.8  ┆ 0          │\n",
       "│         ┆ Ci…                         ┆              ┆     ┆   ┆     ┆       ┆      ┆            │\n",
       "│ SMA0300 ┆ Geometria Analítica         ┆ 2023/1       ┆ 4   ┆ … ┆ 60  ┆ 100.0 ┆ 7.5  ┆ 0          │\n",
       "│ SMA0353 ┆ Cálculo I                   ┆ 2023/1       ┆ 4   ┆ … ┆ 60  ┆ 100.0 ┆ 10.0 ┆ 0          │\n",
       "│ …       ┆ …                           ┆ …            ┆ …   ┆ … ┆ …   ┆ …     ┆ …    ┆ …          │\n",
       "│ SME0104 ┆ Cálculo Numérico            ┆ 2025/1       ┆ 4   ┆ … ┆ 0   ┆ 100.0 ┆ 9.5  ┆ 4          │\n",
       "│ SME0121 ┆ Processos Estocásticos      ┆ 2025/1       ┆ 4   ┆ … ┆ 0   ┆ 80.0  ┆ 8.5  ┆ 4          │\n",
       "│ SME0130 ┆ Redes Complexas             ┆ 2025/1       ┆ 4   ┆ … ┆ 0   ┆ 100.0 ┆ 10.0 ┆ 4          │\n",
       "│ SSC0130 ┆ Engenharia de Software      ┆ 2025/1       ┆ 4   ┆ … ┆ 15  ┆ 100.0 ┆ 8.4  ┆ 4          │\n",
       "│ SSC0142 ┆ Redes de Computadores       ┆ 2025/1       ┆ 4   ┆ … ┆ 30  ┆ 80.0  ┆ 7.7  ┆ 4          │\n",
       "└─────────┴─────────────────────────────┴──────────────┴─────┴───┴─────┴───────┴──────┴────────────┘"
      ]
     },
     "metadata": {},
     "output_type": "display_data"
    }
   ],
   "source": [
    "display(final_table)"
   ]
  },
  {
   "cell_type": "code",
   "execution_count": 93,
   "id": "aedf1d2e",
   "metadata": {},
   "outputs": [],
   "source": [
    "final_table.write_csv(\"data/final_table.csv\")"
   ]
  }
 ],
 "metadata": {
  "kernelspec": {
   "display_name": "visualizacao (3.12.10)",
   "language": "python",
   "name": "python3"
  },
  "language_info": {
   "codemirror_mode": {
    "name": "ipython",
    "version": 3
   },
   "file_extension": ".py",
   "mimetype": "text/x-python",
   "name": "python",
   "nbconvert_exporter": "python",
   "pygments_lexer": "ipython3",
   "version": "3.12.10"
  }
 },
 "nbformat": 4,
 "nbformat_minor": 5
}
