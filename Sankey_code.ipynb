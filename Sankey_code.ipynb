{
 "cells": [
  {
   "cell_type": "markdown",
   "metadata": {},
   "source": [
    "# Sankey Diagram"
   ]
  },
  {
   "cell_type": "markdown",
   "metadata": {},
   "source": [
    "---"
   ]
  },
  {
   "cell_type": "markdown",
   "metadata": {
    "id": "F-gd78j4ox4M"
   },
   "source": [
    "## Exportação e importação (visualização em sankey)\n",
    "- Usando plotly"
   ]
  },
  {
   "cell_type": "markdown",
   "metadata": {},
   "source": [
    "### Tratamento dos dados\n",
    "\n",
    "* Pegando dataset de exportação e importação realizados no mundo no ano de 2024"
   ]
  },
  {
   "cell_type": "code",
   "execution_count": 2,
   "metadata": {
    "id": "FfBvhasAou7O"
   },
   "outputs": [],
   "source": [
    "import pandas as pd\n",
    "\n",
    "import plotly.graph_objects as go\n",
    "import plotly.express as px  #paletas\n",
    "\n",
    "d3_colors = px.colors.qualitative.D3"
   ]
  },
  {
   "cell_type": "code",
   "execution_count": 3,
   "metadata": {
    "id": "p-IAT41Pyqbn"
   },
   "outputs": [],
   "source": [
    "cols=[\n",
    "    'period','flowCode', 'reporterDesc', 'reporterISO', 'partnerDesc', 'partnerISO', 'refYear', 'primaryValue'\n",
    "]\n",
    "\n",
    "#lendo o dataset\n",
    "df = pd.read_excel(\"TradeData.xlsx\", usecols=cols) #todas exportações de 2024\n",
    "df.head()\n",
    "map_df = pd.read_csv(\"country_continent_full.csv\") #dataset de ISO/PAIS/CONTINENTE\n"
   ]
  },
  {
   "cell_type": "markdown",
   "metadata": {},
   "source": [
    "* Unindo o dataset das infos de ISO-continente com o df existente"
   ]
  },
  {
   "cell_type": "code",
   "execution_count": 4,
   "metadata": {
    "colab": {
     "base_uri": "https://localhost:8080/"
    },
    "id": "b879005a",
    "outputId": "0f9a3c5c-08a3-4f30-9e91-5501d03cc431"
   },
   "outputs": [
    {
     "data": {
      "text/html": [
       "<div>\n",
       "<style scoped>\n",
       "    .dataframe tbody tr th:only-of-type {\n",
       "        vertical-align: middle;\n",
       "    }\n",
       "\n",
       "    .dataframe tbody tr th {\n",
       "        vertical-align: top;\n",
       "    }\n",
       "\n",
       "    .dataframe thead th {\n",
       "        text-align: right;\n",
       "    }\n",
       "</style>\n",
       "<table border=\"1\" class=\"dataframe\">\n",
       "  <thead>\n",
       "    <tr style=\"text-align: right;\">\n",
       "      <th></th>\n",
       "      <th>refYear</th>\n",
       "      <th>period</th>\n",
       "      <th>reporterISO</th>\n",
       "      <th>reporterDesc</th>\n",
       "      <th>flowCode</th>\n",
       "      <th>partnerISO</th>\n",
       "      <th>partnerDesc</th>\n",
       "      <th>primaryValue</th>\n",
       "      <th>partner continent</th>\n",
       "    </tr>\n",
       "  </thead>\n",
       "  <tbody>\n",
       "    <tr>\n",
       "      <th>0</th>\n",
       "      <td>2024</td>\n",
       "      <td>2024</td>\n",
       "      <td>ALB</td>\n",
       "      <td>Albania</td>\n",
       "      <td>M</td>\n",
       "      <td>W00</td>\n",
       "      <td>World</td>\n",
       "      <td>9.604259e+09</td>\n",
       "      <td>NaN</td>\n",
       "    </tr>\n",
       "    <tr>\n",
       "      <th>1</th>\n",
       "      <td>2024</td>\n",
       "      <td>2024</td>\n",
       "      <td>ALB</td>\n",
       "      <td>Albania</td>\n",
       "      <td>M</td>\n",
       "      <td>AFG</td>\n",
       "      <td>Afghanistan</td>\n",
       "      <td>5.307800e+02</td>\n",
       "      <td>Other/Unknown</td>\n",
       "    </tr>\n",
       "    <tr>\n",
       "      <th>2</th>\n",
       "      <td>2024</td>\n",
       "      <td>2024</td>\n",
       "      <td>ALB</td>\n",
       "      <td>Albania</td>\n",
       "      <td>M</td>\n",
       "      <td>ATA</td>\n",
       "      <td>Antarctica</td>\n",
       "      <td>6.387660e+02</td>\n",
       "      <td>Other/Unknown</td>\n",
       "    </tr>\n",
       "    <tr>\n",
       "      <th>3</th>\n",
       "      <td>2024</td>\n",
       "      <td>2024</td>\n",
       "      <td>ALB</td>\n",
       "      <td>Albania</td>\n",
       "      <td>M</td>\n",
       "      <td>DZA</td>\n",
       "      <td>Algeria</td>\n",
       "      <td>7.587345e+07</td>\n",
       "      <td>Africa</td>\n",
       "    </tr>\n",
       "    <tr>\n",
       "      <th>4</th>\n",
       "      <td>2024</td>\n",
       "      <td>2024</td>\n",
       "      <td>ALB</td>\n",
       "      <td>Albania</td>\n",
       "      <td>M</td>\n",
       "      <td>ASM</td>\n",
       "      <td>American Samoa</td>\n",
       "      <td>4.946630e+03</td>\n",
       "      <td>Other/Unknown</td>\n",
       "    </tr>\n",
       "  </tbody>\n",
       "</table>\n",
       "</div>"
      ],
      "text/plain": [
       "   refYear  period reporterISO reporterDesc flowCode partnerISO  \\\n",
       "0     2024    2024         ALB      Albania        M        W00   \n",
       "1     2024    2024         ALB      Albania        M        AFG   \n",
       "2     2024    2024         ALB      Albania        M        ATA   \n",
       "3     2024    2024         ALB      Albania        M        DZA   \n",
       "4     2024    2024         ALB      Albania        M        ASM   \n",
       "\n",
       "      partnerDesc  primaryValue partner continent  \n",
       "0           World  9.604259e+09               NaN  \n",
       "1     Afghanistan  5.307800e+02     Other/Unknown  \n",
       "2      Antarctica  6.387660e+02     Other/Unknown  \n",
       "3         Algeria  7.587345e+07            Africa  \n",
       "4  American Samoa  4.946630e+03     Other/Unknown  "
      ]
     },
     "metadata": {},
     "output_type": "display_data"
    }
   ],
   "source": [
    "# Merge df e map_df \n",
    "df = pd.merge(df, map_df, left_on='partnerISO', right_on='ISO3', how='left')\n",
    "\n",
    "df.rename(columns={'Continent': 'partner continent'}, inplace=True)\n",
    "\n",
    "df.drop(['Country','ISO3'], axis=1, inplace=True)\n",
    "\n",
    "display(df.head())"
   ]
  },
  {
   "cell_type": "code",
   "execution_count": 5,
   "metadata": {
    "colab": {
     "base_uri": "https://localhost:8080/"
    },
    "id": "7qzPxpVF40g1",
    "outputId": "677ac93f-0e4e-422a-f43c-3919e1b0a796"
   },
   "outputs": [
    {
     "data": {
      "text/html": [
       "<div>\n",
       "<style scoped>\n",
       "    .dataframe tbody tr th:only-of-type {\n",
       "        vertical-align: middle;\n",
       "    }\n",
       "\n",
       "    .dataframe tbody tr th {\n",
       "        vertical-align: top;\n",
       "    }\n",
       "\n",
       "    .dataframe thead th {\n",
       "        text-align: right;\n",
       "    }\n",
       "</style>\n",
       "<table border=\"1\" class=\"dataframe\">\n",
       "  <thead>\n",
       "    <tr style=\"text-align: right;\">\n",
       "      <th></th>\n",
       "      <th>refYear</th>\n",
       "      <th>period</th>\n",
       "      <th>reporterISO</th>\n",
       "      <th>reporterDesc</th>\n",
       "      <th>flowCode</th>\n",
       "      <th>partnerISO</th>\n",
       "      <th>partnerDesc</th>\n",
       "      <th>primaryValue</th>\n",
       "      <th>partner continent</th>\n",
       "    </tr>\n",
       "  </thead>\n",
       "  <tbody>\n",
       "    <tr>\n",
       "      <th>4381</th>\n",
       "      <td>2024</td>\n",
       "      <td>2024</td>\n",
       "      <td>BRA</td>\n",
       "      <td>Brazil</td>\n",
       "      <td>X</td>\n",
       "      <td>AFG</td>\n",
       "      <td>Afghanistan</td>\n",
       "      <td>3.098084e+06</td>\n",
       "      <td>Other/Unknown</td>\n",
       "    </tr>\n",
       "    <tr>\n",
       "      <th>4382</th>\n",
       "      <td>2024</td>\n",
       "      <td>2024</td>\n",
       "      <td>BRA</td>\n",
       "      <td>Brazil</td>\n",
       "      <td>X</td>\n",
       "      <td>ALB</td>\n",
       "      <td>Albania</td>\n",
       "      <td>1.005799e+08</td>\n",
       "      <td>Europe</td>\n",
       "    </tr>\n",
       "    <tr>\n",
       "      <th>4383</th>\n",
       "      <td>2024</td>\n",
       "      <td>2024</td>\n",
       "      <td>BRA</td>\n",
       "      <td>Brazil</td>\n",
       "      <td>X</td>\n",
       "      <td>ATA</td>\n",
       "      <td>Antarctica</td>\n",
       "      <td>1.272530e+05</td>\n",
       "      <td>Other/Unknown</td>\n",
       "    </tr>\n",
       "    <tr>\n",
       "      <th>4384</th>\n",
       "      <td>2024</td>\n",
       "      <td>2024</td>\n",
       "      <td>BRA</td>\n",
       "      <td>Brazil</td>\n",
       "      <td>X</td>\n",
       "      <td>DZA</td>\n",
       "      <td>Algeria</td>\n",
       "      <td>2.567007e+09</td>\n",
       "      <td>Africa</td>\n",
       "    </tr>\n",
       "    <tr>\n",
       "      <th>4385</th>\n",
       "      <td>2024</td>\n",
       "      <td>2024</td>\n",
       "      <td>BRA</td>\n",
       "      <td>Brazil</td>\n",
       "      <td>X</td>\n",
       "      <td>ASM</td>\n",
       "      <td>American Samoa</td>\n",
       "      <td>8.736590e+05</td>\n",
       "      <td>Other/Unknown</td>\n",
       "    </tr>\n",
       "  </tbody>\n",
       "</table>\n",
       "</div>"
      ],
      "text/plain": [
       "      refYear  period reporterISO reporterDesc flowCode partnerISO  \\\n",
       "4381     2024    2024         BRA       Brazil        X        AFG   \n",
       "4382     2024    2024         BRA       Brazil        X        ALB   \n",
       "4383     2024    2024         BRA       Brazil        X        ATA   \n",
       "4384     2024    2024         BRA       Brazil        X        DZA   \n",
       "4385     2024    2024         BRA       Brazil        X        ASM   \n",
       "\n",
       "         partnerDesc  primaryValue partner continent  \n",
       "4381     Afghanistan  3.098084e+06     Other/Unknown  \n",
       "4382         Albania  1.005799e+08            Europe  \n",
       "4383      Antarctica  1.272530e+05     Other/Unknown  \n",
       "4384         Algeria  2.567007e+09            Africa  \n",
       "4385  American Samoa  8.736590e+05     Other/Unknown  "
      ]
     },
     "execution_count": 5,
     "metadata": {},
     "output_type": "execute_result"
    }
   ],
   "source": [
    "#Todas as exportações do Brasil\n",
    "\n",
    "brazilExp = df[(df['reporterISO'] == 'BRA') & (df['flowCode'] == 'X') & (df['partnerISO'] != 'W00')]\n",
    "brazilImp = df[(df['reporterISO'] == 'BRA') & (df['flowCode'] == 'M') & (df['partnerISO'] != 'W00')]\n",
    "\n",
    "brazilExp.head()"
   ]
  },
  {
   "cell_type": "markdown",
   "metadata": {
    "id": "3Y4zv8WD78kt"
   },
   "source": [
    "##  \n",
    "\n",
    "#### 1. Primeira visualização: exportação brasil -> seus top n parceiros "
   ]
  },
  {
   "cell_type": "code",
   "execution_count": 6,
   "metadata": {
    "colab": {
     "base_uri": "https://localhost:8080/",
     "height": 542
    },
    "id": "NLDXwqtq9VRV",
    "outputId": "599f14ff-9930-42f0-efd7-deb5ef06d9b7"
   },
   "outputs": [
    {
     "data": {
      "application/vnd.plotly.v1+json": {
       "config": {
        "plotlyServerURL": "https://plot.ly"
       },
       "data": [
        {
         "link": {
          "color": [
           "rgba(31,119,180,0.5)",
           "rgba(31,119,180,0.5)",
           "rgba(31,119,180,0.5)",
           "rgba(31,119,180,0.5)",
           "rgba(31,119,180,0.5)",
           "rgba(31,119,180,0.5)",
           "rgba(31,119,180,0.5)",
           "rgba(31,119,180,0.5)",
           "rgba(31,119,180,0.5)",
           "rgba(31,119,180,0.5)",
           "rgba(31,119,180,0.5)",
           "rgba(31,119,180,0.5)",
           "rgba(31,119,180,0.5)",
           "rgba(31,119,180,0.5)",
           "rgba(31,119,180,0.5)"
          ],
          "source": [
           0,
           0,
           0,
           0,
           0,
           0,
           0,
           0,
           0,
           0,
           0,
           0,
           0,
           0,
           0
          ],
          "target": [
           1,
           2,
           3,
           4,
           5,
           6,
           7,
           8,
           9,
           10,
           11,
           12,
           13,
           14,
           15
          ],
          "value": [
           94411140802,
           40916672535,
           13778181666,
           11764043341,
           9936770335,
           7902426238,
           7801789195,
           6658098288,
           6316853569,
           5852295628,
           5577998685,
           5508091295,
           5260909480,
           4543655263,
           4487454436
          ]
         },
         "node": {
          "color": [
           "#1F77B4",
           "#FF7F0E",
           "#2CA02C",
           "#D62728",
           "#9467BD",
           "#8C564B",
           "#E377C2",
           "#7F7F7F",
           "#BCBD22",
           "#17BECF",
           "#1F77B4",
           "#FF7F0E",
           "#2CA02C",
           "#D62728",
           "#9467BD",
           "#8C564B"
          ],
          "label": [
           "Brazil",
           "China",
           "USA",
           "Argentina",
           "Netherlands",
           "Spain",
           "Singapore",
           "Mexico",
           "Chile",
           "Canada",
           "Germany",
           "Japan",
           "Rep. of Korea",
           "India",
           "United Arab Emirates",
           "Indonesia"
          ],
          "line": {
           "color": "black",
           "width": 0.5
          },
          "pad": 15,
          "thickness": 20
         },
         "type": "sankey"
        }
       ],
       "layout": {
        "font": {
         "size": 12
        },
        "template": {
         "data": {
          "bar": [
           {
            "error_x": {
             "color": "#2a3f5f"
            },
            "error_y": {
             "color": "#2a3f5f"
            },
            "marker": {
             "line": {
              "color": "#E5ECF6",
              "width": 0.5
             },
             "pattern": {
              "fillmode": "overlay",
              "size": 10,
              "solidity": 0.2
             }
            },
            "type": "bar"
           }
          ],
          "barpolar": [
           {
            "marker": {
             "line": {
              "color": "#E5ECF6",
              "width": 0.5
             },
             "pattern": {
              "fillmode": "overlay",
              "size": 10,
              "solidity": 0.2
             }
            },
            "type": "barpolar"
           }
          ],
          "carpet": [
           {
            "aaxis": {
             "endlinecolor": "#2a3f5f",
             "gridcolor": "white",
             "linecolor": "white",
             "minorgridcolor": "white",
             "startlinecolor": "#2a3f5f"
            },
            "baxis": {
             "endlinecolor": "#2a3f5f",
             "gridcolor": "white",
             "linecolor": "white",
             "minorgridcolor": "white",
             "startlinecolor": "#2a3f5f"
            },
            "type": "carpet"
           }
          ],
          "choropleth": [
           {
            "colorbar": {
             "outlinewidth": 0,
             "ticks": ""
            },
            "type": "choropleth"
           }
          ],
          "contour": [
           {
            "colorbar": {
             "outlinewidth": 0,
             "ticks": ""
            },
            "colorscale": [
             [
              0,
              "#0d0887"
             ],
             [
              0.1111111111111111,
              "#46039f"
             ],
             [
              0.2222222222222222,
              "#7201a8"
             ],
             [
              0.3333333333333333,
              "#9c179e"
             ],
             [
              0.4444444444444444,
              "#bd3786"
             ],
             [
              0.5555555555555556,
              "#d8576b"
             ],
             [
              0.6666666666666666,
              "#ed7953"
             ],
             [
              0.7777777777777778,
              "#fb9f3a"
             ],
             [
              0.8888888888888888,
              "#fdca26"
             ],
             [
              1,
              "#f0f921"
             ]
            ],
            "type": "contour"
           }
          ],
          "contourcarpet": [
           {
            "colorbar": {
             "outlinewidth": 0,
             "ticks": ""
            },
            "type": "contourcarpet"
           }
          ],
          "heatmap": [
           {
            "colorbar": {
             "outlinewidth": 0,
             "ticks": ""
            },
            "colorscale": [
             [
              0,
              "#0d0887"
             ],
             [
              0.1111111111111111,
              "#46039f"
             ],
             [
              0.2222222222222222,
              "#7201a8"
             ],
             [
              0.3333333333333333,
              "#9c179e"
             ],
             [
              0.4444444444444444,
              "#bd3786"
             ],
             [
              0.5555555555555556,
              "#d8576b"
             ],
             [
              0.6666666666666666,
              "#ed7953"
             ],
             [
              0.7777777777777778,
              "#fb9f3a"
             ],
             [
              0.8888888888888888,
              "#fdca26"
             ],
             [
              1,
              "#f0f921"
             ]
            ],
            "type": "heatmap"
           }
          ],
          "histogram": [
           {
            "marker": {
             "pattern": {
              "fillmode": "overlay",
              "size": 10,
              "solidity": 0.2
             }
            },
            "type": "histogram"
           }
          ],
          "histogram2d": [
           {
            "colorbar": {
             "outlinewidth": 0,
             "ticks": ""
            },
            "colorscale": [
             [
              0,
              "#0d0887"
             ],
             [
              0.1111111111111111,
              "#46039f"
             ],
             [
              0.2222222222222222,
              "#7201a8"
             ],
             [
              0.3333333333333333,
              "#9c179e"
             ],
             [
              0.4444444444444444,
              "#bd3786"
             ],
             [
              0.5555555555555556,
              "#d8576b"
             ],
             [
              0.6666666666666666,
              "#ed7953"
             ],
             [
              0.7777777777777778,
              "#fb9f3a"
             ],
             [
              0.8888888888888888,
              "#fdca26"
             ],
             [
              1,
              "#f0f921"
             ]
            ],
            "type": "histogram2d"
           }
          ],
          "histogram2dcontour": [
           {
            "colorbar": {
             "outlinewidth": 0,
             "ticks": ""
            },
            "colorscale": [
             [
              0,
              "#0d0887"
             ],
             [
              0.1111111111111111,
              "#46039f"
             ],
             [
              0.2222222222222222,
              "#7201a8"
             ],
             [
              0.3333333333333333,
              "#9c179e"
             ],
             [
              0.4444444444444444,
              "#bd3786"
             ],
             [
              0.5555555555555556,
              "#d8576b"
             ],
             [
              0.6666666666666666,
              "#ed7953"
             ],
             [
              0.7777777777777778,
              "#fb9f3a"
             ],
             [
              0.8888888888888888,
              "#fdca26"
             ],
             [
              1,
              "#f0f921"
             ]
            ],
            "type": "histogram2dcontour"
           }
          ],
          "mesh3d": [
           {
            "colorbar": {
             "outlinewidth": 0,
             "ticks": ""
            },
            "type": "mesh3d"
           }
          ],
          "parcoords": [
           {
            "line": {
             "colorbar": {
              "outlinewidth": 0,
              "ticks": ""
             }
            },
            "type": "parcoords"
           }
          ],
          "pie": [
           {
            "automargin": true,
            "type": "pie"
           }
          ],
          "scatter": [
           {
            "fillpattern": {
             "fillmode": "overlay",
             "size": 10,
             "solidity": 0.2
            },
            "type": "scatter"
           }
          ],
          "scatter3d": [
           {
            "line": {
             "colorbar": {
              "outlinewidth": 0,
              "ticks": ""
             }
            },
            "marker": {
             "colorbar": {
              "outlinewidth": 0,
              "ticks": ""
             }
            },
            "type": "scatter3d"
           }
          ],
          "scattercarpet": [
           {
            "marker": {
             "colorbar": {
              "outlinewidth": 0,
              "ticks": ""
             }
            },
            "type": "scattercarpet"
           }
          ],
          "scattergeo": [
           {
            "marker": {
             "colorbar": {
              "outlinewidth": 0,
              "ticks": ""
             }
            },
            "type": "scattergeo"
           }
          ],
          "scattergl": [
           {
            "marker": {
             "colorbar": {
              "outlinewidth": 0,
              "ticks": ""
             }
            },
            "type": "scattergl"
           }
          ],
          "scattermap": [
           {
            "marker": {
             "colorbar": {
              "outlinewidth": 0,
              "ticks": ""
             }
            },
            "type": "scattermap"
           }
          ],
          "scattermapbox": [
           {
            "marker": {
             "colorbar": {
              "outlinewidth": 0,
              "ticks": ""
             }
            },
            "type": "scattermapbox"
           }
          ],
          "scatterpolar": [
           {
            "marker": {
             "colorbar": {
              "outlinewidth": 0,
              "ticks": ""
             }
            },
            "type": "scatterpolar"
           }
          ],
          "scatterpolargl": [
           {
            "marker": {
             "colorbar": {
              "outlinewidth": 0,
              "ticks": ""
             }
            },
            "type": "scatterpolargl"
           }
          ],
          "scatterternary": [
           {
            "marker": {
             "colorbar": {
              "outlinewidth": 0,
              "ticks": ""
             }
            },
            "type": "scatterternary"
           }
          ],
          "surface": [
           {
            "colorbar": {
             "outlinewidth": 0,
             "ticks": ""
            },
            "colorscale": [
             [
              0,
              "#0d0887"
             ],
             [
              0.1111111111111111,
              "#46039f"
             ],
             [
              0.2222222222222222,
              "#7201a8"
             ],
             [
              0.3333333333333333,
              "#9c179e"
             ],
             [
              0.4444444444444444,
              "#bd3786"
             ],
             [
              0.5555555555555556,
              "#d8576b"
             ],
             [
              0.6666666666666666,
              "#ed7953"
             ],
             [
              0.7777777777777778,
              "#fb9f3a"
             ],
             [
              0.8888888888888888,
              "#fdca26"
             ],
             [
              1,
              "#f0f921"
             ]
            ],
            "type": "surface"
           }
          ],
          "table": [
           {
            "cells": {
             "fill": {
              "color": "#EBF0F8"
             },
             "line": {
              "color": "white"
             }
            },
            "header": {
             "fill": {
              "color": "#C8D4E3"
             },
             "line": {
              "color": "white"
             }
            },
            "type": "table"
           }
          ]
         },
         "layout": {
          "annotationdefaults": {
           "arrowcolor": "#2a3f5f",
           "arrowhead": 0,
           "arrowwidth": 1
          },
          "autotypenumbers": "strict",
          "coloraxis": {
           "colorbar": {
            "outlinewidth": 0,
            "ticks": ""
           }
          },
          "colorscale": {
           "diverging": [
            [
             0,
             "#8e0152"
            ],
            [
             0.1,
             "#c51b7d"
            ],
            [
             0.2,
             "#de77ae"
            ],
            [
             0.3,
             "#f1b6da"
            ],
            [
             0.4,
             "#fde0ef"
            ],
            [
             0.5,
             "#f7f7f7"
            ],
            [
             0.6,
             "#e6f5d0"
            ],
            [
             0.7,
             "#b8e186"
            ],
            [
             0.8,
             "#7fbc41"
            ],
            [
             0.9,
             "#4d9221"
            ],
            [
             1,
             "#276419"
            ]
           ],
           "sequential": [
            [
             0,
             "#0d0887"
            ],
            [
             0.1111111111111111,
             "#46039f"
            ],
            [
             0.2222222222222222,
             "#7201a8"
            ],
            [
             0.3333333333333333,
             "#9c179e"
            ],
            [
             0.4444444444444444,
             "#bd3786"
            ],
            [
             0.5555555555555556,
             "#d8576b"
            ],
            [
             0.6666666666666666,
             "#ed7953"
            ],
            [
             0.7777777777777778,
             "#fb9f3a"
            ],
            [
             0.8888888888888888,
             "#fdca26"
            ],
            [
             1,
             "#f0f921"
            ]
           ],
           "sequentialminus": [
            [
             0,
             "#0d0887"
            ],
            [
             0.1111111111111111,
             "#46039f"
            ],
            [
             0.2222222222222222,
             "#7201a8"
            ],
            [
             0.3333333333333333,
             "#9c179e"
            ],
            [
             0.4444444444444444,
             "#bd3786"
            ],
            [
             0.5555555555555556,
             "#d8576b"
            ],
            [
             0.6666666666666666,
             "#ed7953"
            ],
            [
             0.7777777777777778,
             "#fb9f3a"
            ],
            [
             0.8888888888888888,
             "#fdca26"
            ],
            [
             1,
             "#f0f921"
            ]
           ]
          },
          "colorway": [
           "#636efa",
           "#EF553B",
           "#00cc96",
           "#ab63fa",
           "#FFA15A",
           "#19d3f3",
           "#FF6692",
           "#B6E880",
           "#FF97FF",
           "#FECB52"
          ],
          "font": {
           "color": "#2a3f5f"
          },
          "geo": {
           "bgcolor": "white",
           "lakecolor": "white",
           "landcolor": "#E5ECF6",
           "showlakes": true,
           "showland": true,
           "subunitcolor": "white"
          },
          "hoverlabel": {
           "align": "left"
          },
          "hovermode": "closest",
          "mapbox": {
           "style": "light"
          },
          "paper_bgcolor": "white",
          "plot_bgcolor": "#E5ECF6",
          "polar": {
           "angularaxis": {
            "gridcolor": "white",
            "linecolor": "white",
            "ticks": ""
           },
           "bgcolor": "#E5ECF6",
           "radialaxis": {
            "gridcolor": "white",
            "linecolor": "white",
            "ticks": ""
           }
          },
          "scene": {
           "xaxis": {
            "backgroundcolor": "#E5ECF6",
            "gridcolor": "white",
            "gridwidth": 2,
            "linecolor": "white",
            "showbackground": true,
            "ticks": "",
            "zerolinecolor": "white"
           },
           "yaxis": {
            "backgroundcolor": "#E5ECF6",
            "gridcolor": "white",
            "gridwidth": 2,
            "linecolor": "white",
            "showbackground": true,
            "ticks": "",
            "zerolinecolor": "white"
           },
           "zaxis": {
            "backgroundcolor": "#E5ECF6",
            "gridcolor": "white",
            "gridwidth": 2,
            "linecolor": "white",
            "showbackground": true,
            "ticks": "",
            "zerolinecolor": "white"
           }
          },
          "shapedefaults": {
           "line": {
            "color": "#2a3f5f"
           }
          },
          "ternary": {
           "aaxis": {
            "gridcolor": "white",
            "linecolor": "white",
            "ticks": ""
           },
           "baxis": {
            "gridcolor": "white",
            "linecolor": "white",
            "ticks": ""
           },
           "bgcolor": "#E5ECF6",
           "caxis": {
            "gridcolor": "white",
            "linecolor": "white",
            "ticks": ""
           }
          },
          "title": {
           "x": 0.05
          },
          "xaxis": {
           "automargin": true,
           "gridcolor": "white",
           "linecolor": "white",
           "ticks": "",
           "title": {
            "standoff": 15
           },
           "zerolinecolor": "white",
           "zerolinewidth": 2
          },
          "yaxis": {
           "automargin": true,
           "gridcolor": "white",
           "linecolor": "white",
           "ticks": "",
           "title": {
            "standoff": 15
           },
           "zerolinecolor": "white",
           "zerolinewidth": 2
          }
         }
        },
        "title": {
         "text": " 🌎 Exportações do Brasil - Top 15 Parceiros"
        }
       }
      }
     },
     "metadata": {},
     "output_type": "display_data"
    }
   ],
   "source": [
    "# Filtrar Brasil exportações\n",
    "brazilExp = df[(df['reporterISO'] == 'BRA') &\n",
    "               (df['flowCode'] == 'X') &\n",
    "               (df['partnerISO'] != 'W00')]\n",
    "\n",
    "# Top n parceiros por valor\n",
    "n = 15\n",
    "\n",
    "top_partners = brazilExp.groupby(\"partnerDesc\")[\"primaryValue\"].sum().nlargest(n).reset_index()\n",
    "\n",
    "# Criar labels (Brasil + parceiros)\n",
    "labels = [\"Brazil\"] + top_partners[\"partnerDesc\"].tolist()\n",
    "\n",
    "# Links\n",
    "source = [0] * len(top_partners)  # sempre Brasil\n",
    "target = list(range(1, len(labels)))  # cada parceiro\n",
    "value = top_partners[\"primaryValue\"].tolist()\n",
    "\n",
    "\n",
    "\n",
    "def hex_to_rgba(hex_color: str, alpha: float = 0.5) -> str:\n",
    "    h = hex_color.lstrip('#')\n",
    "    r, g, b = int(h[0:2], 16), int(h[2:4], 16), int(h[4:6], 16)\n",
    "    return f'rgba({r},{g},{b},{alpha})'\n",
    "\n",
    "palette = {label: d3_colors[i % len(d3_colors)] for i, label in enumerate(labels)}\n",
    "\n",
    "# cores dos nós na mesma ordem de 'labels'\n",
    "node_colors = [palette[label] for label in labels]\n",
    "\n",
    "# cores dos links herdando a cor do nó de origem (links_source são índices de 'labels')\n",
    "link_colors = [hex_to_rgba(palette[labels[s]], 0.5) for s in source]\n",
    "\n",
    "\n",
    "# Construir Sankey\n",
    "fig = go.Figure(data=[go.Sankey(\n",
    "    node=dict(\n",
    "        pad=15,\n",
    "        thickness=20,\n",
    "        line=dict(color=\"black\", width=0.5),\n",
    "        label=labels,\n",
    "        color=node_colors\n",
    "    ),\n",
    "    link=dict(\n",
    "        source=source,\n",
    "        target=target,\n",
    "        value=value,\n",
    "        color=link_colors\n",
    "    )\n",
    ")])\n",
    "\n",
    "fig.update_layout(title_text=f\" 🌎 Exportações do Brasil - Top {n} Parceiros\", font_size=12)\n",
    "fig.show()\n"
   ]
  },
  {
   "cell_type": "markdown",
   "metadata": {},
   "source": [
    "#### 2. Adicionando mais um nó ao grafico, permitindo informação de quantidade exportada por continente e por pais"
   ]
  },
  {
   "cell_type": "code",
   "execution_count": 7,
   "metadata": {
    "colab": {
     "base_uri": "https://localhost:8080/",
     "height": 542
    },
    "id": "FOfQEiKd_FMe",
    "outputId": "3d0f4698-7690-4466-f522-6df71726cc76"
   },
   "outputs": [
    {
     "data": {
      "application/vnd.plotly.v1+json": {
       "config": {
        "plotlyServerURL": "https://plot.ly"
       },
       "data": [
        {
         "link": {
          "color": [
           "rgba(31,119,180,0.5)",
           "rgba(31,119,180,0.5)",
           "rgba(31,119,180,0.5)",
           "rgba(31,119,180,0.5)",
           "rgba(31,119,180,0.5)",
           "rgba(31,119,180,0.5)",
           "rgba(255,127,14,0.5)",
           "rgba(44,160,44,0.5)",
           "rgba(214,39,40,0.5)",
           "rgba(148,103,189,0.5)",
           "rgba(148,103,189,0.5)",
           "rgba(255,127,14,0.5)",
           "rgba(44,160,44,0.5)",
           "rgba(214,39,40,0.5)",
           "rgba(44,160,44,0.5)",
           "rgba(148,103,189,0.5)",
           "rgba(255,127,14,0.5)",
           "rgba(255,127,14,0.5)",
           "rgba(255,127,14,0.5)",
           "rgba(140,86,75,0.5)",
           "rgba(255,127,14,0.5)",
           "rgba(148,103,189,0.5)",
           "rgba(255,127,14,0.5)",
           "rgba(255,127,14,0.5)",
           "rgba(227,119,194,0.5)",
           "rgba(148,103,189,0.5)"
          ],
          "source": [
           0,
           0,
           0,
           0,
           0,
           0,
           1,
           2,
           3,
           4,
           4,
           1,
           2,
           3,
           2,
           4,
           1,
           1,
           1,
           5,
           1,
           4,
           1,
           1,
           6,
           4
          ],
          "target": [
           1,
           2,
           3,
           4,
           5,
           6,
           7,
           8,
           9,
           10,
           11,
           12,
           13,
           14,
           15,
           16,
           17,
           18,
           19,
           20,
           21,
           22,
           23,
           24,
           25,
           26
          ],
          "value": [
           131513817769,
           55035315299,
           20436279954,
           35935197276,
           4543655263,
           3996647676,
           94411140802,
           40916672535,
           13778181666,
           11764043341,
           9936770335,
           7902426238,
           7801789195,
           6658098288,
           6316853569,
           5852295628,
           5577998685,
           5508091295,
           5260909480,
           4543655263,
           4487454436,
           4466598272,
           4318735523,
           4047061310,
           3996647676,
           3915489700
          ]
         },
         "node": {
          "color": [
           "#1F77B4",
           "#FF7F0E",
           "#2CA02C",
           "#D62728",
           "#9467BD",
           "#8C564B",
           "#E377C2",
           "#7F7F7F",
           "#BCBD22",
           "#17BECF",
           "#1F77B4",
           "#FF7F0E",
           "#2CA02C",
           "#D62728",
           "#9467BD",
           "#8C564B",
           "#E377C2",
           "#7F7F7F",
           "#BCBD22",
           "#17BECF",
           "#1F77B4",
           "#FF7F0E",
           "#2CA02C",
           "#D62728",
           "#9467BD",
           "#8C564B",
           "#E377C2"
          ],
          "label": [
           "Brazil",
           "Asia",
           "North America",
           "South America",
           "Europe",
           "Other/Unknown",
           "Africa",
           "China",
           "USA",
           "Argentina",
           "Netherlands",
           "Spain",
           "Singapore",
           "Mexico",
           "Chile",
           "Canada",
           "Germany",
           "Japan",
           "Rep. of Korea",
           "India",
           "United Arab Emirates",
           "Indonesia",
           "Italy",
           "Malaysia",
           "Viet Nam",
           "Egypt",
           "Belgium"
          ],
          "line": {
           "color": "black",
           "width": 0.5
          },
          "pad": 20,
          "thickness": 20
         },
         "type": "sankey"
        }
       ],
       "layout": {
        "font": {
         "size": 12
        },
        "template": {
         "data": {
          "bar": [
           {
            "error_x": {
             "color": "#2a3f5f"
            },
            "error_y": {
             "color": "#2a3f5f"
            },
            "marker": {
             "line": {
              "color": "#E5ECF6",
              "width": 0.5
             },
             "pattern": {
              "fillmode": "overlay",
              "size": 10,
              "solidity": 0.2
             }
            },
            "type": "bar"
           }
          ],
          "barpolar": [
           {
            "marker": {
             "line": {
              "color": "#E5ECF6",
              "width": 0.5
             },
             "pattern": {
              "fillmode": "overlay",
              "size": 10,
              "solidity": 0.2
             }
            },
            "type": "barpolar"
           }
          ],
          "carpet": [
           {
            "aaxis": {
             "endlinecolor": "#2a3f5f",
             "gridcolor": "white",
             "linecolor": "white",
             "minorgridcolor": "white",
             "startlinecolor": "#2a3f5f"
            },
            "baxis": {
             "endlinecolor": "#2a3f5f",
             "gridcolor": "white",
             "linecolor": "white",
             "minorgridcolor": "white",
             "startlinecolor": "#2a3f5f"
            },
            "type": "carpet"
           }
          ],
          "choropleth": [
           {
            "colorbar": {
             "outlinewidth": 0,
             "ticks": ""
            },
            "type": "choropleth"
           }
          ],
          "contour": [
           {
            "colorbar": {
             "outlinewidth": 0,
             "ticks": ""
            },
            "colorscale": [
             [
              0,
              "#0d0887"
             ],
             [
              0.1111111111111111,
              "#46039f"
             ],
             [
              0.2222222222222222,
              "#7201a8"
             ],
             [
              0.3333333333333333,
              "#9c179e"
             ],
             [
              0.4444444444444444,
              "#bd3786"
             ],
             [
              0.5555555555555556,
              "#d8576b"
             ],
             [
              0.6666666666666666,
              "#ed7953"
             ],
             [
              0.7777777777777778,
              "#fb9f3a"
             ],
             [
              0.8888888888888888,
              "#fdca26"
             ],
             [
              1,
              "#f0f921"
             ]
            ],
            "type": "contour"
           }
          ],
          "contourcarpet": [
           {
            "colorbar": {
             "outlinewidth": 0,
             "ticks": ""
            },
            "type": "contourcarpet"
           }
          ],
          "heatmap": [
           {
            "colorbar": {
             "outlinewidth": 0,
             "ticks": ""
            },
            "colorscale": [
             [
              0,
              "#0d0887"
             ],
             [
              0.1111111111111111,
              "#46039f"
             ],
             [
              0.2222222222222222,
              "#7201a8"
             ],
             [
              0.3333333333333333,
              "#9c179e"
             ],
             [
              0.4444444444444444,
              "#bd3786"
             ],
             [
              0.5555555555555556,
              "#d8576b"
             ],
             [
              0.6666666666666666,
              "#ed7953"
             ],
             [
              0.7777777777777778,
              "#fb9f3a"
             ],
             [
              0.8888888888888888,
              "#fdca26"
             ],
             [
              1,
              "#f0f921"
             ]
            ],
            "type": "heatmap"
           }
          ],
          "histogram": [
           {
            "marker": {
             "pattern": {
              "fillmode": "overlay",
              "size": 10,
              "solidity": 0.2
             }
            },
            "type": "histogram"
           }
          ],
          "histogram2d": [
           {
            "colorbar": {
             "outlinewidth": 0,
             "ticks": ""
            },
            "colorscale": [
             [
              0,
              "#0d0887"
             ],
             [
              0.1111111111111111,
              "#46039f"
             ],
             [
              0.2222222222222222,
              "#7201a8"
             ],
             [
              0.3333333333333333,
              "#9c179e"
             ],
             [
              0.4444444444444444,
              "#bd3786"
             ],
             [
              0.5555555555555556,
              "#d8576b"
             ],
             [
              0.6666666666666666,
              "#ed7953"
             ],
             [
              0.7777777777777778,
              "#fb9f3a"
             ],
             [
              0.8888888888888888,
              "#fdca26"
             ],
             [
              1,
              "#f0f921"
             ]
            ],
            "type": "histogram2d"
           }
          ],
          "histogram2dcontour": [
           {
            "colorbar": {
             "outlinewidth": 0,
             "ticks": ""
            },
            "colorscale": [
             [
              0,
              "#0d0887"
             ],
             [
              0.1111111111111111,
              "#46039f"
             ],
             [
              0.2222222222222222,
              "#7201a8"
             ],
             [
              0.3333333333333333,
              "#9c179e"
             ],
             [
              0.4444444444444444,
              "#bd3786"
             ],
             [
              0.5555555555555556,
              "#d8576b"
             ],
             [
              0.6666666666666666,
              "#ed7953"
             ],
             [
              0.7777777777777778,
              "#fb9f3a"
             ],
             [
              0.8888888888888888,
              "#fdca26"
             ],
             [
              1,
              "#f0f921"
             ]
            ],
            "type": "histogram2dcontour"
           }
          ],
          "mesh3d": [
           {
            "colorbar": {
             "outlinewidth": 0,
             "ticks": ""
            },
            "type": "mesh3d"
           }
          ],
          "parcoords": [
           {
            "line": {
             "colorbar": {
              "outlinewidth": 0,
              "ticks": ""
             }
            },
            "type": "parcoords"
           }
          ],
          "pie": [
           {
            "automargin": true,
            "type": "pie"
           }
          ],
          "scatter": [
           {
            "fillpattern": {
             "fillmode": "overlay",
             "size": 10,
             "solidity": 0.2
            },
            "type": "scatter"
           }
          ],
          "scatter3d": [
           {
            "line": {
             "colorbar": {
              "outlinewidth": 0,
              "ticks": ""
             }
            },
            "marker": {
             "colorbar": {
              "outlinewidth": 0,
              "ticks": ""
             }
            },
            "type": "scatter3d"
           }
          ],
          "scattercarpet": [
           {
            "marker": {
             "colorbar": {
              "outlinewidth": 0,
              "ticks": ""
             }
            },
            "type": "scattercarpet"
           }
          ],
          "scattergeo": [
           {
            "marker": {
             "colorbar": {
              "outlinewidth": 0,
              "ticks": ""
             }
            },
            "type": "scattergeo"
           }
          ],
          "scattergl": [
           {
            "marker": {
             "colorbar": {
              "outlinewidth": 0,
              "ticks": ""
             }
            },
            "type": "scattergl"
           }
          ],
          "scattermap": [
           {
            "marker": {
             "colorbar": {
              "outlinewidth": 0,
              "ticks": ""
             }
            },
            "type": "scattermap"
           }
          ],
          "scattermapbox": [
           {
            "marker": {
             "colorbar": {
              "outlinewidth": 0,
              "ticks": ""
             }
            },
            "type": "scattermapbox"
           }
          ],
          "scatterpolar": [
           {
            "marker": {
             "colorbar": {
              "outlinewidth": 0,
              "ticks": ""
             }
            },
            "type": "scatterpolar"
           }
          ],
          "scatterpolargl": [
           {
            "marker": {
             "colorbar": {
              "outlinewidth": 0,
              "ticks": ""
             }
            },
            "type": "scatterpolargl"
           }
          ],
          "scatterternary": [
           {
            "marker": {
             "colorbar": {
              "outlinewidth": 0,
              "ticks": ""
             }
            },
            "type": "scatterternary"
           }
          ],
          "surface": [
           {
            "colorbar": {
             "outlinewidth": 0,
             "ticks": ""
            },
            "colorscale": [
             [
              0,
              "#0d0887"
             ],
             [
              0.1111111111111111,
              "#46039f"
             ],
             [
              0.2222222222222222,
              "#7201a8"
             ],
             [
              0.3333333333333333,
              "#9c179e"
             ],
             [
              0.4444444444444444,
              "#bd3786"
             ],
             [
              0.5555555555555556,
              "#d8576b"
             ],
             [
              0.6666666666666666,
              "#ed7953"
             ],
             [
              0.7777777777777778,
              "#fb9f3a"
             ],
             [
              0.8888888888888888,
              "#fdca26"
             ],
             [
              1,
              "#f0f921"
             ]
            ],
            "type": "surface"
           }
          ],
          "table": [
           {
            "cells": {
             "fill": {
              "color": "#EBF0F8"
             },
             "line": {
              "color": "white"
             }
            },
            "header": {
             "fill": {
              "color": "#C8D4E3"
             },
             "line": {
              "color": "white"
             }
            },
            "type": "table"
           }
          ]
         },
         "layout": {
          "annotationdefaults": {
           "arrowcolor": "#2a3f5f",
           "arrowhead": 0,
           "arrowwidth": 1
          },
          "autotypenumbers": "strict",
          "coloraxis": {
           "colorbar": {
            "outlinewidth": 0,
            "ticks": ""
           }
          },
          "colorscale": {
           "diverging": [
            [
             0,
             "#8e0152"
            ],
            [
             0.1,
             "#c51b7d"
            ],
            [
             0.2,
             "#de77ae"
            ],
            [
             0.3,
             "#f1b6da"
            ],
            [
             0.4,
             "#fde0ef"
            ],
            [
             0.5,
             "#f7f7f7"
            ],
            [
             0.6,
             "#e6f5d0"
            ],
            [
             0.7,
             "#b8e186"
            ],
            [
             0.8,
             "#7fbc41"
            ],
            [
             0.9,
             "#4d9221"
            ],
            [
             1,
             "#276419"
            ]
           ],
           "sequential": [
            [
             0,
             "#0d0887"
            ],
            [
             0.1111111111111111,
             "#46039f"
            ],
            [
             0.2222222222222222,
             "#7201a8"
            ],
            [
             0.3333333333333333,
             "#9c179e"
            ],
            [
             0.4444444444444444,
             "#bd3786"
            ],
            [
             0.5555555555555556,
             "#d8576b"
            ],
            [
             0.6666666666666666,
             "#ed7953"
            ],
            [
             0.7777777777777778,
             "#fb9f3a"
            ],
            [
             0.8888888888888888,
             "#fdca26"
            ],
            [
             1,
             "#f0f921"
            ]
           ],
           "sequentialminus": [
            [
             0,
             "#0d0887"
            ],
            [
             0.1111111111111111,
             "#46039f"
            ],
            [
             0.2222222222222222,
             "#7201a8"
            ],
            [
             0.3333333333333333,
             "#9c179e"
            ],
            [
             0.4444444444444444,
             "#bd3786"
            ],
            [
             0.5555555555555556,
             "#d8576b"
            ],
            [
             0.6666666666666666,
             "#ed7953"
            ],
            [
             0.7777777777777778,
             "#fb9f3a"
            ],
            [
             0.8888888888888888,
             "#fdca26"
            ],
            [
             1,
             "#f0f921"
            ]
           ]
          },
          "colorway": [
           "#636efa",
           "#EF553B",
           "#00cc96",
           "#ab63fa",
           "#FFA15A",
           "#19d3f3",
           "#FF6692",
           "#B6E880",
           "#FF97FF",
           "#FECB52"
          ],
          "font": {
           "color": "#2a3f5f"
          },
          "geo": {
           "bgcolor": "white",
           "lakecolor": "white",
           "landcolor": "#E5ECF6",
           "showlakes": true,
           "showland": true,
           "subunitcolor": "white"
          },
          "hoverlabel": {
           "align": "left"
          },
          "hovermode": "closest",
          "mapbox": {
           "style": "light"
          },
          "paper_bgcolor": "white",
          "plot_bgcolor": "#E5ECF6",
          "polar": {
           "angularaxis": {
            "gridcolor": "white",
            "linecolor": "white",
            "ticks": ""
           },
           "bgcolor": "#E5ECF6",
           "radialaxis": {
            "gridcolor": "white",
            "linecolor": "white",
            "ticks": ""
           }
          },
          "scene": {
           "xaxis": {
            "backgroundcolor": "#E5ECF6",
            "gridcolor": "white",
            "gridwidth": 2,
            "linecolor": "white",
            "showbackground": true,
            "ticks": "",
            "zerolinecolor": "white"
           },
           "yaxis": {
            "backgroundcolor": "#E5ECF6",
            "gridcolor": "white",
            "gridwidth": 2,
            "linecolor": "white",
            "showbackground": true,
            "ticks": "",
            "zerolinecolor": "white"
           },
           "zaxis": {
            "backgroundcolor": "#E5ECF6",
            "gridcolor": "white",
            "gridwidth": 2,
            "linecolor": "white",
            "showbackground": true,
            "ticks": "",
            "zerolinecolor": "white"
           }
          },
          "shapedefaults": {
           "line": {
            "color": "#2a3f5f"
           }
          },
          "ternary": {
           "aaxis": {
            "gridcolor": "white",
            "linecolor": "white",
            "ticks": ""
           },
           "baxis": {
            "gridcolor": "white",
            "linecolor": "white",
            "ticks": ""
           },
           "bgcolor": "#E5ECF6",
           "caxis": {
            "gridcolor": "white",
            "linecolor": "white",
            "ticks": ""
           }
          },
          "title": {
           "x": 0.05
          },
          "xaxis": {
           "automargin": true,
           "gridcolor": "white",
           "linecolor": "white",
           "ticks": "",
           "title": {
            "standoff": 15
           },
           "zerolinecolor": "white",
           "zerolinewidth": 2
          },
          "yaxis": {
           "automargin": true,
           "gridcolor": "white",
           "linecolor": "white",
           "ticks": "",
           "title": {
            "standoff": 15
           },
           "zerolinecolor": "white",
           "zerolinewidth": 2
          }
         }
        },
        "title": {
         "text": "🌎 Exportações do Brasil - Brasil → Continente → País (20)"
        }
       }
      }
     },
     "metadata": {},
     "output_type": "display_data"
    }
   ],
   "source": [
    "# Filtrar Brasil exportações\n",
    "brazilExp = df[(df['reporterISO'] == 'BRA') &\n",
    "               (df['flowCode'] == 'X') &\n",
    "               (df['partnerISO'] != 'W00')]\n",
    "\n",
    "# Top n países por valor (agrupando também por continente)\n",
    "\n",
    "n = 20\n",
    "top_partners = brazilExp.groupby([\"partnerDesc\", \"partner continent\"])[\"primaryValue\"].sum().nlargest(20).reset_index()\n",
    "\n",
    "# Labels\n",
    "labels = [\"Brazil\"]\n",
    "continents = top_partners[\"partner continent\"].unique().tolist()\n",
    "labels.extend(continents)\n",
    "labels.extend(top_partners[\"partnerDesc\"].tolist())\n",
    "\n",
    "# Índices para lookup\n",
    "label_index = {label: i for i, label in enumerate(labels)}\n",
    "\n",
    "# Links Brasil → Continente\n",
    "links_source = []\n",
    "links_target = []\n",
    "links_value = []\n",
    "\n",
    "for cont in continents:\n",
    "    value = top_partners[top_partners[\"partner continent\"] == cont][\"primaryValue\"].sum()\n",
    "    links_source.append(label_index[\"Brazil\"])\n",
    "    links_target.append(label_index[cont])\n",
    "    links_value.append(value)\n",
    "\n",
    "# Links Continente → País\n",
    "for _, row in top_partners.iterrows():\n",
    "    links_source.append(label_index[row[\"partner continent\"]])\n",
    "    links_target.append(label_index[row[\"partnerDesc\"]])\n",
    "    links_value.append(row[\"primaryValue\"])\n",
    "\n",
    "\n",
    "d3_colors = px.colors.qualitative.D3  # category10\n",
    "\n",
    "def hex_to_rgba(hex_color: str, alpha: float = 0.5) -> str:\n",
    "    h = hex_color.lstrip('#')\n",
    "    r, g, b = int(h[0:2], 16), int(h[2:4], 16), int(h[4:6], 16)\n",
    "    return f'rgba({r},{g},{b},{alpha})'\n",
    "\n",
    "# mapa label → cor (estável)\n",
    "palette = {label: d3_colors[i % len(d3_colors)] for i, label in enumerate(labels)}\n",
    "\n",
    "# cores dos nós, na ordem de 'labels'\n",
    "node_colors = [palette[label] for label in labels]\n",
    "\n",
    "# cores dos links herdando a cor do nó de ORIGEM\n",
    "link_colors = [hex_to_rgba(palette[labels[s]], 0.5) for s in links_source]\n",
    "\n",
    "# Sankey\n",
    "fig = go.Figure(data=[go.Sankey(\n",
    "    node=dict(\n",
    "        pad=20,\n",
    "        thickness=20,\n",
    "        line=dict(color=\"black\", width=0.5),\n",
    "        label=labels,\n",
    "        color=node_colors\n",
    "    ),\n",
    "    link=dict(\n",
    "        source=links_source,\n",
    "        target=links_target,\n",
    "        value=links_value,\n",
    "        color=link_colors\n",
    "    )\n",
    ")])\n",
    "\n",
    "\n",
    "fig.update_layout(title_text=\"🌎 Exportações do Brasil - Brasil → Continente → País (20)\", font_size=12)\n",
    "fig.show()"
   ]
  },
  {
   "cell_type": "code",
   "execution_count": null,
   "metadata": {},
   "outputs": [],
   "source": [
    "tradedf = pd.DataFrame()\n",
    "source_labels = [labels[i] for i in links_source]\n",
    "target_labels = [labels[i] for i in links_target]\n",
    "tradedf.insert(0, \"Source\", source_labels)\n",
    "tradedf.insert(1, \"Target\", target_labels)\n",
    "tradedf.insert(2, \"Value\", links_value)\n",
    "tradedf.to_csv(\"brasiltrade.csv\")"
   ]
  },
  {
   "cell_type": "markdown",
   "metadata": {},
   "source": [
    "#### 3.Representação com todos os parceiros comerciais do Brasil, gerando uma visualização comprometida"
   ]
  },
  {
   "cell_type": "code",
   "execution_count": 12,
   "metadata": {
    "colab": {
     "base_uri": "https://localhost:8080/",
     "height": 542
    },
    "id": "27ad75ed",
    "outputId": "b4eaff8a-9c58-469f-f1e5-3251e60244d5"
   },
   "outputs": [
    {
     "data": {
      "application/vnd.plotly.v1+json": {
       "config": {
        "plotlyServerURL": "https://plot.ly"
       },
       "data": [
        {
         "link": {
          "source": [
           0,
           0,
           0,
           0,
           0,
           0,
           0,
           1,
           1,
           1,
           1,
           1,
           1,
           1,
           1,
           1,
           1,
           1,
           1,
           1,
           1,
           2,
           2,
           2,
           2,
           2,
           2,
           2,
           2,
           2,
           2,
           2,
           2,
           2,
           2,
           2,
           2,
           2,
           2,
           3,
           3,
           3,
           3,
           3,
           3,
           3,
           3,
           3,
           3,
           3,
           3,
           3,
           3,
           3,
           3,
           3,
           3,
           3,
           3,
           3,
           3,
           3,
           3,
           3,
           3,
           3,
           3,
           3,
           3,
           3,
           3,
           4,
           4,
           4,
           4,
           4,
           4,
           4,
           4,
           4,
           4,
           4,
           4,
           4,
           4,
           5,
           5,
           5,
           5,
           5,
           5,
           6,
           6,
           6,
           6,
           6,
           6,
           6,
           6,
           6,
           6,
           6,
           6,
           6,
           6,
           6,
           6,
           6,
           6,
           6,
           6,
           6,
           6,
           6,
           6,
           6,
           6,
           6,
           6,
           6,
           6,
           6,
           6,
           6,
           6,
           6,
           6,
           6,
           6,
           6,
           6,
           6,
           6,
           6,
           6,
           6,
           6,
           6,
           6,
           6,
           6,
           6,
           6,
           6,
           6,
           6,
           6,
           6,
           6,
           6,
           6,
           6,
           6,
           6,
           6,
           6,
           6,
           6,
           6,
           6,
           6,
           6,
           6,
           6,
           6,
           6,
           6,
           6,
           6,
           6,
           6,
           6,
           6,
           6,
           6,
           6,
           6,
           6,
           6,
           6,
           6,
           6,
           6,
           6,
           6,
           6,
           6,
           6,
           6,
           6,
           6,
           6,
           6,
           6,
           6,
           6,
           6,
           6,
           6,
           6,
           6,
           6,
           6,
           6,
           6,
           6,
           6,
           6,
           6,
           6,
           6,
           6,
           6,
           6,
           6,
           6,
           6,
           6,
           6,
           6,
           6,
           6,
           7,
           7,
           7,
           7,
           7,
           7,
           7,
           7,
           7,
           7,
           7
          ],
          "target": [
           1,
           2,
           3,
           4,
           5,
           6,
           7,
           8,
           9,
           10,
           11,
           12,
           13,
           14,
           15,
           16,
           17,
           18,
           19,
           20,
           21,
           22,
           23,
           24,
           25,
           26,
           27,
           28,
           29,
           30,
           31,
           32,
           33,
           34,
           35,
           36,
           37,
           38,
           39,
           40,
           41,
           42,
           43,
           44,
           45,
           46,
           47,
           48,
           49,
           50,
           51,
           52,
           53,
           54,
           55,
           56,
           57,
           58,
           59,
           60,
           61,
           62,
           63,
           64,
           65,
           66,
           67,
           68,
           69,
           70,
           71,
           72,
           73,
           74,
           75,
           76,
           77,
           78,
           79,
           80,
           81,
           82,
           83,
           84,
           85,
           86,
           87,
           88,
           89,
           90,
           91,
           92,
           93,
           94,
           95,
           96,
           97,
           98,
           99,
           100,
           101,
           102,
           103,
           104,
           105,
           106,
           107,
           108,
           109,
           110,
           111,
           112,
           113,
           114,
           115,
           116,
           117,
           118,
           119,
           120,
           121,
           122,
           123,
           124,
           125,
           126,
           127,
           128,
           129,
           130,
           131,
           132,
           133,
           134,
           135,
           136,
           137,
           138,
           139,
           140,
           141,
           142,
           143,
           144,
           145,
           146,
           147,
           148,
           149,
           150,
           151,
           152,
           153,
           154,
           155,
           156,
           157,
           158,
           159,
           160,
           161,
           162,
           163,
           164,
           165,
           166,
           167,
           168,
           169,
           170,
           171,
           172,
           173,
           174,
           175,
           176,
           177,
           178,
           179,
           180,
           181,
           182,
           183,
           184,
           185,
           186,
           187,
           188,
           189,
           190,
           191,
           192,
           193,
           194,
           195,
           196,
           197,
           198,
           199,
           200,
           201,
           202,
           203,
           204,
           205,
           206,
           207,
           208,
           209,
           210,
           211,
           212,
           213,
           214,
           215,
           216,
           217,
           218,
           219,
           220,
           221,
           222,
           223,
           224,
           225,
           226,
           227,
           228,
           229,
           230,
           231,
           232,
           233
          ],
          "value": [
           11838466854,
           140352719400,
           58982989417,
           59327314371,
           723958192,
           26446123895,
           36965400724,
           2567007389,
           215203142,
           3996647676,
           30598555,
           336624219,
           93476480,
           1389650139,
           977496973,
           378596023,
           1379366831,
           14386165,
           400413192,
           9633802,
           49366268,
           2468166639,
           26098484,
           94411140802,
           5260909480,
           4487454436,
           5577998685,
           23796092,
           4318735523,
           4990284,
           21597690,
           8581787,
           672418618,
           2117610604,
           5508091295,
           7902426238,
           42901110,
           3452740323,
           4047061310,
           100579875,
           80281506,
           3915489700,
           1689084,
           466150409,
           68079420,
           47182555,
           534666069,
           470360031,
           2999341894,
           5852295628,
           382143049,
           190427892,
           311990056,
           229340193,
           4466598272,
           27408204,
           11764043341,
           14808564,
           1430231462,
           1385616092,
           3413996890,
           159829502,
           1450252285,
           43571494,
           28648817,
           9936770335,
           831663110,
           1334778557,
           3859785248,
           50497323,
           3134472560,
           15650051,
           6316853569,
           583805685,
           277095544,
           1060640960,
           197736195,
           600680784,
           79337853,
           205392706,
           221448157,
           7801789195,
           130912300,
           919298837,
           40916672535,
           612634094,
           1077404,
           103730621,
           4545477,
           171656,
           1798940,
           3098084,
           873659,
           109669,
           492587781,
           1169940,
           127253,
           36348558,
           27687049,
           39321695,
           23288232,
           148088116,
           1002887515,
           35834895,
           5586806,
           90847738,
           12905949,
           2773765,
           4125609,
           873549,
           79900,
           4710560,
           3066660,
           14167425,
           21393,
           45615081,
           278386661,
           152975989,
           3167783,
           9044857,
           1549374881,
           1926604,
           57960,
           12518472,
           119862783,
           4309030,
           48815559,
           74132161,
           191495315,
           67801311,
           5575656,
           30284732,
           42016,
           91857012,
           432729,
           174864,
           101285,
           129504,
           633069,
           9349004,
           78974522,
           164857548,
           350416649,
           4922076,
           16461,
           15073223,
           257482,
           203064258,
           6548311,
           425146,
           405974,
           3004128078,
           1906310360,
           725116156,
           540264601,
           45493605,
           257367,
           404755040,
           360054,
           79539607,
           445100827,
           20280,
           457913945,
           654870151,
           39773798,
           45757303,
           29839829,
           1986404,
           26230813,
           2687986,
           151107003,
           319585875,
           250306614,
           59554505,
           296303,
           37826578,
           395016,
           9780892,
           58724,
           10160598,
           1713292,
           40387,
           999386,
           1204542089,
           2268812,
           60229,
           455650731,
           919327,
           2884401,
           2224048,
           7019170,
           58871554,
           190,
           5141383,
           3162995,
           1212868,
           4567620,
           3114593451,
           11198539,
           62535398,
           14379360,
           509076660,
           154092422,
           28192,
           1852207,
           33885173,
           68874240,
           113847,
           446450090,
           750977,
           5045327,
           351540553,
           4182370,
           1954512,
           4543655263,
           1096647,
           176928354,
           126275,
           25125,
           455072348,
           7919243,
           6382760,
           13778181666,
           1334856950,
           6658098288,
           3233822350,
           971429141,
           383371274,
           3753100818,
           2890486847,
           54588292,
           2707636243,
           1199828855
          ]
         },
         "node": {
          "color": [
           "#1F77B4",
           "#FF7F0E",
           "#2CA02C",
           "#D62728",
           "#9467BD",
           "#8C564B",
           "#E377C2",
           "#7F7F7F",
           "#BCBD22",
           "#17BECF",
           "#1F77B4",
           "#FF7F0E",
           "#2CA02C",
           "#D62728",
           "#9467BD",
           "#8C564B",
           "#E377C2",
           "#7F7F7F",
           "#BCBD22",
           "#17BECF",
           "#1F77B4",
           "#FF7F0E",
           "#2CA02C",
           "#D62728",
           "#9467BD",
           "#8C564B",
           "#E377C2"
          ],
          "label": [
           "Brazil",
           "Africa",
           "Asia",
           "Europe",
           "North America",
           "Oceania",
           "Other/Unknown",
           "South America",
           "Algeria",
           "Côte d'Ivoire",
           "Egypt",
           "Ethiopia",
           "Ghana",
           "Kenya",
           "Morocco",
           "Nigeria",
           "Senegal",
           "South Africa",
           "Sudan",
           "Tunisia",
           "Uganda",
           "United Rep. of Tanzania",
           "Bangladesh",
           "Cambodia",
           "China",
           "India",
           "Indonesia",
           "Japan",
           "Lao People's Dem. Rep.",
           "Malaysia",
           "Mongolia",
           "Myanmar",
           "Nepal",
           "Pakistan",
           "Philippines",
           "Rep. of Korea",
           "Singapore",
           "Sri Lanka",
           "Thailand",
           "Viet Nam",
           "Albania",
           "Austria",
           "Belgium",
           "Bosnia Herzegovina",
           "Bulgaria",
           "Croatia",
           "Czechia",
           "Denmark",
           "Finland",
           "France",
           "Germany",
           "Greece",
           "Hungary",
           "Iceland",
           "Ireland",
           "Italy",
           "Montenegro",
           "Netherlands",
           "North Macedonia",
           "Norway",
           "Poland",
           "Portugal",
           "Romania",
           "Russian Federation",
           "Serbia",
           "Slovakia",
           "Spain",
           "Sweden",
           "Switzerland",
           "Türkiye",
           "Ukraine",
           "United Kingdom",
           "Belize",
           "Canada",
           "Costa Rica",
           "Cuba",
           "Dominican Rep.",
           "El Salvador",
           "Guatemala",
           "Haiti",
           "Honduras",
           "Jamaica",
           "Mexico",
           "Nicaragua",
           "Panama",
           "USA",
           "Australia",
           "Fiji",
           "New Zealand",
           "Papua New Guinea",
           "Solomon Isds",
           "Vanuatu",
           "Afghanistan",
           "American Samoa",
           "Andorra",
           "Angola",
           "Anguilla",
           "Antarctica",
           "Antigua and Barbuda",
           "Armenia",
           "Aruba",
           "Azerbaijan",
           "Bahamas",
           "Bahrain",
           "Barbados",
           "Belarus",
           "Benin",
           "Bermuda",
           "Bhutan",
           "Bonaire",
           "Botswana",
           "Bouvet Island",
           "Br. Virgin Isds",
           "Brunei Darussalam",
           "Burkina Faso",
           "Burundi",
           "Cabo Verde",
           "Cameroon",
           "Cayman Isds",
           "Central African Rep.",
           "Chad",
           "China, Hong Kong SAR",
           "China, Macao SAR",
           "Cocos Isds",
           "Comoros",
           "Congo",
           "Cook Isds",
           "Curaçao",
           "Cyprus",
           "Dem. Rep. of the Congo",
           "Djibouti",
           "Dominica",
           "Equatorial Guinea",
           "Eritrea",
           "Estonia",
           "Eswatini",
           "FS Micronesia",
           "Falkland Isds (Malvinas)",
           "Faroe Isds",
           "Fr. South Antarctic Terr.",
           "French Polynesia",
           "Gabon",
           "Gambia",
           "Georgia",
           "Gibraltar",
           "Greenland",
           "Grenada",
           "Guam",
           "Guinea",
           "Guinea-Bissau",
           "Heard Island and McDonald Islands",
           "Holy See (Vatican City State)",
           "Iran",
           "Iraq",
           "Israel",
           "Jordan",
           "Kazakhstan",
           "Kiribati",
           "Kuwait",
           "Kyrgyzstan",
           "Latvia",
           "Lebanon",
           "Lesotho",
           "Liberia",
           "Libya",
           "Lithuania",
           "Luxembourg",
           "Madagascar",
           "Malawi",
           "Maldives",
           "Mali",
           "Malta",
           "Marshall Isds",
           "Mauritania",
           "Mauritius",
           "Montserrat",
           "Mozambique",
           "N. Mariana Isds",
           "Namibia",
           "Nauru",
           "New Caledonia",
           "Niger",
           "Niue",
           "Norfolk Isds",
           "Oman",
           "Palau",
           "Pitcairn",
           "Qatar",
           "Rep. of Moldova",
           "Rwanda",
           "Saint Barthélemy",
           "Saint Kitts and Nevis",
           "Saint Lucia",
           "Saint Pierre and Miquelon",
           "Saint Vincent and the Grenadines",
           "Samoa",
           "San Marino",
           "Sao Tome and Principe",
           "Saudi Arabia",
           "Seychelles",
           "Sierra Leone",
           "Sint Maarten",
           "Slovenia",
           "Somalia",
           "South Georgia and the South Sandwich Islands",
           "South Sudan",
           "State of Palestine",
           "Syria",
           "Tajikistan",
           "Togo",
           "Tokelau",
           "Tonga",
           "Trinidad and Tobago",
           "Turkmenistan",
           "Turks and Caicos Isds",
           "United Arab Emirates",
           "United States Minor Outlying Islands",
           "Uzbekistan",
           "Wallis and Futuna Isds",
           "Western Sahara",
           "Yemen",
           "Zambia",
           "Zimbabwe",
           "Argentina",
           "Bolivia (Plurinational State of)",
           "Chile",
           "Colombia",
           "Ecuador",
           "Guyana",
           "Paraguay",
           "Peru",
           "Suriname",
           "Uruguay",
           "Venezuela"
          ],
          "line": {
           "color": "black",
           "width": 0.5
          },
          "pad": 15,
          "thickness": 20
         },
         "type": "sankey"
        }
       ],
       "layout": {
        "font": {
         "size": 10
        },
        "template": {
         "data": {
          "bar": [
           {
            "error_x": {
             "color": "#2a3f5f"
            },
            "error_y": {
             "color": "#2a3f5f"
            },
            "marker": {
             "line": {
              "color": "#E5ECF6",
              "width": 0.5
             },
             "pattern": {
              "fillmode": "overlay",
              "size": 10,
              "solidity": 0.2
             }
            },
            "type": "bar"
           }
          ],
          "barpolar": [
           {
            "marker": {
             "line": {
              "color": "#E5ECF6",
              "width": 0.5
             },
             "pattern": {
              "fillmode": "overlay",
              "size": 10,
              "solidity": 0.2
             }
            },
            "type": "barpolar"
           }
          ],
          "carpet": [
           {
            "aaxis": {
             "endlinecolor": "#2a3f5f",
             "gridcolor": "white",
             "linecolor": "white",
             "minorgridcolor": "white",
             "startlinecolor": "#2a3f5f"
            },
            "baxis": {
             "endlinecolor": "#2a3f5f",
             "gridcolor": "white",
             "linecolor": "white",
             "minorgridcolor": "white",
             "startlinecolor": "#2a3f5f"
            },
            "type": "carpet"
           }
          ],
          "choropleth": [
           {
            "colorbar": {
             "outlinewidth": 0,
             "ticks": ""
            },
            "type": "choropleth"
           }
          ],
          "contour": [
           {
            "colorbar": {
             "outlinewidth": 0,
             "ticks": ""
            },
            "colorscale": [
             [
              0,
              "#0d0887"
             ],
             [
              0.1111111111111111,
              "#46039f"
             ],
             [
              0.2222222222222222,
              "#7201a8"
             ],
             [
              0.3333333333333333,
              "#9c179e"
             ],
             [
              0.4444444444444444,
              "#bd3786"
             ],
             [
              0.5555555555555556,
              "#d8576b"
             ],
             [
              0.6666666666666666,
              "#ed7953"
             ],
             [
              0.7777777777777778,
              "#fb9f3a"
             ],
             [
              0.8888888888888888,
              "#fdca26"
             ],
             [
              1,
              "#f0f921"
             ]
            ],
            "type": "contour"
           }
          ],
          "contourcarpet": [
           {
            "colorbar": {
             "outlinewidth": 0,
             "ticks": ""
            },
            "type": "contourcarpet"
           }
          ],
          "heatmap": [
           {
            "colorbar": {
             "outlinewidth": 0,
             "ticks": ""
            },
            "colorscale": [
             [
              0,
              "#0d0887"
             ],
             [
              0.1111111111111111,
              "#46039f"
             ],
             [
              0.2222222222222222,
              "#7201a8"
             ],
             [
              0.3333333333333333,
              "#9c179e"
             ],
             [
              0.4444444444444444,
              "#bd3786"
             ],
             [
              0.5555555555555556,
              "#d8576b"
             ],
             [
              0.6666666666666666,
              "#ed7953"
             ],
             [
              0.7777777777777778,
              "#fb9f3a"
             ],
             [
              0.8888888888888888,
              "#fdca26"
             ],
             [
              1,
              "#f0f921"
             ]
            ],
            "type": "heatmap"
           }
          ],
          "histogram": [
           {
            "marker": {
             "pattern": {
              "fillmode": "overlay",
              "size": 10,
              "solidity": 0.2
             }
            },
            "type": "histogram"
           }
          ],
          "histogram2d": [
           {
            "colorbar": {
             "outlinewidth": 0,
             "ticks": ""
            },
            "colorscale": [
             [
              0,
              "#0d0887"
             ],
             [
              0.1111111111111111,
              "#46039f"
             ],
             [
              0.2222222222222222,
              "#7201a8"
             ],
             [
              0.3333333333333333,
              "#9c179e"
             ],
             [
              0.4444444444444444,
              "#bd3786"
             ],
             [
              0.5555555555555556,
              "#d8576b"
             ],
             [
              0.6666666666666666,
              "#ed7953"
             ],
             [
              0.7777777777777778,
              "#fb9f3a"
             ],
             [
              0.8888888888888888,
              "#fdca26"
             ],
             [
              1,
              "#f0f921"
             ]
            ],
            "type": "histogram2d"
           }
          ],
          "histogram2dcontour": [
           {
            "colorbar": {
             "outlinewidth": 0,
             "ticks": ""
            },
            "colorscale": [
             [
              0,
              "#0d0887"
             ],
             [
              0.1111111111111111,
              "#46039f"
             ],
             [
              0.2222222222222222,
              "#7201a8"
             ],
             [
              0.3333333333333333,
              "#9c179e"
             ],
             [
              0.4444444444444444,
              "#bd3786"
             ],
             [
              0.5555555555555556,
              "#d8576b"
             ],
             [
              0.6666666666666666,
              "#ed7953"
             ],
             [
              0.7777777777777778,
              "#fb9f3a"
             ],
             [
              0.8888888888888888,
              "#fdca26"
             ],
             [
              1,
              "#f0f921"
             ]
            ],
            "type": "histogram2dcontour"
           }
          ],
          "mesh3d": [
           {
            "colorbar": {
             "outlinewidth": 0,
             "ticks": ""
            },
            "type": "mesh3d"
           }
          ],
          "parcoords": [
           {
            "line": {
             "colorbar": {
              "outlinewidth": 0,
              "ticks": ""
             }
            },
            "type": "parcoords"
           }
          ],
          "pie": [
           {
            "automargin": true,
            "type": "pie"
           }
          ],
          "scatter": [
           {
            "fillpattern": {
             "fillmode": "overlay",
             "size": 10,
             "solidity": 0.2
            },
            "type": "scatter"
           }
          ],
          "scatter3d": [
           {
            "line": {
             "colorbar": {
              "outlinewidth": 0,
              "ticks": ""
             }
            },
            "marker": {
             "colorbar": {
              "outlinewidth": 0,
              "ticks": ""
             }
            },
            "type": "scatter3d"
           }
          ],
          "scattercarpet": [
           {
            "marker": {
             "colorbar": {
              "outlinewidth": 0,
              "ticks": ""
             }
            },
            "type": "scattercarpet"
           }
          ],
          "scattergeo": [
           {
            "marker": {
             "colorbar": {
              "outlinewidth": 0,
              "ticks": ""
             }
            },
            "type": "scattergeo"
           }
          ],
          "scattergl": [
           {
            "marker": {
             "colorbar": {
              "outlinewidth": 0,
              "ticks": ""
             }
            },
            "type": "scattergl"
           }
          ],
          "scattermap": [
           {
            "marker": {
             "colorbar": {
              "outlinewidth": 0,
              "ticks": ""
             }
            },
            "type": "scattermap"
           }
          ],
          "scattermapbox": [
           {
            "marker": {
             "colorbar": {
              "outlinewidth": 0,
              "ticks": ""
             }
            },
            "type": "scattermapbox"
           }
          ],
          "scatterpolar": [
           {
            "marker": {
             "colorbar": {
              "outlinewidth": 0,
              "ticks": ""
             }
            },
            "type": "scatterpolar"
           }
          ],
          "scatterpolargl": [
           {
            "marker": {
             "colorbar": {
              "outlinewidth": 0,
              "ticks": ""
             }
            },
            "type": "scatterpolargl"
           }
          ],
          "scatterternary": [
           {
            "marker": {
             "colorbar": {
              "outlinewidth": 0,
              "ticks": ""
             }
            },
            "type": "scatterternary"
           }
          ],
          "surface": [
           {
            "colorbar": {
             "outlinewidth": 0,
             "ticks": ""
            },
            "colorscale": [
             [
              0,
              "#0d0887"
             ],
             [
              0.1111111111111111,
              "#46039f"
             ],
             [
              0.2222222222222222,
              "#7201a8"
             ],
             [
              0.3333333333333333,
              "#9c179e"
             ],
             [
              0.4444444444444444,
              "#bd3786"
             ],
             [
              0.5555555555555556,
              "#d8576b"
             ],
             [
              0.6666666666666666,
              "#ed7953"
             ],
             [
              0.7777777777777778,
              "#fb9f3a"
             ],
             [
              0.8888888888888888,
              "#fdca26"
             ],
             [
              1,
              "#f0f921"
             ]
            ],
            "type": "surface"
           }
          ],
          "table": [
           {
            "cells": {
             "fill": {
              "color": "#EBF0F8"
             },
             "line": {
              "color": "white"
             }
            },
            "header": {
             "fill": {
              "color": "#C8D4E3"
             },
             "line": {
              "color": "white"
             }
            },
            "type": "table"
           }
          ]
         },
         "layout": {
          "annotationdefaults": {
           "arrowcolor": "#2a3f5f",
           "arrowhead": 0,
           "arrowwidth": 1
          },
          "autotypenumbers": "strict",
          "coloraxis": {
           "colorbar": {
            "outlinewidth": 0,
            "ticks": ""
           }
          },
          "colorscale": {
           "diverging": [
            [
             0,
             "#8e0152"
            ],
            [
             0.1,
             "#c51b7d"
            ],
            [
             0.2,
             "#de77ae"
            ],
            [
             0.3,
             "#f1b6da"
            ],
            [
             0.4,
             "#fde0ef"
            ],
            [
             0.5,
             "#f7f7f7"
            ],
            [
             0.6,
             "#e6f5d0"
            ],
            [
             0.7,
             "#b8e186"
            ],
            [
             0.8,
             "#7fbc41"
            ],
            [
             0.9,
             "#4d9221"
            ],
            [
             1,
             "#276419"
            ]
           ],
           "sequential": [
            [
             0,
             "#0d0887"
            ],
            [
             0.1111111111111111,
             "#46039f"
            ],
            [
             0.2222222222222222,
             "#7201a8"
            ],
            [
             0.3333333333333333,
             "#9c179e"
            ],
            [
             0.4444444444444444,
             "#bd3786"
            ],
            [
             0.5555555555555556,
             "#d8576b"
            ],
            [
             0.6666666666666666,
             "#ed7953"
            ],
            [
             0.7777777777777778,
             "#fb9f3a"
            ],
            [
             0.8888888888888888,
             "#fdca26"
            ],
            [
             1,
             "#f0f921"
            ]
           ],
           "sequentialminus": [
            [
             0,
             "#0d0887"
            ],
            [
             0.1111111111111111,
             "#46039f"
            ],
            [
             0.2222222222222222,
             "#7201a8"
            ],
            [
             0.3333333333333333,
             "#9c179e"
            ],
            [
             0.4444444444444444,
             "#bd3786"
            ],
            [
             0.5555555555555556,
             "#d8576b"
            ],
            [
             0.6666666666666666,
             "#ed7953"
            ],
            [
             0.7777777777777778,
             "#fb9f3a"
            ],
            [
             0.8888888888888888,
             "#fdca26"
            ],
            [
             1,
             "#f0f921"
            ]
           ]
          },
          "colorway": [
           "#636efa",
           "#EF553B",
           "#00cc96",
           "#ab63fa",
           "#FFA15A",
           "#19d3f3",
           "#FF6692",
           "#B6E880",
           "#FF97FF",
           "#FECB52"
          ],
          "font": {
           "color": "#2a3f5f"
          },
          "geo": {
           "bgcolor": "white",
           "lakecolor": "white",
           "landcolor": "#E5ECF6",
           "showlakes": true,
           "showland": true,
           "subunitcolor": "white"
          },
          "hoverlabel": {
           "align": "left"
          },
          "hovermode": "closest",
          "mapbox": {
           "style": "light"
          },
          "paper_bgcolor": "white",
          "plot_bgcolor": "#E5ECF6",
          "polar": {
           "angularaxis": {
            "gridcolor": "white",
            "linecolor": "white",
            "ticks": ""
           },
           "bgcolor": "#E5ECF6",
           "radialaxis": {
            "gridcolor": "white",
            "linecolor": "white",
            "ticks": ""
           }
          },
          "scene": {
           "xaxis": {
            "backgroundcolor": "#E5ECF6",
            "gridcolor": "white",
            "gridwidth": 2,
            "linecolor": "white",
            "showbackground": true,
            "ticks": "",
            "zerolinecolor": "white"
           },
           "yaxis": {
            "backgroundcolor": "#E5ECF6",
            "gridcolor": "white",
            "gridwidth": 2,
            "linecolor": "white",
            "showbackground": true,
            "ticks": "",
            "zerolinecolor": "white"
           },
           "zaxis": {
            "backgroundcolor": "#E5ECF6",
            "gridcolor": "white",
            "gridwidth": 2,
            "linecolor": "white",
            "showbackground": true,
            "ticks": "",
            "zerolinecolor": "white"
           }
          },
          "shapedefaults": {
           "line": {
            "color": "#2a3f5f"
           }
          },
          "ternary": {
           "aaxis": {
            "gridcolor": "white",
            "linecolor": "white",
            "ticks": ""
           },
           "baxis": {
            "gridcolor": "white",
            "linecolor": "white",
            "ticks": ""
           },
           "bgcolor": "#E5ECF6",
           "caxis": {
            "gridcolor": "white",
            "linecolor": "white",
            "ticks": ""
           }
          },
          "title": {
           "x": 0.05
          },
          "xaxis": {
           "automargin": true,
           "gridcolor": "white",
           "linecolor": "white",
           "ticks": "",
           "title": {
            "standoff": 15
           },
           "zerolinecolor": "white",
           "zerolinewidth": 2
          },
          "yaxis": {
           "automargin": true,
           "gridcolor": "white",
           "linecolor": "white",
           "ticks": "",
           "title": {
            "standoff": 15
           },
           "zerolinecolor": "white",
           "zerolinewidth": 2
          }
         }
        },
        "title": {
         "text": "🌎 Exportações do Brasil - Brasil → Continente → País (Todos os Parceiros) - Visualização comprometida"
        }
       }
      },
      "image/png": "[encoded data removed]"
     },
     "metadata": {},
     "output_type": "display_data"
    }
   ],
   "source": [
    "# Filtrar Brasil exportações\n",
    "brazilExp_all = df[(df['reporterISO'] == 'BRA') &\n",
    "                  (df['flowCode'] == 'X') &\n",
    "                  (df['partnerISO'] != 'W00')].copy()\n",
    "\n",
    "# Group by continent and then by country\n",
    "continent_agg = brazilExp_all.groupby('partner continent')['primaryValue'].sum().reset_index()\n",
    "country_agg = brazilExp_all.groupby(['partner continent', 'partnerDesc'])['primaryValue'].sum().reset_index()\n",
    "\n",
    "# Labels\n",
    "labels = [\"Brazil\"]\n",
    "continents = continent_agg[\"partner continent\"].tolist()\n",
    "labels.extend(continents)\n",
    "labels.extend(country_agg[\"partnerDesc\"].tolist())\n",
    "\n",
    "# Índices para lookup\n",
    "label_index = {label: i for i, label in enumerate(labels)}\n",
    "\n",
    "# Links Brasil → Continente\n",
    "links_source = []\n",
    "links_target = []\n",
    "links_value = []\n",
    "\n",
    "for _, row in continent_agg.iterrows():\n",
    "    links_source.append(label_index[\"Brazil\"])\n",
    "    links_target.append(label_index[row[\"partner continent\"]])\n",
    "    links_value.append(row[\"primaryValue\"])\n",
    "\n",
    "# Links Continente → País\n",
    "for _, row in country_agg.iterrows():\n",
    "    if row[\"partner continent\"] in label_index and row[\"partnerDesc\"] in label_index:\n",
    "        links_source.append(label_index[row[\"partner continent\"]])\n",
    "        links_target.append(label_index[row[\"partnerDesc\"]])\n",
    "        links_value.append(row[\"primaryValue\"])\n",
    "\n",
    "\n",
    "# Sankey\n",
    "fig = go.Figure(data=[go.Sankey(\n",
    "    node=dict(\n",
    "        pad=15,\n",
    "        thickness=20,\n",
    "        line=dict(color=\"black\", width=0.5),\n",
    "        label=labels,\n",
    "        color=node_colors\n",
    "    ),\n",
    "    link=dict(\n",
    "        source=links_source,\n",
    "        target=links_target,\n",
    "        value=links_value,\n",
    "    )\n",
    ")])\n",
    "\n",
    "fig.update_layout(title_text=\"🌎 Exportações do Brasil - Brasil → Continente → País (Todos os Parceiros) - Visualização comprometida\", font_size=10)\n",
    "fig.show()"
   ]
  },
  {
   "cell_type": "markdown",
   "metadata": {},
   "source": [
    "-----"
   ]
  },
  {
   "cell_type": "code",
   "execution_count": null,
   "metadata": {},
   "outputs": [],
   "source": [
    "### Dados das traduções feitas em programas de pós graduação brasileiros visualizada em Sankey"
   ]
  },
  {
   "cell_type": "code",
   "execution_count": 20,
   "metadata": {},
   "outputs": [
    {
     "data": {
      "application/vnd.plotly.v1+json": {
       "config": {
        "plotlyServerURL": "https://plot.ly"
       },
       "data": [
        {
         "link": {
          "source": [
           1,
           1,
           1,
           1,
           1,
           1,
           1,
           1,
           0,
           7,
           7,
           7,
           7,
           7,
           0,
           5,
           5,
           5,
           0,
           8,
           8,
           8,
           8,
           8,
           8,
           0,
           11,
           11,
           11,
           11,
           0,
           15,
           15,
           15,
           0,
           21,
           21,
           21,
           21,
           21,
           21,
           21,
           21,
           21,
           21,
           0,
           20,
           0,
           13,
           0,
           26,
           0,
           28,
           0,
           25,
           0,
           27,
           0,
           31,
           0,
           32,
           0,
           12,
           0,
           40,
           0,
           42,
           0,
           46,
           0,
           38,
           38,
           0,
           49,
           0,
           60,
           0,
           61,
           0,
           47,
           0,
           14,
           0,
           1,
           1,
           1,
           1,
           1,
           3,
           5,
           5,
           3,
           7,
           7,
           3,
           8,
           8,
           8,
           8,
           3,
           21,
           21,
           21,
           21,
           21,
           21,
           21,
           21,
           3,
           15,
           15,
           3,
           11,
           11,
           11,
           3,
           28,
           3,
           12,
           3,
           39,
           3,
           20,
           3,
           32,
           3,
           5,
           5,
           5,
           4,
           1,
           1,
           1,
           1,
           1,
           1,
           4,
           8,
           8,
           8,
           8,
           8,
           4,
           11,
           11,
           11,
           11,
           11,
           4,
           12,
           12,
           4,
           13,
           4,
           14,
           4,
           15,
           15,
           15,
           15,
           15,
           15,
           4,
           17,
           4,
           20,
           4,
           21,
           21,
           21,
           21,
           21,
           21,
           21,
           21,
           21,
           21,
           4,
           7,
           7,
           7,
           7,
           4,
           25,
           25,
           4,
           27,
           4,
           28,
           4,
           36,
           4,
           37,
           4,
           38,
           4,
           40,
           4,
           43,
           4,
           47,
           4,
           31,
           4,
           42,
           4,
           50,
           4,
           51,
           4,
           32,
           32,
           4,
           56,
           4,
           57,
           4,
           58,
           4,
           1,
           16,
           8,
           16,
           11,
           11,
           16,
           21,
           21,
           21,
           21,
           21,
           16,
           5,
           16,
           15,
           15,
           16,
           7,
           16,
           5,
           18,
           1,
           18,
           8,
           18,
           21,
           21,
           21,
           18,
           11,
           18,
           7,
           18,
           28,
           18,
           11,
           23,
           1,
           23,
           5,
           23,
           15,
           23,
           21,
           23,
           8,
           8,
           23,
           7,
           7,
           23,
           25,
           23,
           21,
           24,
           5,
           24,
           1,
           24,
           7,
           24
          ],
          "target": [
           2,
           6,
           19,
           10,
           9,
           33,
           34,
           54,
           1,
           9,
           2,
           19,
           6,
           34,
           7,
           2,
           6,
           19,
           5,
           2,
           19,
           33,
           6,
           10,
           34,
           8,
           2,
           19,
           34,
           52,
           11,
           2,
           29,
           6,
           15,
           6,
           22,
           2,
           10,
           19,
           29,
           9,
           52,
           35,
           55,
           21,
           2,
           20,
           2,
           13,
           2,
           26,
           2,
           28,
           2,
           25,
           2,
           27,
           2,
           31,
           2,
           32,
           2,
           12,
           2,
           40,
           2,
           42,
           2,
           46,
           2,
           48,
           38,
           2,
           49,
           2,
           60,
           2,
           61,
           2,
           47,
           2,
           14,
           2,
           29,
           6,
           34,
           10,
           1,
           6,
           2,
           5,
           6,
           2,
           7,
           10,
           2,
           6,
           19,
           8,
           9,
           6,
           2,
           10,
           22,
           29,
           45,
           19,
           21,
           2,
           34,
           15,
           2,
           6,
           29,
           11,
           2,
           28,
           19,
           12,
           2,
           39,
           2,
           20,
           2,
           32,
           6,
           2,
           19,
           5,
           2,
           6,
           19,
           10,
           34,
           9,
           1,
           2,
           10,
           30,
           19,
           34,
           8,
           2,
           19,
           44,
           34,
           52,
           11,
           2,
           53,
           12,
           2,
           13,
           2,
           14,
           2,
           33,
           9,
           29,
           48,
           19,
           15,
           2,
           17,
           2,
           20,
           10,
           2,
           6,
           19,
           9,
           35,
           29,
           53,
           59,
           22,
           21,
           2,
           9,
           6,
           19,
           7,
           2,
           19,
           25,
           2,
           27,
           2,
           28,
           2,
           36,
           2,
           37,
           2,
           38,
           2,
           40,
           2,
           43,
           2,
           47,
           2,
           31,
           2,
           42,
           2,
           50,
           2,
           51,
           2,
           35,
           32,
           2,
           56,
           2,
           57,
           2,
           58,
           2,
           1,
           2,
           8,
           2,
           19,
           11,
           10,
           29,
           22,
           6,
           19,
           21,
           2,
           5,
           41,
           2,
           15,
           2,
           7,
           2,
           5,
           2,
           1,
           2,
           8,
           6,
           2,
           29,
           21,
           2,
           11,
           2,
           7,
           2,
           28,
           2,
           11,
           2,
           1,
           2,
           5,
           2,
           15,
           10,
           21,
           2,
           19,
           8,
           2,
           34,
           7,
           2,
           25,
           2,
           21,
           2,
           5,
           2,
           1,
           2,
           7
          ],
          "value": [
           1082,
           13,
           10,
           6,
           1,
           1,
           4,
           1,
           1118,
           3,
           141,
           3,
           1,
           1,
           149,
           69,
           5,
           4,
           78,
           646,
           21,
           1,
           2,
           3,
           1,
           674,
           317,
           5,
           2,
           1,
           325,
           190,
           3,
           3,
           196,
           216,
           16,
           74,
           24,
           91,
           2,
           27,
           1,
           1,
           1,
           453,
           10,
           10,
           3,
           3,
           2,
           2,
           9,
           9,
           25,
           25,
           16,
           16,
           6,
           6,
           7,
           7,
           14,
           14,
           8,
           8,
           4,
           4,
           2,
           2,
           6,
           2,
           8,
           2,
           2,
           1,
           1,
           1,
           1,
           1,
           1,
           1,
           1,
           251,
           1,
           4,
           1,
           1,
           258,
           7,
           9,
           16,
           1,
           46,
           47,
           2,
           70,
           1,
           2,
           75,
           4,
           67,
           12,
           3,
           4,
           2,
           1,
           9,
           102,
           38,
           1,
           39,
           61,
           1,
           7,
           69,
           1,
           1,
           1,
           1,
           1,
           1,
           4,
           4,
           1,
           1,
           2,
           35,
           4,
           41,
           571,
           4,
           10,
           3,
           1,
           1,
           590,
           342,
           2,
           1,
           1,
           1,
           347,
           170,
           3,
           2,
           2,
           1,
           178,
           57,
           1,
           58,
           1,
           1,
           1,
           1,
           128,
           1,
           2,
           1,
           1,
           2,
           135,
           2,
           2,
           20,
           20,
           5,
           29,
           85,
           29,
           3,
           1,
           7,
           1,
           2,
           1,
           163,
           152,
           3,
           1,
           4,
           160,
           22,
           1,
           23,
           7,
           7,
           9,
           9,
           2,
           2,
           1,
           1,
           5,
           5,
           3,
           3,
           2,
           2,
           4,
           4,
           2,
           2,
           12,
           12,
           1,
           1,
           1,
           1,
           5,
           1,
           6,
           1,
           1,
           1,
           1,
           1,
           1,
           21,
           21,
           10,
           10,
           10,
           1,
           11,
           1,
           1,
           3,
           2,
           2,
           9,
           9,
           9,
           1,
           1,
           2,
           11,
           11,
           1,
           1,
           5,
           5,
           5,
           5,
           2,
           2,
           1,
           5,
           2,
           2,
           1,
           1,
           1,
           1,
           2,
           2,
           22,
           22,
           4,
           4,
           2,
           2,
           1,
           1,
           9,
           2,
           11,
           1,
           1,
           2,
           2,
           2,
           2,
           2,
           1,
           1,
           2,
           2,
           1,
           1
          ]
         },
         "node": {
          "label": [
           "MEIO DIGITAL",
           "INGLES_ORIGINAL",
           "PORTUGUES_TRADUZIDO",
           "VÁRIOS",
           "IMPRESSO",
           "ACADIANO_ORIGINAL",
           "INGLES_TRADUZIDO",
           "ITALIANO_ORIGINAL",
           "FRANCES_ORIGINAL",
           "ITALIANO_TRADUZIDO",
           "FRANCES_TRADUZIDO",
           "ESPANHOL_ORIGINAL",
           "JAPONES_ORIGINAL",
           "SUECO_ORIGINAL",
           "DINARMAQUES_ORIGINAL",
           "ALEMAO_ORIGINAL",
           "OUTRO",
           "NORUEGUES_ORIGINAL",
           "MEIO MAGNÉTICO",
           "ESPANHOL_TRADUZIDO",
           "GREGO CLASSICO_ORIGINAL",
           "PORTUGUES_ORIGINAL",
           "LIBRAS_TRADUZIDO",
           "HIPERTEXTO",
           "FILME",
           "LATIM_ORIGINAL",
           "LIBRAS_ORIGINAL",
           "RUSSO_ORIGINAL",
           "BELO-RUSSO_ORIGINAL",
           "ALEMAO_TRADUZIDO",
           "MULTILINGUA_TRADUZIDO",
           "CATALAO_ORIGINAL",
           "CHINES_ORIGINAL",
           "BRETAO_TRADUZIDO",
           "MALGAXE_TRADUZIDO",
           "CHINES_TRADUZIDO",
           "TURCO_ORIGINAL",
           "GUARANI_ORIGINAL",
           "POLONES_ORIGINAL",
           "UCRANIANO_ORIGINAL",
           "HEBRAICO_ORIGINAL",
           "CATALAO_TRADUZIDO",
           "ARABE_ORIGINAL",
           "SERVO-CROATA (CIRILICO)_ORIGINAL",
           "AMARICO_TRADUZIDO",
           "LINGUAS INDIGENAS DA AMERICA DO SUL_TRADUZIDO",
           "LINGUAS INDIGENAS DA AMERICA DO SUL_ORIGINAL",
           "HOLANDAES_ORIGINAL",
           "POLONES_TRADUZIDO",
           "COREANO_ORIGINAL",
           "ROMANO_ORIGINAL",
           "JUDEU-PERSA_ORIGINAL",
           "ESPERANTO_TRADUZIDO",
           "JAPONES_TRADUZIDO",
           "TURCO_TRADUZIDO",
           "LATIM_TRADUZIDO",
           "IRLANDES_ORIGINAL",
           "ISLANDES_ORIGINAL",
           "GREGO MODERNO_ORIGINAL",
           "ARABE_TRADUZIDO",
           "ARMENIO_ORIGINAL",
           "FRANCES ANTIGO_ORIGINAL"
          ],
          "line": {
           "color": "black",
           "width": 0.5
          },
          "pad": 15,
          "thickness": 20
         },
         "type": "sankey"
        }
       ],
       "layout": {
        "font": {
         "size": 10
        },
        "template": {
         "data": {
          "bar": [
           {
            "error_x": {
             "color": "#2a3f5f"
            },
            "error_y": {
             "color": "#2a3f5f"
            },
            "marker": {
             "line": {
              "color": "#E5ECF6",
              "width": 0.5
             },
             "pattern": {
              "fillmode": "overlay",
              "size": 10,
              "solidity": 0.2
             }
            },
            "type": "bar"
           }
          ],
          "barpolar": [
           {
            "marker": {
             "line": {
              "color": "#E5ECF6",
              "width": 0.5
             },
             "pattern": {
              "fillmode": "overlay",
              "size": 10,
              "solidity": 0.2
             }
            },
            "type": "barpolar"
           }
          ],
          "carpet": [
           {
            "aaxis": {
             "endlinecolor": "#2a3f5f",
             "gridcolor": "white",
             "linecolor": "white",
             "minorgridcolor": "white",
             "startlinecolor": "#2a3f5f"
            },
            "baxis": {
             "endlinecolor": "#2a3f5f",
             "gridcolor": "white",
             "linecolor": "white",
             "minorgridcolor": "white",
             "startlinecolor": "#2a3f5f"
            },
            "type": "carpet"
           }
          ],
          "choropleth": [
           {
            "colorbar": {
             "outlinewidth": 0,
             "ticks": ""
            },
            "type": "choropleth"
           }
          ],
          "contour": [
           {
            "colorbar": {
             "outlinewidth": 0,
             "ticks": ""
            },
            "colorscale": [
             [
              0,
              "#0d0887"
             ],
             [
              0.1111111111111111,
              "#46039f"
             ],
             [
              0.2222222222222222,
              "#7201a8"
             ],
             [
              0.3333333333333333,
              "#9c179e"
             ],
             [
              0.4444444444444444,
              "#bd3786"
             ],
             [
              0.5555555555555556,
              "#d8576b"
             ],
             [
              0.6666666666666666,
              "#ed7953"
             ],
             [
              0.7777777777777778,
              "#fb9f3a"
             ],
             [
              0.8888888888888888,
              "#fdca26"
             ],
             [
              1,
              "#f0f921"
             ]
            ],
            "type": "contour"
           }
          ],
          "contourcarpet": [
           {
            "colorbar": {
             "outlinewidth": 0,
             "ticks": ""
            },
            "type": "contourcarpet"
           }
          ],
          "heatmap": [
           {
            "colorbar": {
             "outlinewidth": 0,
             "ticks": ""
            },
            "colorscale": [
             [
              0,
              "#0d0887"
             ],
             [
              0.1111111111111111,
              "#46039f"
             ],
             [
              0.2222222222222222,
              "#7201a8"
             ],
             [
              0.3333333333333333,
              "#9c179e"
             ],
             [
              0.4444444444444444,
              "#bd3786"
             ],
             [
              0.5555555555555556,
              "#d8576b"
             ],
             [
              0.6666666666666666,
              "#ed7953"
             ],
             [
              0.7777777777777778,
              "#fb9f3a"
             ],
             [
              0.8888888888888888,
              "#fdca26"
             ],
             [
              1,
              "#f0f921"
             ]
            ],
            "type": "heatmap"
           }
          ],
          "histogram": [
           {
            "marker": {
             "pattern": {
              "fillmode": "overlay",
              "size": 10,
              "solidity": 0.2
             }
            },
            "type": "histogram"
           }
          ],
          "histogram2d": [
           {
            "colorbar": {
             "outlinewidth": 0,
             "ticks": ""
            },
            "colorscale": [
             [
              0,
              "#0d0887"
             ],
             [
              0.1111111111111111,
              "#46039f"
             ],
             [
              0.2222222222222222,
              "#7201a8"
             ],
             [
              0.3333333333333333,
              "#9c179e"
             ],
             [
              0.4444444444444444,
              "#bd3786"
             ],
             [
              0.5555555555555556,
              "#d8576b"
             ],
             [
              0.6666666666666666,
              "#ed7953"
             ],
             [
              0.7777777777777778,
              "#fb9f3a"
             ],
             [
              0.8888888888888888,
              "#fdca26"
             ],
             [
              1,
              "#f0f921"
             ]
            ],
            "type": "histogram2d"
           }
          ],
          "histogram2dcontour": [
           {
            "colorbar": {
             "outlinewidth": 0,
             "ticks": ""
            },
            "colorscale": [
             [
              0,
              "#0d0887"
             ],
             [
              0.1111111111111111,
              "#46039f"
             ],
             [
              0.2222222222222222,
              "#7201a8"
             ],
             [
              0.3333333333333333,
              "#9c179e"
             ],
             [
              0.4444444444444444,
              "#bd3786"
             ],
             [
              0.5555555555555556,
              "#d8576b"
             ],
             [
              0.6666666666666666,
              "#ed7953"
             ],
             [
              0.7777777777777778,
              "#fb9f3a"
             ],
             [
              0.8888888888888888,
              "#fdca26"
             ],
             [
              1,
              "#f0f921"
             ]
            ],
            "type": "histogram2dcontour"
           }
          ],
          "mesh3d": [
           {
            "colorbar": {
             "outlinewidth": 0,
             "ticks": ""
            },
            "type": "mesh3d"
           }
          ],
          "parcoords": [
           {
            "line": {
             "colorbar": {
              "outlinewidth": 0,
              "ticks": ""
             }
            },
            "type": "parcoords"
           }
          ],
          "pie": [
           {
            "automargin": true,
            "type": "pie"
           }
          ],
          "scatter": [
           {
            "fillpattern": {
             "fillmode": "overlay",
             "size": 10,
             "solidity": 0.2
            },
            "type": "scatter"
           }
          ],
          "scatter3d": [
           {
            "line": {
             "colorbar": {
              "outlinewidth": 0,
              "ticks": ""
             }
            },
            "marker": {
             "colorbar": {
              "outlinewidth": 0,
              "ticks": ""
             }
            },
            "type": "scatter3d"
           }
          ],
          "scattercarpet": [
           {
            "marker": {
             "colorbar": {
              "outlinewidth": 0,
              "ticks": ""
             }
            },
            "type": "scattercarpet"
           }
          ],
          "scattergeo": [
           {
            "marker": {
             "colorbar": {
              "outlinewidth": 0,
              "ticks": ""
             }
            },
            "type": "scattergeo"
           }
          ],
          "scattergl": [
           {
            "marker": {
             "colorbar": {
              "outlinewidth": 0,
              "ticks": ""
             }
            },
            "type": "scattergl"
           }
          ],
          "scattermap": [
           {
            "marker": {
             "colorbar": {
              "outlinewidth": 0,
              "ticks": ""
             }
            },
            "type": "scattermap"
           }
          ],
          "scattermapbox": [
           {
            "marker": {
             "colorbar": {
              "outlinewidth": 0,
              "ticks": ""
             }
            },
            "type": "scattermapbox"
           }
          ],
          "scatterpolar": [
           {
            "marker": {
             "colorbar": {
              "outlinewidth": 0,
              "ticks": ""
             }
            },
            "type": "scatterpolar"
           }
          ],
          "scatterpolargl": [
           {
            "marker": {
             "colorbar": {
              "outlinewidth": 0,
              "ticks": ""
             }
            },
            "type": "scatterpolargl"
           }
          ],
          "scatterternary": [
           {
            "marker": {
             "colorbar": {
              "outlinewidth": 0,
              "ticks": ""
             }
            },
            "type": "scatterternary"
           }
          ],
          "surface": [
           {
            "colorbar": {
             "outlinewidth": 0,
             "ticks": ""
            },
            "colorscale": [
             [
              0,
              "#0d0887"
             ],
             [
              0.1111111111111111,
              "#46039f"
             ],
             [
              0.2222222222222222,
              "#7201a8"
             ],
             [
              0.3333333333333333,
              "#9c179e"
             ],
             [
              0.4444444444444444,
              "#bd3786"
             ],
             [
              0.5555555555555556,
              "#d8576b"
             ],
             [
              0.6666666666666666,
              "#ed7953"
             ],
             [
              0.7777777777777778,
              "#fb9f3a"
             ],
             [
              0.8888888888888888,
              "#fdca26"
             ],
             [
              1,
              "#f0f921"
             ]
            ],
            "type": "surface"
           }
          ],
          "table": [
           {
            "cells": {
             "fill": {
              "color": "#EBF0F8"
             },
             "line": {
              "color": "white"
             }
            },
            "header": {
             "fill": {
              "color": "#C8D4E3"
             },
             "line": {
              "color": "white"
             }
            },
            "type": "table"
           }
          ]
         },
         "layout": {
          "annotationdefaults": {
           "arrowcolor": "#2a3f5f",
           "arrowhead": 0,
           "arrowwidth": 1
          },
          "autotypenumbers": "strict",
          "coloraxis": {
           "colorbar": {
            "outlinewidth": 0,
            "ticks": ""
           }
          },
          "colorscale": {
           "diverging": [
            [
             0,
             "#8e0152"
            ],
            [
             0.1,
             "#c51b7d"
            ],
            [
             0.2,
             "#de77ae"
            ],
            [
             0.3,
             "#f1b6da"
            ],
            [
             0.4,
             "#fde0ef"
            ],
            [
             0.5,
             "#f7f7f7"
            ],
            [
             0.6,
             "#e6f5d0"
            ],
            [
             0.7,
             "#b8e186"
            ],
            [
             0.8,
             "#7fbc41"
            ],
            [
             0.9,
             "#4d9221"
            ],
            [
             1,
             "#276419"
            ]
           ],
           "sequential": [
            [
             0,
             "#0d0887"
            ],
            [
             0.1111111111111111,
             "#46039f"
            ],
            [
             0.2222222222222222,
             "#7201a8"
            ],
            [
             0.3333333333333333,
             "#9c179e"
            ],
            [
             0.4444444444444444,
             "#bd3786"
            ],
            [
             0.5555555555555556,
             "#d8576b"
            ],
            [
             0.6666666666666666,
             "#ed7953"
            ],
            [
             0.7777777777777778,
             "#fb9f3a"
            ],
            [
             0.8888888888888888,
             "#fdca26"
            ],
            [
             1,
             "#f0f921"
            ]
           ],
           "sequentialminus": [
            [
             0,
             "#0d0887"
            ],
            [
             0.1111111111111111,
             "#46039f"
            ],
            [
             0.2222222222222222,
             "#7201a8"
            ],
            [
             0.3333333333333333,
             "#9c179e"
            ],
            [
             0.4444444444444444,
             "#bd3786"
            ],
            [
             0.5555555555555556,
             "#d8576b"
            ],
            [
             0.6666666666666666,
             "#ed7953"
            ],
            [
             0.7777777777777778,
             "#fb9f3a"
            ],
            [
             0.8888888888888888,
             "#fdca26"
            ],
            [
             1,
             "#f0f921"
            ]
           ]
          },
          "colorway": [
           "#636efa",
           "#EF553B",
           "#00cc96",
           "#ab63fa",
           "#FFA15A",
           "#19d3f3",
           "#FF6692",
           "#B6E880",
           "#FF97FF",
           "#FECB52"
          ],
          "font": {
           "color": "#2a3f5f"
          },
          "geo": {
           "bgcolor": "white",
           "lakecolor": "white",
           "landcolor": "#E5ECF6",
           "showlakes": true,
           "showland": true,
           "subunitcolor": "white"
          },
          "hoverlabel": {
           "align": "left"
          },
          "hovermode": "closest",
          "mapbox": {
           "style": "light"
          },
          "paper_bgcolor": "white",
          "plot_bgcolor": "#E5ECF6",
          "polar": {
           "angularaxis": {
            "gridcolor": "white",
            "linecolor": "white",
            "ticks": ""
           },
           "bgcolor": "#E5ECF6",
           "radialaxis": {
            "gridcolor": "white",
            "linecolor": "white",
            "ticks": ""
           }
          },
          "scene": {
           "xaxis": {
            "backgroundcolor": "#E5ECF6",
            "gridcolor": "white",
            "gridwidth": 2,
            "linecolor": "white",
            "showbackground": true,
            "ticks": "",
            "zerolinecolor": "white"
           },
           "yaxis": {
            "backgroundcolor": "#E5ECF6",
            "gridcolor": "white",
            "gridwidth": 2,
            "linecolor": "white",
            "showbackground": true,
            "ticks": "",
            "zerolinecolor": "white"
           },
           "zaxis": {
            "backgroundcolor": "#E5ECF6",
            "gridcolor": "white",
            "gridwidth": 2,
            "linecolor": "white",
            "showbackground": true,
            "ticks": "",
            "zerolinecolor": "white"
           }
          },
          "shapedefaults": {
           "line": {
            "color": "#2a3f5f"
           }
          },
          "ternary": {
           "aaxis": {
            "gridcolor": "white",
            "linecolor": "white",
            "ticks": ""
           },
           "baxis": {
            "gridcolor": "white",
            "linecolor": "white",
            "ticks": ""
           },
           "bgcolor": "#E5ECF6",
           "caxis": {
            "gridcolor": "white",
            "linecolor": "white",
            "ticks": ""
           }
          },
          "title": {
           "x": 0.05
          },
          "xaxis": {
           "automargin": true,
           "gridcolor": "white",
           "linecolor": "white",
           "ticks": "",
           "title": {
            "standoff": 15
           },
           "zerolinecolor": "white",
           "zerolinewidth": 2
          },
          "yaxis": {
           "automargin": true,
           "gridcolor": "white",
           "linecolor": "white",
           "ticks": "",
           "title": {
            "standoff": 15
           },
           "zerolinecolor": "white",
           "zerolinewidth": 2
          }
         }
        },
        "title": {
         "text": "Traduções feitas em programas de pós graduação brasileiros 2021-2025"
        }
       }
      },
      "image/png": "[encoded data removed]"
     },
     "metadata": {},
     "output_type": "display_data"
    }
   ],
   "source": [
    "import json\n",
    "\n",
    "with open(\"traducoes_brutas.json\") as traducoes_file:\n",
    "    data_traducoes = json.load(traducoes_file)\n",
    "\n",
    "fig = go.Figure(data=[go.Sankey(\n",
    "    node = dict(\n",
    "      pad = 15,\n",
    "      thickness = 20,\n",
    "      line = dict(color = \"black\", width = 0.5),\n",
    "      label = list(data_traducoes[\"labels\"])\n",
    "    ),\n",
    "    link = dict(\n",
    "      source = data_traducoes[\"source\"],\n",
    "      target = data_traducoes[\"target\"],\n",
    "      value = data_traducoes[\"value\"]\n",
    "  ))])\n",
    "        \n",
    "fig.update_layout(title_text=\"Traduções feitas em programas de pós graduação brasileiros 2021-2025\", font_size=10)\n",
    "fig.show()\n"
   ]
  },
  {
   "cell_type": "code",
   "execution_count": 24,
   "metadata": {},
   "outputs": [
    {
     "data": {
      "application/vnd.plotly.v1+json": {
       "config": {
        "plotlyServerURL": "https://plot.ly"
       },
       "data": [
        {
         "link": {
          "source": [
           1,
           1,
           1,
           1,
           1,
           1,
           0,
           7,
           7,
           7,
           7,
           7,
           0,
           5,
           5,
           5,
           5,
           0,
           8,
           8,
           8,
           8,
           8,
           0,
           11,
           11,
           11,
           0,
           12,
           12,
           12,
           0,
           15,
           15,
           15,
           15,
           15,
           15,
           15,
           0,
           1,
           1,
           1,
           1,
           1,
           3,
           5,
           5,
           5,
           3,
           7,
           7,
           3,
           8,
           8,
           8,
           8,
           3,
           15,
           15,
           15,
           15,
           15,
           15,
           15,
           3,
           12,
           12,
           3,
           11,
           11,
           11,
           3,
           5,
           5,
           5,
           5,
           4,
           1,
           1,
           1,
           1,
           1,
           1,
           4,
           8,
           8,
           8,
           8,
           4,
           11,
           11,
           11,
           4,
           12,
           12,
           12,
           12,
           12,
           4,
           15,
           15,
           15,
           15,
           15,
           15,
           15,
           4,
           7,
           7,
           7,
           7,
           4,
           1,
           13,
           5,
           13,
           8,
           8,
           13,
           11,
           11,
           13,
           15,
           15,
           15,
           15,
           15,
           15,
           13,
           12,
           12,
           13,
           7,
           7,
           13
          ],
          "target": [
           2,
           6,
           14,
           10,
           9,
           16,
           1,
           9,
           2,
           14,
           6,
           16,
           7,
           2,
           6,
           14,
           16,
           5,
           2,
           14,
           16,
           6,
           10,
           8,
           2,
           14,
           16,
           11,
           2,
           17,
           6,
           12,
           6,
           16,
           2,
           10,
           14,
           17,
           9,
           15,
           2,
           17,
           6,
           16,
           10,
           1,
           6,
           2,
           14,
           5,
           6,
           2,
           7,
           10,
           2,
           6,
           14,
           8,
           9,
           6,
           2,
           10,
           16,
           17,
           14,
           15,
           2,
           16,
           12,
           2,
           6,
           17,
           11,
           6,
           2,
           14,
           16,
           5,
           2,
           6,
           14,
           10,
           16,
           9,
           1,
           2,
           10,
           16,
           14,
           8,
           2,
           14,
           16,
           11,
           2,
           16,
           9,
           17,
           14,
           12,
           10,
           2,
           6,
           14,
           9,
           16,
           17,
           15,
           2,
           9,
           6,
           14,
           7,
           2,
           1,
           2,
           5,
           2,
           14,
           8,
           2,
           14,
           11,
           2,
           10,
           17,
           6,
           16,
           14,
           15,
           2,
           16,
           12,
           2,
           16,
           7
          ],
          "value": [
           1082,
           13,
           10,
           6,
           1,
           6,
           1118,
           3,
           141,
           3,
           1,
           1,
           149,
           187,
           5,
           4,
           2,
           198,
           646,
           21,
           2,
           2,
           3,
           674,
           317,
           5,
           3,
           325,
           190,
           3,
           3,
           196,
           216,
           19,
           74,
           24,
           91,
           2,
           27,
           453,
           251,
           1,
           4,
           1,
           1,
           258,
           7,
           16,
           1,
           24,
           1,
           46,
           47,
           2,
           70,
           1,
           2,
           75,
           4,
           67,
           12,
           3,
           5,
           2,
           9,
           102,
           38,
           1,
           39,
           61,
           1,
           7,
           69,
           2,
           195,
           5,
           2,
           204,
           571,
           4,
           10,
           3,
           1,
           1,
           590,
           342,
           2,
           2,
           1,
           347,
           170,
           3,
           5,
           178,
           128,
           2,
           2,
           1,
           2,
           135,
           5,
           29,
           85,
           29,
           3,
           5,
           7,
           163,
           152,
           3,
           1,
           4,
           160,
           50,
           50,
           18,
           18,
           24,
           2,
           26,
           14,
           1,
           15,
           4,
           2,
           2,
           4,
           3,
           2,
           17,
           3,
           1,
           4,
           14,
           1,
           15
          ]
         },
         "node": {
          "label": [
           "MEIO DIGITAL",
           "INGLES_ORIGINAL",
           "PORTUGUES_TRADUZIDO",
           "VÃRIOS",
           "IMPRESSO",
           "OUTRO_ORIGINAL",
           "INGLES_TRADUZIDO",
           "ITALIANO_ORIGINAL",
           "FRANCES_ORIGINAL",
           "ITALIANO_TRADUZIDO",
           "FRANCES_TRADUZIDO",
           "ESPANHOL_ORIGINAL",
           "ALEMAO_ORIGINAL",
           "OUTRO",
           "ESPANHOL_TRADUZIDO",
           "PORTUGUES_ORIGINAL",
           "OUTRO_TRADUZIDO",
           "ALEMAO_TRADUZIDO"
          ],
          "line": {
           "color": "black",
           "width": 0.5
          },
          "pad": 15,
          "thickness": 20
         },
         "type": "sankey"
        }
       ],
       "layout": {
        "font": {
         "size": 10
        },
        "template": {
         "data": {
          "bar": [
           {
            "error_x": {
             "color": "#2a3f5f"
            },
            "error_y": {
             "color": "#2a3f5f"
            },
            "marker": {
             "line": {
              "color": "#E5ECF6",
              "width": 0.5
             },
             "pattern": {
              "fillmode": "overlay",
              "size": 10,
              "solidity": 0.2
             }
            },
            "type": "bar"
           }
          ],
          "barpolar": [
           {
            "marker": {
             "line": {
              "color": "#E5ECF6",
              "width": 0.5
             },
             "pattern": {
              "fillmode": "overlay",
              "size": 10,
              "solidity": 0.2
             }
            },
            "type": "barpolar"
           }
          ],
          "carpet": [
           {
            "aaxis": {
             "endlinecolor": "#2a3f5f",
             "gridcolor": "white",
             "linecolor": "white",
             "minorgridcolor": "white",
             "startlinecolor": "#2a3f5f"
            },
            "baxis": {
             "endlinecolor": "#2a3f5f",
             "gridcolor": "white",
             "linecolor": "white",
             "minorgridcolor": "white",
             "startlinecolor": "#2a3f5f"
            },
            "type": "carpet"
           }
          ],
          "choropleth": [
           {
            "colorbar": {
             "outlinewidth": 0,
             "ticks": ""
            },
            "type": "choropleth"
           }
          ],
          "contour": [
           {
            "colorbar": {
             "outlinewidth": 0,
             "ticks": ""
            },
            "colorscale": [
             [
              0,
              "#0d0887"
             ],
             [
              0.1111111111111111,
              "#46039f"
             ],
             [
              0.2222222222222222,
              "#7201a8"
             ],
             [
              0.3333333333333333,
              "#9c179e"
             ],
             [
              0.4444444444444444,
              "#bd3786"
             ],
             [
              0.5555555555555556,
              "#d8576b"
             ],
             [
              0.6666666666666666,
              "#ed7953"
             ],
             [
              0.7777777777777778,
              "#fb9f3a"
             ],
             [
              0.8888888888888888,
              "#fdca26"
             ],
             [
              1,
              "#f0f921"
             ]
            ],
            "type": "contour"
           }
          ],
          "contourcarpet": [
           {
            "colorbar": {
             "outlinewidth": 0,
             "ticks": ""
            },
            "type": "contourcarpet"
           }
          ],
          "heatmap": [
           {
            "colorbar": {
             "outlinewidth": 0,
             "ticks": ""
            },
            "colorscale": [
             [
              0,
              "#0d0887"
             ],
             [
              0.1111111111111111,
              "#46039f"
             ],
             [
              0.2222222222222222,
              "#7201a8"
             ],
             [
              0.3333333333333333,
              "#9c179e"
             ],
             [
              0.4444444444444444,
              "#bd3786"
             ],
             [
              0.5555555555555556,
              "#d8576b"
             ],
             [
              0.6666666666666666,
              "#ed7953"
             ],
             [
              0.7777777777777778,
              "#fb9f3a"
             ],
             [
              0.8888888888888888,
              "#fdca26"
             ],
             [
              1,
              "#f0f921"
             ]
            ],
            "type": "heatmap"
           }
          ],
          "histogram": [
           {
            "marker": {
             "pattern": {
              "fillmode": "overlay",
              "size": 10,
              "solidity": 0.2
             }
            },
            "type": "histogram"
           }
          ],
          "histogram2d": [
           {
            "colorbar": {
             "outlinewidth": 0,
             "ticks": ""
            },
            "colorscale": [
             [
              0,
              "#0d0887"
             ],
             [
              0.1111111111111111,
              "#46039f"
             ],
             [
              0.2222222222222222,
              "#7201a8"
             ],
             [
              0.3333333333333333,
              "#9c179e"
             ],
             [
              0.4444444444444444,
              "#bd3786"
             ],
             [
              0.5555555555555556,
              "#d8576b"
             ],
             [
              0.6666666666666666,
              "#ed7953"
             ],
             [
              0.7777777777777778,
              "#fb9f3a"
             ],
             [
              0.8888888888888888,
              "#fdca26"
             ],
             [
              1,
              "#f0f921"
             ]
            ],
            "type": "histogram2d"
           }
          ],
          "histogram2dcontour": [
           {
            "colorbar": {
             "outlinewidth": 0,
             "ticks": ""
            },
            "colorscale": [
             [
              0,
              "#0d0887"
             ],
             [
              0.1111111111111111,
              "#46039f"
             ],
             [
              0.2222222222222222,
              "#7201a8"
             ],
             [
              0.3333333333333333,
              "#9c179e"
             ],
             [
              0.4444444444444444,
              "#bd3786"
             ],
             [
              0.5555555555555556,
              "#d8576b"
             ],
             [
              0.6666666666666666,
              "#ed7953"
             ],
             [
              0.7777777777777778,
              "#fb9f3a"
             ],
             [
              0.8888888888888888,
              "#fdca26"
             ],
             [
              1,
              "#f0f921"
             ]
            ],
            "type": "histogram2dcontour"
           }
          ],
          "mesh3d": [
           {
            "colorbar": {
             "outlinewidth": 0,
             "ticks": ""
            },
            "type": "mesh3d"
           }
          ],
          "parcoords": [
           {
            "line": {
             "colorbar": {
              "outlinewidth": 0,
              "ticks": ""
             }
            },
            "type": "parcoords"
           }
          ],
          "pie": [
           {
            "automargin": true,
            "type": "pie"
           }
          ],
          "scatter": [
           {
            "fillpattern": {
             "fillmode": "overlay",
             "size": 10,
             "solidity": 0.2
            },
            "type": "scatter"
           }
          ],
          "scatter3d": [
           {
            "line": {
             "colorbar": {
              "outlinewidth": 0,
              "ticks": ""
             }
            },
            "marker": {
             "colorbar": {
              "outlinewidth": 0,
              "ticks": ""
             }
            },
            "type": "scatter3d"
           }
          ],
          "scattercarpet": [
           {
            "marker": {
             "colorbar": {
              "outlinewidth": 0,
              "ticks": ""
             }
            },
            "type": "scattercarpet"
           }
          ],
          "scattergeo": [
           {
            "marker": {
             "colorbar": {
              "outlinewidth": 0,
              "ticks": ""
             }
            },
            "type": "scattergeo"
           }
          ],
          "scattergl": [
           {
            "marker": {
             "colorbar": {
              "outlinewidth": 0,
              "ticks": ""
             }
            },
            "type": "scattergl"
           }
          ],
          "scattermap": [
           {
            "marker": {
             "colorbar": {
              "outlinewidth": 0,
              "ticks": ""
             }
            },
            "type": "scattermap"
           }
          ],
          "scattermapbox": [
           {
            "marker": {
             "colorbar": {
              "outlinewidth": 0,
              "ticks": ""
             }
            },
            "type": "scattermapbox"
           }
          ],
          "scatterpolar": [
           {
            "marker": {
             "colorbar": {
              "outlinewidth": 0,
              "ticks": ""
             }
            },
            "type": "scatterpolar"
           }
          ],
          "scatterpolargl": [
           {
            "marker": {
             "colorbar": {
              "outlinewidth": 0,
              "ticks": ""
             }
            },
            "type": "scatterpolargl"
           }
          ],
          "scatterternary": [
           {
            "marker": {
             "colorbar": {
              "outlinewidth": 0,
              "ticks": ""
             }
            },
            "type": "scatterternary"
           }
          ],
          "surface": [
           {
            "colorbar": {
             "outlinewidth": 0,
             "ticks": ""
            },
            "colorscale": [
             [
              0,
              "#0d0887"
             ],
             [
              0.1111111111111111,
              "#46039f"
             ],
             [
              0.2222222222222222,
              "#7201a8"
             ],
             [
              0.3333333333333333,
              "#9c179e"
             ],
             [
              0.4444444444444444,
              "#bd3786"
             ],
             [
              0.5555555555555556,
              "#d8576b"
             ],
             [
              0.6666666666666666,
              "#ed7953"
             ],
             [
              0.7777777777777778,
              "#fb9f3a"
             ],
             [
              0.8888888888888888,
              "#fdca26"
             ],
             [
              1,
              "#f0f921"
             ]
            ],
            "type": "surface"
           }
          ],
          "table": [
           {
            "cells": {
             "fill": {
              "color": "#EBF0F8"
             },
             "line": {
              "color": "white"
             }
            },
            "header": {
             "fill": {
              "color": "#C8D4E3"
             },
             "line": {
              "color": "white"
             }
            },
            "type": "table"
           }
          ]
         },
         "layout": {
          "annotationdefaults": {
           "arrowcolor": "#2a3f5f",
           "arrowhead": 0,
           "arrowwidth": 1
          },
          "autotypenumbers": "strict",
          "coloraxis": {
           "colorbar": {
            "outlinewidth": 0,
            "ticks": ""
           }
          },
          "colorscale": {
           "diverging": [
            [
             0,
             "#8e0152"
            ],
            [
             0.1,
             "#c51b7d"
            ],
            [
             0.2,
             "#de77ae"
            ],
            [
             0.3,
             "#f1b6da"
            ],
            [
             0.4,
             "#fde0ef"
            ],
            [
             0.5,
             "#f7f7f7"
            ],
            [
             0.6,
             "#e6f5d0"
            ],
            [
             0.7,
             "#b8e186"
            ],
            [
             0.8,
             "#7fbc41"
            ],
            [
             0.9,
             "#4d9221"
            ],
            [
             1,
             "#276419"
            ]
           ],
           "sequential": [
            [
             0,
             "#0d0887"
            ],
            [
             0.1111111111111111,
             "#46039f"
            ],
            [
             0.2222222222222222,
             "#7201a8"
            ],
            [
             0.3333333333333333,
             "#9c179e"
            ],
            [
             0.4444444444444444,
             "#bd3786"
            ],
            [
             0.5555555555555556,
             "#d8576b"
            ],
            [
             0.6666666666666666,
             "#ed7953"
            ],
            [
             0.7777777777777778,
             "#fb9f3a"
            ],
            [
             0.8888888888888888,
             "#fdca26"
            ],
            [
             1,
             "#f0f921"
            ]
           ],
           "sequentialminus": [
            [
             0,
             "#0d0887"
            ],
            [
             0.1111111111111111,
             "#46039f"
            ],
            [
             0.2222222222222222,
             "#7201a8"
            ],
            [
             0.3333333333333333,
             "#9c179e"
            ],
            [
             0.4444444444444444,
             "#bd3786"
            ],
            [
             0.5555555555555556,
             "#d8576b"
            ],
            [
             0.6666666666666666,
             "#ed7953"
            ],
            [
             0.7777777777777778,
             "#fb9f3a"
            ],
            [
             0.8888888888888888,
             "#fdca26"
            ],
            [
             1,
             "#f0f921"
            ]
           ]
          },
          "colorway": [
           "#636efa",
           "#EF553B",
           "#00cc96",
           "#ab63fa",
           "#FFA15A",
           "#19d3f3",
           "#FF6692",
           "#B6E880",
           "#FF97FF",
           "#FECB52"
          ],
          "font": {
           "color": "#2a3f5f"
          },
          "geo": {
           "bgcolor": "white",
           "lakecolor": "white",
           "landcolor": "#E5ECF6",
           "showlakes": true,
           "showland": true,
           "subunitcolor": "white"
          },
          "hoverlabel": {
           "align": "left"
          },
          "hovermode": "closest",
          "mapbox": {
           "style": "light"
          },
          "paper_bgcolor": "white",
          "plot_bgcolor": "#E5ECF6",
          "polar": {
           "angularaxis": {
            "gridcolor": "white",
            "linecolor": "white",
            "ticks": ""
           },
           "bgcolor": "#E5ECF6",
           "radialaxis": {
            "gridcolor": "white",
            "linecolor": "white",
            "ticks": ""
           }
          },
          "scene": {
           "xaxis": {
            "backgroundcolor": "#E5ECF6",
            "gridcolor": "white",
            "gridwidth": 2,
            "linecolor": "white",
            "showbackground": true,
            "ticks": "",
            "zerolinecolor": "white"
           },
           "yaxis": {
            "backgroundcolor": "#E5ECF6",
            "gridcolor": "white",
            "gridwidth": 2,
            "linecolor": "white",
            "showbackground": true,
            "ticks": "",
            "zerolinecolor": "white"
           },
           "zaxis": {
            "backgroundcolor": "#E5ECF6",
            "gridcolor": "white",
            "gridwidth": 2,
            "linecolor": "white",
            "showbackground": true,
            "ticks": "",
            "zerolinecolor": "white"
           }
          },
          "shapedefaults": {
           "line": {
            "color": "#2a3f5f"
           }
          },
          "ternary": {
           "aaxis": {
            "gridcolor": "white",
            "linecolor": "white",
            "ticks": ""
           },
           "baxis": {
            "gridcolor": "white",
            "linecolor": "white",
            "ticks": ""
           },
           "bgcolor": "#E5ECF6",
           "caxis": {
            "gridcolor": "white",
            "linecolor": "white",
            "ticks": ""
           }
          },
          "title": {
           "x": 0.05
          },
          "xaxis": {
           "automargin": true,
           "gridcolor": "white",
           "linecolor": "white",
           "ticks": "",
           "title": {
            "standoff": 15
           },
           "zerolinecolor": "white",
           "zerolinewidth": 2
          },
          "yaxis": {
           "automargin": true,
           "gridcolor": "white",
           "linecolor": "white",
           "ticks": "",
           "title": {
            "standoff": 15
           },
           "zerolinecolor": "white",
           "zerolinewidth": 2
          }
         }
        },
        "title": {
         "text": "Traduções feitas em programas de pós graduação brasileiros 2021-2025"
        }
       }
      },
      "image/png": "[encoded data removed]"
     },
     "metadata": {},
     "output_type": "display_data"
    }
   ],
   "source": [
    "import json\n",
    "\n",
    "with open(\"traducoes_limpas.json\") as traducoes_file:\n",
    "    data_traducoes = json.load(traducoes_file)\n",
    "\n",
    "fig = go.Figure(data=[go.Sankey(\n",
    "    node = dict(\n",
    "      pad = 15,\n",
    "      thickness = 20,\n",
    "      line = dict(color = \"black\", width = 0.5),\n",
    "      label = list(data_traducoes[\"labels\"])\n",
    "    ),\n",
    "    link = dict(\n",
    "      source = data_traducoes[\"source\"],\n",
    "      target = data_traducoes[\"target\"],\n",
    "      value = data_traducoes[\"value\"]\n",
    "  ))])\n",
    "        \n",
    "fig.update_layout(title_text=\"Traduções feitas em programas de pós graduação brasileiros 2021-2025\", font_size=10)\n",
    "fig.show()\n"
   ]
  }
 ],
 "metadata": {
  "colab": {
   "provenance": []
  },
  "kernelspec": {
   "display_name": "Python 3",
   "language": "python",
   "name": "python3"
  },
  "language_info": {
   "codemirror_mode": {
    "name": "ipython",
    "version": 3
   },
   "file_extension": ".py",
   "mimetype": "text/x-python",
   "name": "python",
   "nbconvert_exporter": "python",
   "pygments_lexer": "ipython3",
   "version": "3.13.5"
  }
 },
 "nbformat": 4,
 "nbformat_minor": 4
}
