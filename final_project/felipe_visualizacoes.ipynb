{
 "cells": [
  {
   "metadata": {},
   "cell_type": "markdown",
   "source": [
    "# Scatter plot de frequencia X Nota\n",
    "\n",
    "- Identificar correlacao de frequencia e nota\n",
    "- Interatividade deve poder separar por depto"
   ],
   "id": "f057a6a1d1d08428"
  },
  {
   "cell_type": "code",
   "id": "initial_id",
   "metadata": {
    "collapsed": true,
    "ExecuteTime": {
     "end_time": "2025-10-27T14:22:39.281989Z",
     "start_time": "2025-10-27T14:22:39.279615Z"
    }
   },
   "source": [
    "import numpy as np\n",
    "import pandas as pd\n",
    "import plotly.express as px\n",
    "import plotly.graph_objects as go\n",
    "from pprint import pprint"
   ],
   "outputs": [],
   "execution_count": 31
  },
  {
   "metadata": {
    "ExecuteTime": {
     "end_time": "2025-10-27T13:52:40.747636Z",
     "start_time": "2025-10-27T13:52:40.695309Z"
    }
   },
   "cell_type": "code",
   "outputs": [
    {
     "data": {
      "text/plain": [
       "       Sigla                                               Nome Ano/Semestre  \\\n",
       "0    SCC0200  Informação Profissional e Tutoria Acadêmica em...       2023/1   \n",
       "1    SCC0221               Introdução à Ciência de Computação I       2023/1   \n",
       "2    SCC0222  Laboratório de Introdução à Ciência de Computa...       2023/1   \n",
       "3    SMA0300                                Geometria Analítica       2023/1   \n",
       "4    SMA0353                                          Cálculo I       2023/1   \n",
       "..       ...                                                ...          ...   \n",
       "219  SME0104                                   Cálculo Numérico       2025/1   \n",
       "220  SME0121                             Processos Estocásticos       2025/1   \n",
       "221  SME0130                                    Redes Complexas       2025/1   \n",
       "222  SSC0130                             Engenharia de Software       2025/1   \n",
       "223  SSC0142                              Redes de Computadores       2025/1   \n",
       "\n",
       "     AU  TR  AU+TR  EXT   FREQ  NOTA  student_id depto  Idade Curso  \\\n",
       "0     2   0      2   30  100.0  10.0           0   SCC     20   BCC   \n",
       "1     4   1      5   90   97.0   9.0           0   SCC     20   BCC   \n",
       "2     2   2      4   90  100.0   9.8           0   SCC     20   BCC   \n",
       "3     4   0      4   60  100.0   7.5           0   SMA     20   BCC   \n",
       "4     4   0      4   60  100.0  10.0           0   SMA     20   BCC   \n",
       "..   ..  ..    ...  ...    ...   ...         ...   ...    ...   ...   \n",
       "219   4   0      4    0  100.0   9.5           4   SME     20   BCC   \n",
       "220   4   0      4    0   80.0   8.5           4   SME     20   BCC   \n",
       "221   4   2      6    0  100.0  10.0           4   SME     20   BCC   \n",
       "222   4   1      5   15  100.0   8.4           4   SSC     20   BCC   \n",
       "223   4   2      6   30   80.0   7.7           4   SSC     20   BCC   \n",
       "\n",
       "     AnoIngresso   Ponderada   Classificacao   AnoConclusao   AAC   AEX  \n",
       "0           2023         9.1              16           2027    80   190  \n",
       "1           2023         9.1              16           2027    80   190  \n",
       "2           2023         9.1              16           2027    80   190  \n",
       "3           2023         9.1              16           2027    80   190  \n",
       "4           2023         9.1              16           2027    80   190  \n",
       "..           ...         ...             ...            ...   ...   ...  \n",
       "219         2023         8.9              32           2027     1   180  \n",
       "220         2023         8.9              32           2027     1   180  \n",
       "221         2023         8.9              32           2027     1   180  \n",
       "222         2023         8.9              32           2027     1   180  \n",
       "223         2023         8.9              32           2027     1   180  \n",
       "\n",
       "[224 rows x 19 columns]"
      ],
      "text/html": [
       "<div>\n",
       "<style scoped>\n",
       "    .dataframe tbody tr th:only-of-type {\n",
       "        vertical-align: middle;\n",
       "    }\n",
       "\n",
       "    .dataframe tbody tr th {\n",
       "        vertical-align: top;\n",
       "    }\n",
       "\n",
       "    .dataframe thead th {\n",
       "        text-align: right;\n",
       "    }\n",
       "</style>\n",
       "<table border=\"1\" class=\"dataframe\">\n",
       "  <thead>\n",
       "    <tr style=\"text-align: right;\">\n",
       "      <th></th>\n",
       "      <th>Sigla</th>\n",
       "      <th>Nome</th>\n",
       "      <th>Ano/Semestre</th>\n",
       "      <th>AU</th>\n",
       "      <th>TR</th>\n",
       "      <th>AU+TR</th>\n",
       "      <th>EXT</th>\n",
       "      <th>FREQ</th>\n",
       "      <th>NOTA</th>\n",
       "      <th>student_id</th>\n",
       "      <th>depto</th>\n",
       "      <th>Idade</th>\n",
       "      <th>Curso</th>\n",
       "      <th>AnoIngresso</th>\n",
       "      <th>Ponderada</th>\n",
       "      <th>Classificacao</th>\n",
       "      <th>AnoConclusao</th>\n",
       "      <th>AAC</th>\n",
       "      <th>AEX</th>\n",
       "    </tr>\n",
       "  </thead>\n",
       "  <tbody>\n",
       "    <tr>\n",
       "      <th>0</th>\n",
       "      <td>SCC0200</td>\n",
       "      <td>Informação Profissional e Tutoria Acadêmica em...</td>\n",
       "      <td>2023/1</td>\n",
       "      <td>2</td>\n",
       "      <td>0</td>\n",
       "      <td>2</td>\n",
       "      <td>30</td>\n",
       "      <td>100.0</td>\n",
       "      <td>10.0</td>\n",
       "      <td>0</td>\n",
       "      <td>SCC</td>\n",
       "      <td>20</td>\n",
       "      <td>BCC</td>\n",
       "      <td>2023</td>\n",
       "      <td>9.1</td>\n",
       "      <td>16</td>\n",
       "      <td>2027</td>\n",
       "      <td>80</td>\n",
       "      <td>190</td>\n",
       "    </tr>\n",
       "    <tr>\n",
       "      <th>1</th>\n",
       "      <td>SCC0221</td>\n",
       "      <td>Introdução à Ciência de Computação I</td>\n",
       "      <td>2023/1</td>\n",
       "      <td>4</td>\n",
       "      <td>1</td>\n",
       "      <td>5</td>\n",
       "      <td>90</td>\n",
       "      <td>97.0</td>\n",
       "      <td>9.0</td>\n",
       "      <td>0</td>\n",
       "      <td>SCC</td>\n",
       "      <td>20</td>\n",
       "      <td>BCC</td>\n",
       "      <td>2023</td>\n",
       "      <td>9.1</td>\n",
       "      <td>16</td>\n",
       "      <td>2027</td>\n",
       "      <td>80</td>\n",
       "      <td>190</td>\n",
       "    </tr>\n",
       "    <tr>\n",
       "      <th>2</th>\n",
       "      <td>SCC0222</td>\n",
       "      <td>Laboratório de Introdução à Ciência de Computa...</td>\n",
       "      <td>2023/1</td>\n",
       "      <td>2</td>\n",
       "      <td>2</td>\n",
       "      <td>4</td>\n",
       "      <td>90</td>\n",
       "      <td>100.0</td>\n",
       "      <td>9.8</td>\n",
       "      <td>0</td>\n",
       "      <td>SCC</td>\n",
       "      <td>20</td>\n",
       "      <td>BCC</td>\n",
       "      <td>2023</td>\n",
       "      <td>9.1</td>\n",
       "      <td>16</td>\n",
       "      <td>2027</td>\n",
       "      <td>80</td>\n",
       "      <td>190</td>\n",
       "    </tr>\n",
       "    <tr>\n",
       "      <th>3</th>\n",
       "      <td>SMA0300</td>\n",
       "      <td>Geometria Analítica</td>\n",
       "      <td>2023/1</td>\n",
       "      <td>4</td>\n",
       "      <td>0</td>\n",
       "      <td>4</td>\n",
       "      <td>60</td>\n",
       "      <td>100.0</td>\n",
       "      <td>7.5</td>\n",
       "      <td>0</td>\n",
       "      <td>SMA</td>\n",
       "      <td>20</td>\n",
       "      <td>BCC</td>\n",
       "      <td>2023</td>\n",
       "      <td>9.1</td>\n",
       "      <td>16</td>\n",
       "      <td>2027</td>\n",
       "      <td>80</td>\n",
       "      <td>190</td>\n",
       "    </tr>\n",
       "    <tr>\n",
       "      <th>4</th>\n",
       "      <td>SMA0353</td>\n",
       "      <td>Cálculo I</td>\n",
       "      <td>2023/1</td>\n",
       "      <td>4</td>\n",
       "      <td>0</td>\n",
       "      <td>4</td>\n",
       "      <td>60</td>\n",
       "      <td>100.0</td>\n",
       "      <td>10.0</td>\n",
       "      <td>0</td>\n",
       "      <td>SMA</td>\n",
       "      <td>20</td>\n",
       "      <td>BCC</td>\n",
       "      <td>2023</td>\n",
       "      <td>9.1</td>\n",
       "      <td>16</td>\n",
       "      <td>2027</td>\n",
       "      <td>80</td>\n",
       "      <td>190</td>\n",
       "    </tr>\n",
       "    <tr>\n",
       "      <th>...</th>\n",
       "      <td>...</td>\n",
       "      <td>...</td>\n",
       "      <td>...</td>\n",
       "      <td>...</td>\n",
       "      <td>...</td>\n",
       "      <td>...</td>\n",
       "      <td>...</td>\n",
       "      <td>...</td>\n",
       "      <td>...</td>\n",
       "      <td>...</td>\n",
       "      <td>...</td>\n",
       "      <td>...</td>\n",
       "      <td>...</td>\n",
       "      <td>...</td>\n",
       "      <td>...</td>\n",
       "      <td>...</td>\n",
       "      <td>...</td>\n",
       "      <td>...</td>\n",
       "      <td>...</td>\n",
       "    </tr>\n",
       "    <tr>\n",
       "      <th>219</th>\n",
       "      <td>SME0104</td>\n",
       "      <td>Cálculo Numérico</td>\n",
       "      <td>2025/1</td>\n",
       "      <td>4</td>\n",
       "      <td>0</td>\n",
       "      <td>4</td>\n",
       "      <td>0</td>\n",
       "      <td>100.0</td>\n",
       "      <td>9.5</td>\n",
       "      <td>4</td>\n",
       "      <td>SME</td>\n",
       "      <td>20</td>\n",
       "      <td>BCC</td>\n",
       "      <td>2023</td>\n",
       "      <td>8.9</td>\n",
       "      <td>32</td>\n",
       "      <td>2027</td>\n",
       "      <td>1</td>\n",
       "      <td>180</td>\n",
       "    </tr>\n",
       "    <tr>\n",
       "      <th>220</th>\n",
       "      <td>SME0121</td>\n",
       "      <td>Processos Estocásticos</td>\n",
       "      <td>2025/1</td>\n",
       "      <td>4</td>\n",
       "      <td>0</td>\n",
       "      <td>4</td>\n",
       "      <td>0</td>\n",
       "      <td>80.0</td>\n",
       "      <td>8.5</td>\n",
       "      <td>4</td>\n",
       "      <td>SME</td>\n",
       "      <td>20</td>\n",
       "      <td>BCC</td>\n",
       "      <td>2023</td>\n",
       "      <td>8.9</td>\n",
       "      <td>32</td>\n",
       "      <td>2027</td>\n",
       "      <td>1</td>\n",
       "      <td>180</td>\n",
       "    </tr>\n",
       "    <tr>\n",
       "      <th>221</th>\n",
       "      <td>SME0130</td>\n",
       "      <td>Redes Complexas</td>\n",
       "      <td>2025/1</td>\n",
       "      <td>4</td>\n",
       "      <td>2</td>\n",
       "      <td>6</td>\n",
       "      <td>0</td>\n",
       "      <td>100.0</td>\n",
       "      <td>10.0</td>\n",
       "      <td>4</td>\n",
       "      <td>SME</td>\n",
       "      <td>20</td>\n",
       "      <td>BCC</td>\n",
       "      <td>2023</td>\n",
       "      <td>8.9</td>\n",
       "      <td>32</td>\n",
       "      <td>2027</td>\n",
       "      <td>1</td>\n",
       "      <td>180</td>\n",
       "    </tr>\n",
       "    <tr>\n",
       "      <th>222</th>\n",
       "      <td>SSC0130</td>\n",
       "      <td>Engenharia de Software</td>\n",
       "      <td>2025/1</td>\n",
       "      <td>4</td>\n",
       "      <td>1</td>\n",
       "      <td>5</td>\n",
       "      <td>15</td>\n",
       "      <td>100.0</td>\n",
       "      <td>8.4</td>\n",
       "      <td>4</td>\n",
       "      <td>SSC</td>\n",
       "      <td>20</td>\n",
       "      <td>BCC</td>\n",
       "      <td>2023</td>\n",
       "      <td>8.9</td>\n",
       "      <td>32</td>\n",
       "      <td>2027</td>\n",
       "      <td>1</td>\n",
       "      <td>180</td>\n",
       "    </tr>\n",
       "    <tr>\n",
       "      <th>223</th>\n",
       "      <td>SSC0142</td>\n",
       "      <td>Redes de Computadores</td>\n",
       "      <td>2025/1</td>\n",
       "      <td>4</td>\n",
       "      <td>2</td>\n",
       "      <td>6</td>\n",
       "      <td>30</td>\n",
       "      <td>80.0</td>\n",
       "      <td>7.7</td>\n",
       "      <td>4</td>\n",
       "      <td>SSC</td>\n",
       "      <td>20</td>\n",
       "      <td>BCC</td>\n",
       "      <td>2023</td>\n",
       "      <td>8.9</td>\n",
       "      <td>32</td>\n",
       "      <td>2027</td>\n",
       "      <td>1</td>\n",
       "      <td>180</td>\n",
       "    </tr>\n",
       "  </tbody>\n",
       "</table>\n",
       "<p>224 rows × 19 columns</p>\n",
       "</div>"
      ]
     },
     "execution_count": 2,
     "metadata": {},
     "output_type": "execute_result"
    }
   ],
   "execution_count": 2,
   "source": [
    "students = pd.read_csv(\"../data/students.csv\", index_col=\"IdEstudante\")\n",
    "grades = pd.read_csv(\"../data/final_table.csv\")\n",
    "\n",
    "grades[\"depto\"] = grades[\"Sigla\"].apply(lambda s: s[:3])\n",
    "\n",
    "joined_df = grades.join(students, on=\"student_id\", how=\"inner\")\n",
    "joined_df"
   ],
   "id": "d17d59d0c997ba6d"
  },
  {
   "metadata": {
    "ExecuteTime": {
     "end_time": "2025-10-25T15:11:56.627890Z",
     "start_time": "2025-10-25T15:11:56.584092Z"
    }
   },
   "cell_type": "code",
   "outputs": [
    {
     "data": {
      "application/vnd.plotly.v1+json": {
       "data": [
        {
         "customdata": [
          [
           "Informação Profissional e Tutoria Acadêmica em Ciências da Computação"
          ],
          [
           "Introdução à Ciência de Computação I"
          ],
          [
           "Laboratório de Introdução à Ciência de Computação I"
          ],
          [
           "Introdução à Ciência de Computação II"
          ],
          [
           "Algoritmos e Estruturas de Dados I"
          ],
          [
           "Laboratório de Introdução à Ciência da Computação II"
          ],
          [
           "Organização de Arquivos"
          ],
          [
           "Modelagem Computacional em Grafos"
          ],
          [
           "Algoritmos Avançados e Aplicações"
          ],
          [
           "Seminários em Computação I"
          ],
          [
           "Introdução ao Desenvolvimento Web"
          ],
          [
           "Bases de Dados"
          ],
          [
           "Informação Profissional e Tutoria Acadêmica em Ciências da Computação"
          ],
          [
           "Introdução à Ciência de Computação I"
          ],
          [
           "Laboratório de Introdução à Ciência de Computação I"
          ],
          [
           "Introdução à Ciência de Computação II"
          ],
          [
           "Algoritmos e Estruturas de Dados I"
          ],
          [
           "Laboratório de Introdução à Ciência da Computação II"
          ],
          [
           "Organização de Arquivos"
          ],
          [
           "Modelagem Computacional em Grafos"
          ],
          [
           "Algoritmos Avançados e Aplicações"
          ],
          [
           "Tópicos Avançados em Ciências de Computação II"
          ],
          [
           "Introdução ao Desenvolvimento Web"
          ],
          [
           "Bases de Dados"
          ],
          [
           "Informação Profissional e Tutoria Acadêmica em Ciências da Computação"
          ],
          [
           "Introdução à Ciência de Computação I"
          ],
          [
           "Laboratório de Introdução à Ciência de Computação I"
          ],
          [
           "Introdução à Ciência de Computação II"
          ],
          [
           "Algoritmos e Estruturas de Dados I"
          ],
          [
           "Organização de Arquivos"
          ],
          [
           "Modelagem Computacional em Grafos"
          ],
          [
           "Algoritmos Avançados e Aplicações"
          ],
          [
           "Introdução ao Desenvolvimento Web"
          ],
          [
           "Bases de Dados"
          ],
          [
           "Teoria da Computação e Linguagens Formais"
          ],
          [
           "Computadores e Sociedade I"
          ],
          [
           "Seminários em Computação I"
          ],
          [
           "Laboratório de Algoritmos Avançados I"
          ],
          [
           "Linguagens de Programação e Compiladores"
          ],
          [
           "Seminários em Computação II"
          ],
          [
           "Bases de Dados"
          ],
          [
           "Computação Gráfica"
          ],
          [
           "Estágio Supervisionado I"
          ],
          [
           "Computação Gráfica"
          ],
          [
           "Estágio Supervisionado II"
          ],
          [
           "Seminários em Computação III"
          ],
          [
           "Inteligência Artificial"
          ],
          [
           "Estágio Supervisionado II"
          ],
          [
           "Arquitetura de Sistemas Gerenciadores de Bases de Dados"
          ],
          [
           "Processamento de Imagens"
          ],
          [
           "Multimídia"
          ],
          [
           "Informação Profissional e Tutoria Acadêmica em Ciências da Computação"
          ],
          [
           "Introdução à Ciência de Computação I"
          ],
          [
           "Laboratório de Introdução à Ciência de Computação I"
          ],
          [
           "Introdução à Ciência de Computação II"
          ],
          [
           "Algoritmos e Estruturas de Dados I"
          ],
          [
           "Laboratório de Introdução à Ciência da Computação II"
          ],
          [
           "Organização de Arquivos"
          ],
          [
           "Modelagem Computacional em Grafos"
          ],
          [
           "Algoritmos Avançados e Aplicações"
          ],
          [
           "Sistemas de Recomendação"
          ],
          [
           "Introdução ao Desenvolvimento Web"
          ],
          [
           "Bases de Dados"
          ],
          [
           "Multimídia"
          ],
          [
           "Informação Profissional e Tutoria Acadêmica em Ciências da Computação"
          ],
          [
           "Introdução à Ciência de Computação I"
          ],
          [
           "Laboratório de Introdução à Ciência de Computação I"
          ],
          [
           "Introdução à Ciência de Computação II"
          ],
          [
           "Algoritmos e Estruturas de Dados I"
          ],
          [
           "Laboratório de Introdução à Ciência da Computação II"
          ],
          [
           "Organização de Arquivos"
          ],
          [
           "Modelagem Computacional em Grafos"
          ],
          [
           "Algoritmos Avançados e Aplicações"
          ],
          [
           "Introdução à Bioinformática"
          ],
          [
           "Tópicos Avançados em Ciências de Computação II"
          ],
          [
           "Introdução ao Desenvolvimento Web"
          ],
          [
           "Bases de Dados"
          ],
          [
           "Multimídia"
          ]
         ],
         "hovertemplate": "depto=SCC<br>FREQ=%{x}<br>NOTA=%{y}<br>Nome=%{customdata[0]}<extra></extra>",
         "legendgroup": "SCC",
         "marker": {
          "color": "#636efa",
          "symbol": "circle"
         },
         "mode": "markers",
         "name": "SCC",
         "orientation": "v",
         "showlegend": true,
         "x": {
          "dtype": "f8",
          "bdata": "AAAAAAAAWUAAAAAAAEBYQAAAAAAAAFlAAAAAAABAWEAAAAAAAEBYQAAAAAAAAFlAAAAAAACAV0AAAAAAAABZQAAAAAAAAFlAAAAAAAAAVkAAAAAAAAAkQAAAAAAAAFlAAAAAAAAAWUAAAAAAAABZQAAAAAAAAFlAAAAAAAAAWUAAAAAAAABZQAAAAAAAAFlAAAAAAAAAWUAAAAAAAABZQAAAAAAAAFlAAAAAAAAAWUAAAAAAAEBXQAAAAAAAAFlAAAAAAAAAWUAAAAAAAABZQAAAAAAAAFlAAAAAAAAAWUAAAAAAAABZQAAAAAAAAFlAAAAAAACAUUAAAAAAAABZQAAAAAAAQFNAAAAAAABAV0AAAAAAAMBUQAAAAAAAAFRAAAAAAAAAWUAAAAAAAABZQAAAAAAAQFdAAAAAAAAAWUAAAAAAAEBYQAAAAAAAAExAAAAAAAAAWUAAAAAAAEBVQAAAAAAAAAAAAAAAAAAAVkAAAAAAAABUQAAAAAAAAFlAAAAAAACAVkAAAAAAAABVQAAAAAAAQFJAAAAAAAAAWUAAAAAAAABZQAAAAAAAAFlAAAAAAAAAWUAAAAAAAEBYQAAAAAAAAFlAAAAAAAAAWUAAAAAAAABZQAAAAAAAAFlAAAAAAAAAWUAAAAAAAEBYQAAAAAAAAFlAAAAAAADAVUAAAAAAAIBWQAAAAAAAQFhAAAAAAAAAWUAAAAAAAABZQAAAAAAAQFdAAAAAAAAAWUAAAAAAAIBXQAAAAAAAAFlAAAAAAAAAWUAAAAAAAABZQAAAAAAAAFlAAAAAAABAWEAAAAAAAABYQAAAAAAAAFRA"
         },
         "xaxis": "x",
         "y": {
          "dtype": "f8",
          "bdata": "AAAAAAAAJEAAAAAAAAAiQJqZmZmZmSNAzczMzMzMIkCamZmZmZkjQAAAAAAAACRAMzMzMzMzIkBmZmZmZmYjQAAAAAAAACFAmpmZmZmZIUAzMzMzMzMiQAAAAAAAACNAAAAAAAAAJEBmZmZmZmYiQAAAAAAAACRAMzMzMzMzIkCamZmZmZkiQAAAAAAAACRAmpmZmZmZIkCamZmZmZkjQAAAAAAAACRAMzMzMzMzI0BmZmZmZmYjQAAAAAAAACNAAAAAAAAAJEAAAAAAAAAkQM3MzMzMzCNAAAAAAAAAIUAAAAAAAAAhQAAAAAAAACBAAAAAAAAAJECamZmZmZkbQJqZmZmZmR1AMzMzMzMzC0AAAAAAAAAgQM3MzMzMzCJAAAAAAAAAIEDNzMzMzMwMQGZmZmZmZiBAAAAAAAAAJECamZmZmZkZQM3MzMzMzPQ/AAAAAAAAIkDNzMzMzMweQAAAAAAAAAAAZmZmZmZmIkCamZmZmZkdQAAAAAAAACRAzczMzMzMIUDNzMzMzMwMQAAAAAAAAAAAAAAAAAAAJEDNzMzMzMwgQAAAAAAAACNAmpmZmZmZIEDNzMzMzMwiQDMzMzMzMyNAMzMzMzMzIkDNzMzMzMwiQJqZmZmZmSJAzczMzMzMHEAzMzMzMzMjQAAAAAAAACFAmpmZmZmZIkAAAAAAAAAiQJqZmZmZmR9AzczMzMzMIEAAAAAAAAAkQJqZmZmZmSFAMzMzMzMzI0BmZmZmZmYhQDMzMzMzMyJAAAAAAAAAHkDNzMzMzMwhQAAAAAAAACJAzczMzMzMIEBmZmZmZmYiQDMzMzMzMyJA"
         },
         "yaxis": "y",
         "type": "scatter"
        },
        {
         "customdata": [
          [
           "Geometria Analítica"
          ],
          [
           "Cálculo I"
          ],
          [
           "Matemática Discreta I"
          ],
          [
           "Cálculo II"
          ],
          [
           "Cálculo III"
          ],
          [
           "Geometria Analítica"
          ],
          [
           "Cálculo I"
          ],
          [
           "Matemática Discreta I"
          ],
          [
           "Cálculo II"
          ],
          [
           "Cálculo III"
          ],
          [
           "Geometria Analítica"
          ],
          [
           "Cálculo I"
          ],
          [
           "Matemática Discreta I"
          ],
          [
           "Cálculo II"
          ],
          [
           "Cálculo III"
          ],
          [
           "Cálculo III"
          ],
          [
           "Cálculo IV"
          ],
          [
           "Cálculo III"
          ],
          [
           "Cálculo III"
          ],
          [
           "Geometria Analítica"
          ],
          [
           "Cálculo I"
          ],
          [
           "Matemática Discreta I"
          ],
          [
           "Cálculo II"
          ],
          [
           "Cálculo III"
          ],
          [
           "Geometria Analítica"
          ],
          [
           "Cálculo I"
          ],
          [
           "Matemática Discreta I"
          ],
          [
           "Cálculo II"
          ],
          [
           "Cálculo III"
          ],
          [
           "Cálculo IV"
          ]
         ],
         "hovertemplate": "depto=SMA<br>FREQ=%{x}<br>NOTA=%{y}<br>Nome=%{customdata[0]}<extra></extra>",
         "legendgroup": "SMA",
         "marker": {
          "color": "#EF553B",
          "symbol": "circle"
         },
         "mode": "markers",
         "name": "SMA",
         "orientation": "v",
         "showlegend": true,
         "x": {
          "dtype": "f8",
          "bdata": "AAAAAAAAWUAAAAAAAABZQAAAAAAAAFlAAAAAAAAAWUAAAAAAAABZQAAAAAAAAFlAAAAAAAAAWUAAAAAAAABZQAAAAAAAAFlAAAAAAAAAWUAAAAAAAABZQAAAAAAAAFlAAAAAAAAAVEAAAAAAAABZQAAAAAAAAFlAAAAAAACAU0AAAAAAAABZQAAAAAAAwFZAAAAAAAAAVEAAAAAAAABZQAAAAAAAAFlAAAAAAAAAWUAAAAAAAABZQAAAAAAAAFlAAAAAAAAAWUAAAAAAAABZQAAAAAAAAFlAAAAAAAAAWUAAAAAAAABZQAAAAAAAgFFA"
         },
         "xaxis": "x",
         "y": {
          "dtype": "f8",
          "bdata": "AAAAAAAAHkAAAAAAAAAkQAAAAAAAACRAzczMzMzMIkDNzMzMzMwhQDMzMzMzMx1AAAAAAAAAJECamZmZmZkgQJqZmZmZmRtAzczMzMzMGkAzMzMzMzMbQDMzMzMzMx9AAAAAAAAAGEBmZmZmZmYUQAAAAAAAABJAZmZmZmZmCkCamZmZmZkXQAAAAAAAAAhAzczMzMzMIECamZmZmZkfQAAAAAAAACFAmpmZmZmZIkAAAAAAAAAaQAAAAAAAABhAMzMzMzMzH0AAAAAAAAAkQGZmZmZmZiJAmpmZmZmZG0AAAAAAAAAeQAAAAAAAACBA"
         },
         "yaxis": "y",
         "type": "scatter"
        },
        {
         "customdata": [
          [
           "Evolução Histórica da Computação e Aplicações"
          ],
          [
           "Prática em Lógica Digital"
          ],
          [
           "Introdução à Lógica Digital"
          ],
          [
           "Eletrônica para Computação"
          ],
          [
           "Prática em Sistemas Digitais"
          ],
          [
           "Sistemas Digitais"
          ],
          [
           "Programação Orientada a Objetos"
          ],
          [
           "Organização e Arquitetura de Computadores"
          ],
          [
           "Programação Funcional"
          ],
          [
           "Análise e Projeto Orientados a Objetos"
          ],
          [
           "Sistemas Operacionais I"
          ],
          [
           "Engenharia de Software"
          ],
          [
           "Redes de Computadores"
          ],
          [
           "Evolução Histórica da Computação e Aplicações"
          ],
          [
           "Prática em Lógica Digital"
          ],
          [
           "Introdução à Lógica Digital"
          ],
          [
           "Eletrônica para Computação"
          ],
          [
           "Prática em Sistemas Digitais"
          ],
          [
           "Sistemas Digitais"
          ],
          [
           "Programação Orientada a Objetos"
          ],
          [
           "Organização e Arquitetura de Computadores"
          ],
          [
           "Programação Funcional"
          ],
          [
           "Análise e Projeto Orientados a Objetos"
          ],
          [
           "Sistemas Operacionais I"
          ],
          [
           "Sistemas Evolutivos e Aplicados à Robótica"
          ],
          [
           "Engenharia de Software"
          ],
          [
           "Redes de Computadores"
          ],
          [
           "Evolução Histórica da Computação e Aplicações"
          ],
          [
           "Prática em Lógica Digital"
          ],
          [
           "Introdução à Lógica Digital"
          ],
          [
           "Eletrônica para Computação"
          ],
          [
           "Prática em Sistemas Digitais"
          ],
          [
           "Sistemas Digitais"
          ],
          [
           "Programação Orientada a Objetos"
          ],
          [
           "Prática em Organização de Computadores"
          ],
          [
           "Organização e Arquitetura de Computadores"
          ],
          [
           "Análise e Projeto Orientados a Objetos"
          ],
          [
           "Sistemas Operacionais I"
          ],
          [
           "Engenharia de Software"
          ],
          [
           "Redes de Computadores"
          ],
          [
           "Computação de Alto Desempenho"
          ],
          [
           "Sistemas de Informação"
          ],
          [
           "Engenharia de Segurança"
          ],
          [
           "Sistemas Computacionais Distribuídos"
          ],
          [
           "Teste e Inspeção de Software"
          ],
          [
           "Arquitetura de Software"
          ],
          [
           "Reuso de Software"
          ],
          [
           "Desenvolvimento de Código Otimizado"
          ],
          [
           "Programação de Robôs Móveis"
          ],
          [
           "Sistemas Open Source"
          ],
          [
           "Computação em Nuvem e Arquitetura Orientadas a Serviços"
          ],
          [
           "Projeto e Desenvolvimento de Software de Sistema"
          ],
          [
           "Evolução Histórica da Computação e Aplicações"
          ],
          [
           "Prática em Lógica Digital"
          ],
          [
           "Introdução à Lógica Digital"
          ],
          [
           "Eletrônica para Computação"
          ],
          [
           "Prática em Sistemas Digitais"
          ],
          [
           "Sistemas Digitais"
          ],
          [
           "Programação Orientada a Objetos"
          ],
          [
           "Organização e Arquitetura de Computadores"
          ],
          [
           "Programação Funcional"
          ],
          [
           "Análise e Projeto Orientados a Objetos"
          ],
          [
           "Sistemas Operacionais I"
          ],
          [
           "Sistemas Evolutivos e Aplicados à Robótica"
          ],
          [
           "Criptomoedas e Blockchain"
          ],
          [
           "Engenharia de Software"
          ],
          [
           "Redes de Computadores"
          ],
          [
           "Evolução Histórica da Computação e Aplicações"
          ],
          [
           "Prática em Lógica Digital"
          ],
          [
           "Introdução à Lógica Digital"
          ],
          [
           "Eletrônica para Computação"
          ],
          [
           "Prática em Sistemas Digitais"
          ],
          [
           "Sistemas Digitais"
          ],
          [
           "Programação Orientada a Objetos"
          ],
          [
           "Prática em Organização de Computadores"
          ],
          [
           "Organização e Arquitetura de Computadores"
          ],
          [
           "Programação Funcional"
          ],
          [
           "Análise e Projeto Orientados a Objetos"
          ],
          [
           "Sistemas Operacionais I"
          ],
          [
           "Sistemas Evolutivos e Aplicados à Robótica"
          ],
          [
           "Criptomoedas e Blockchain"
          ],
          [
           "Engenharia de Software"
          ],
          [
           "Redes de Computadores"
          ]
         ],
         "hovertemplate": "depto=SSC<br>FREQ=%{x}<br>NOTA=%{y}<br>Nome=%{customdata[0]}<extra></extra>",
         "legendgroup": "SSC",
         "marker": {
          "color": "#00cc96",
          "symbol": "circle"
         },
         "mode": "markers",
         "name": "SSC",
         "orientation": "v",
         "showlegend": true,
         "x": {
          "dtype": "f8",
          "bdata": "AAAAAAAAPkAAAAAAAABZQAAAAAAAQFdAAAAAAACAV0AAAAAAAIBWQAAAAAAAAFRAAAAAAAAAWUAAAAAAAAAuQAAAAAAAAFlAAAAAAAAALkAAAAAAAAA+QAAAAAAAAC5AAAAAAAAAPkAAAAAAAABZQAAAAAAAAFlAAAAAAADAVUAAAAAAAABZQAAAAAAAgFZAAAAAAABAV0AAAAAAAABZQAAAAAAAQFhAAAAAAAAAWUAAAAAAAABZQAAAAAAAAFlAAAAAAAAAWUAAAAAAAABZQAAAAAAAAFRAAAAAAAAAWUAAAAAAAABZQAAAAAAAAFlAAAAAAAAAWUAAAAAAAABZQAAAAAAAAFlAAAAAAABAV0AAAAAAAEBTQAAAAAAAAFlAAAAAAABAV0AAAAAAAABZQAAAAAAAAFlAAAAAAAAAWUAAAAAAAIBWQAAAAAAAwFVAAAAAAAAAWUAAAAAAAABZQAAAAAAAwFdAAAAAAAAAVEAAAAAAAEBXQAAAAAAAQFdAAAAAAAAAAAAAAAAAAABZQAAAAAAAAFRAAAAAAAAAWUAAAAAAAABZQAAAAAAAAFlAAAAAAACAVUAAAAAAAABZQAAAAAAAAFZAAAAAAAAAWUAAAAAAAABZQAAAAAAAAFlAAAAAAAAAWUAAAAAAAABZQAAAAAAAAFlAAAAAAAAAWUAAAAAAAIBUQAAAAAAAAFlAAAAAAAAAVEAAAAAAAABZQAAAAAAAgFZAAAAAAAAAWUAAAAAAAABZQAAAAAAAAFlAAAAAAAAAWUAAAAAAAABZQAAAAAAAwFJAAAAAAABAV0AAAAAAAABZQAAAAAAAwFJAAAAAAAAAWUAAAAAAAABZQAAAAAAAgFRAAAAAAAAAWUAAAAAAAABUQA=="
         },
         "xaxis": "x",
         "y": {
          "dtype": "f8",
          "bdata": "AAAAAAAAJEAAAAAAAAAkQAAAAAAAACFAAAAAAAAAJEAAAAAAAAAkQM3MzMzMzCFAmpmZmZmZI0AzMzMzMzMiQDMzMzMzMyJAAAAAAAAAIkBmZmZmZmYhQM3MzMzMzCNAzczMzMzMHEAAAAAAAAAkQAAAAAAAACRAzczMzMzMGEAAAAAAAAAkQM3MzMzMzCJAzczMzMzMHECamZmZmZkjQGZmZmZmZiBAAAAAAAAAI0CamZmZmZkiQGZmZmZmZiFAAAAAAAAAJEDNzMzMzMwjQM3MzMzMzB5AAAAAAAAAJEAAAAAAAAAkQAAAAAAAACJAAAAAAAAAJEAAAAAAAAAkQAAAAAAAACNAzczMzMzMIEAAAAAAAAAkQAAAAAAAACJAAAAAAAAAI0AzMzMzMzMdQJqZmZmZmR9AMzMzMzMzIUBmZmZmZmYhQGZmZmZmZiBAmpmZmZmZHUDNzMzMzMwYQGZmZmZmZh5AAAAAAAAAJEBmZmZmZmYjQM3MzMzMzCBAAAAAAAAAAAAAAAAAAAAUQM3MzMzMzABAAAAAAAAAHEAAAAAAAAAkQAAAAAAAACRAmpmZmZmZIEAAAAAAAAAkQAAAAAAAACRAzczMzMzMGECamZmZmZkiQGZmZmZmZiJAzczMzMzMIkAzMzMzMzMiQJqZmZmZmSFAAAAAAAAAJEAzMzMzMzMiQM3MzMzMzCJAMzMzMzMzH0AAAAAAAAAkQAAAAAAAACFAAAAAAAAAIEAAAAAAAAAkQAAAAAAAACRAMzMzMzMzIkBmZmZmZmYhQAAAAAAAACRAmpmZmZmZIUAzMzMzMzMjQDMzMzMzMx9AmpmZmZmZIEAAAAAAAAAkQDMzMzMzMyJAzczMzMzMIEDNzMzMzMweQA=="
         },
         "yaxis": "y",
         "type": "scatter"
        },
        {
         "customdata": [
          [
           "Física Básica I"
          ],
          [
           "Laboratório de Física Geral I"
          ],
          [
           "Física Básica I"
          ],
          [
           "Laboratório de Fisica Geral I"
          ],
          [
           "Física Básica I"
          ],
          [
           "Laboratório de Física Geral I"
          ],
          [
           "Física Básica I"
          ],
          [
           "Laboratório de Física Geral I"
          ],
          [
           "Física Básica I"
          ],
          [
           "Laboratório de Fisica Geral I"
          ]
         ],
         "hovertemplate": "depto=760<br>FREQ=%{x}<br>NOTA=%{y}<br>Nome=%{customdata[0]}<extra></extra>",
         "legendgroup": "760",
         "marker": {
          "color": "#ab63fa",
          "symbol": "circle"
         },
         "mode": "markers",
         "name": "760",
         "orientation": "v",
         "showlegend": true,
         "x": {
          "dtype": "f8",
          "bdata": "AAAAAAAAWUAAAAAAAABZQAAAAAAAAFlAAAAAAAAAWUAAAAAAAABZQAAAAAAAwFRAAAAAAAAAV0AAAAAAAABZQAAAAAAAAFlAAAAAAADAVEA="
         },
         "xaxis": "x",
         "y": {
          "dtype": "f8",
          "bdata": "AAAAAAAAIkBmZmZmZmYiQM3MzMzMzCFAMzMzMzMzIUAzMzMzMzMXQJqZmZmZmRlAMzMzMzMzGUAzMzMzMzMdQJqZmZmZmR9AZmZmZmZmHkA="
         },
         "yaxis": "y",
         "type": "scatter"
        },
        {
         "customdata": [
          [
           "Estatística"
          ],
          [
           "Álgebra Linear e Aplicações"
          ],
          [
           "Cálculo Numérico"
          ],
          [
           "Processos Estocásticos"
          ],
          [
           "Estatística"
          ],
          [
           "Álgebra Linear e Aplicações"
          ],
          [
           "Cálculo Numérico"
          ],
          [
           "Processos Estocásticos"
          ],
          [
           "Estatística"
          ],
          [
           "Processos Estocásticos"
          ],
          [
           "Álgebra Linear e Aplicações"
          ],
          [
           "Cálculo Numérico"
          ],
          [
           "Programação Matemática"
          ],
          [
           "Álgebra Linear e Aplicações"
          ],
          [
           "Estatística"
          ],
          [
           "Álgebra Linear e Aplicações"
          ],
          [
           "Cálculo Numérico"
          ],
          [
           "Processos Estocásticos"
          ],
          [
           "Estatística"
          ],
          [
           "Álgebra Linear e Aplicações"
          ],
          [
           "Cálculo Numérico"
          ],
          [
           "Processos Estocásticos"
          ],
          [
           "Redes Complexas"
          ]
         ],
         "hovertemplate": "depto=SME<br>FREQ=%{x}<br>NOTA=%{y}<br>Nome=%{customdata[0]}<extra></extra>",
         "legendgroup": "SME",
         "marker": {
          "color": "#FFA15A",
          "symbol": "circle"
         },
         "mode": "markers",
         "name": "SME",
         "orientation": "v",
         "showlegend": true,
         "x": {
          "dtype": "f8",
          "bdata": "AAAAAABAVkAAAAAAAIBVQAAAAAAAgFZAAAAAAAAAVEAAAAAAAABZQAAAAAAAAFlAAAAAAAAAWUAAAAAAAABUQAAAAAAAAFRAAAAAAAAAWUAAAAAAAMBUQAAAAAAAgFFAAAAAAADAVUAAAAAAAMBTQAAAAAAAAFlAAAAAAABAVkAAAAAAAIBWQAAAAAAAAFlAAAAAAAAAWUAAAAAAAEBXQAAAAAAAAFlAAAAAAAAAVEAAAAAAAABZQA=="
         },
         "xaxis": "x",
         "y": {
          "dtype": "f8",
          "bdata": "MzMzMzMzH0AzMzMzMzMgQAAAAAAAABxAzczMzMzMIkCamZmZmZkXQDMzMzMzMyNAAAAAAAAAJEAAAAAAAAAeQAAAAAAAACFAMzMzMzMzHUCamZmZmZkRQGZmZmZmZhRAAAAAAAAAIUAzMzMzMzMfQGZmZmZmZhpAMzMzMzMzIkAAAAAAAAAcQGZmZmZmZiBAMzMzMzMzIUAAAAAAAAAkQAAAAAAAACNAAAAAAAAAIUAAAAAAAAAkQA=="
         },
         "yaxis": "y",
         "type": "scatter"
        }
       ],
       "layout": {
        "template": {
         "data": {
          "histogram2dcontour": [
           {
            "type": "histogram2dcontour",
            "colorbar": {
             "outlinewidth": 0,
             "ticks": ""
            },
            "colorscale": [
             [
              0.0,
              "#0d0887"
             ],
             [
              0.1111111111111111,
              "#46039f"
             ],
             [
              0.2222222222222222,
              "#7201a8"
             ],
             [
              0.3333333333333333,
              "#9c179e"
             ],
             [
              0.4444444444444444,
              "#bd3786"
             ],
             [
              0.5555555555555556,
              "#d8576b"
             ],
             [
              0.6666666666666666,
              "#ed7953"
             ],
             [
              0.7777777777777778,
              "#fb9f3a"
             ],
             [
              0.8888888888888888,
              "#fdca26"
             ],
             [
              1.0,
              "#f0f921"
             ]
            ]
           }
          ],
          "choropleth": [
           {
            "type": "choropleth",
            "colorbar": {
             "outlinewidth": 0,
             "ticks": ""
            }
           }
          ],
          "histogram2d": [
           {
            "type": "histogram2d",
            "colorbar": {
             "outlinewidth": 0,
             "ticks": ""
            },
            "colorscale": [
             [
              0.0,
              "#0d0887"
             ],
             [
              0.1111111111111111,
              "#46039f"
             ],
             [
              0.2222222222222222,
              "#7201a8"
             ],
             [
              0.3333333333333333,
              "#9c179e"
             ],
             [
              0.4444444444444444,
              "#bd3786"
             ],
             [
              0.5555555555555556,
              "#d8576b"
             ],
             [
              0.6666666666666666,
              "#ed7953"
             ],
             [
              0.7777777777777778,
              "#fb9f3a"
             ],
             [
              0.8888888888888888,
              "#fdca26"
             ],
             [
              1.0,
              "#f0f921"
             ]
            ]
           }
          ],
          "heatmap": [
           {
            "type": "heatmap",
            "colorbar": {
             "outlinewidth": 0,
             "ticks": ""
            },
            "colorscale": [
             [
              0.0,
              "#0d0887"
             ],
             [
              0.1111111111111111,
              "#46039f"
             ],
             [
              0.2222222222222222,
              "#7201a8"
             ],
             [
              0.3333333333333333,
              "#9c179e"
             ],
             [
              0.4444444444444444,
              "#bd3786"
             ],
             [
              0.5555555555555556,
              "#d8576b"
             ],
             [
              0.6666666666666666,
              "#ed7953"
             ],
             [
              0.7777777777777778,
              "#fb9f3a"
             ],
             [
              0.8888888888888888,
              "#fdca26"
             ],
             [
              1.0,
              "#f0f921"
             ]
            ]
           }
          ],
          "contourcarpet": [
           {
            "type": "contourcarpet",
            "colorbar": {
             "outlinewidth": 0,
             "ticks": ""
            }
           }
          ],
          "contour": [
           {
            "type": "contour",
            "colorbar": {
             "outlinewidth": 0,
             "ticks": ""
            },
            "colorscale": [
             [
              0.0,
              "#0d0887"
             ],
             [
              0.1111111111111111,
              "#46039f"
             ],
             [
              0.2222222222222222,
              "#7201a8"
             ],
             [
              0.3333333333333333,
              "#9c179e"
             ],
             [
              0.4444444444444444,
              "#bd3786"
             ],
             [
              0.5555555555555556,
              "#d8576b"
             ],
             [
              0.6666666666666666,
              "#ed7953"
             ],
             [
              0.7777777777777778,
              "#fb9f3a"
             ],
             [
              0.8888888888888888,
              "#fdca26"
             ],
             [
              1.0,
              "#f0f921"
             ]
            ]
           }
          ],
          "surface": [
           {
            "type": "surface",
            "colorbar": {
             "outlinewidth": 0,
             "ticks": ""
            },
            "colorscale": [
             [
              0.0,
              "#0d0887"
             ],
             [
              0.1111111111111111,
              "#46039f"
             ],
             [
              0.2222222222222222,
              "#7201a8"
             ],
             [
              0.3333333333333333,
              "#9c179e"
             ],
             [
              0.4444444444444444,
              "#bd3786"
             ],
             [
              0.5555555555555556,
              "#d8576b"
             ],
             [
              0.6666666666666666,
              "#ed7953"
             ],
             [
              0.7777777777777778,
              "#fb9f3a"
             ],
             [
              0.8888888888888888,
              "#fdca26"
             ],
             [
              1.0,
              "#f0f921"
             ]
            ]
           }
          ],
          "mesh3d": [
           {
            "type": "mesh3d",
            "colorbar": {
             "outlinewidth": 0,
             "ticks": ""
            }
           }
          ],
          "scatter": [
           {
            "marker": {
             "line": {
              "color": "#283442"
             }
            },
            "type": "scatter"
           }
          ],
          "parcoords": [
           {
            "type": "parcoords",
            "line": {
             "colorbar": {
              "outlinewidth": 0,
              "ticks": ""
             }
            }
           }
          ],
          "scatterpolargl": [
           {
            "type": "scatterpolargl",
            "marker": {
             "colorbar": {
              "outlinewidth": 0,
              "ticks": ""
             }
            }
           }
          ],
          "bar": [
           {
            "error_x": {
             "color": "#f2f5fa"
            },
            "error_y": {
             "color": "#f2f5fa"
            },
            "marker": {
             "line": {
              "color": "rgb(17,17,17)",
              "width": 0.5
             },
             "pattern": {
              "fillmode": "overlay",
              "size": 10,
              "solidity": 0.2
             }
            },
            "type": "bar"
           }
          ],
          "scattergeo": [
           {
            "type": "scattergeo",
            "marker": {
             "colorbar": {
              "outlinewidth": 0,
              "ticks": ""
             }
            }
           }
          ],
          "scatterpolar": [
           {
            "type": "scatterpolar",
            "marker": {
             "colorbar": {
              "outlinewidth": 0,
              "ticks": ""
             }
            }
           }
          ],
          "histogram": [
           {
            "marker": {
             "pattern": {
              "fillmode": "overlay",
              "size": 10,
              "solidity": 0.2
             }
            },
            "type": "histogram"
           }
          ],
          "scattergl": [
           {
            "marker": {
             "line": {
              "color": "#283442"
             }
            },
            "type": "scattergl"
           }
          ],
          "scatter3d": [
           {
            "type": "scatter3d",
            "line": {
             "colorbar": {
              "outlinewidth": 0,
              "ticks": ""
             }
            },
            "marker": {
             "colorbar": {
              "outlinewidth": 0,
              "ticks": ""
             }
            }
           }
          ],
          "scattermap": [
           {
            "type": "scattermap",
            "marker": {
             "colorbar": {
              "outlinewidth": 0,
              "ticks": ""
             }
            }
           }
          ],
          "scattermapbox": [
           {
            "type": "scattermapbox",
            "marker": {
             "colorbar": {
              "outlinewidth": 0,
              "ticks": ""
             }
            }
           }
          ],
          "scatterternary": [
           {
            "type": "scatterternary",
            "marker": {
             "colorbar": {
              "outlinewidth": 0,
              "ticks": ""
             }
            }
           }
          ],
          "scattercarpet": [
           {
            "type": "scattercarpet",
            "marker": {
             "colorbar": {
              "outlinewidth": 0,
              "ticks": ""
             }
            }
           }
          ],
          "carpet": [
           {
            "aaxis": {
             "endlinecolor": "#A2B1C6",
             "gridcolor": "#506784",
             "linecolor": "#506784",
             "minorgridcolor": "#506784",
             "startlinecolor": "#A2B1C6"
            },
            "baxis": {
             "endlinecolor": "#A2B1C6",
             "gridcolor": "#506784",
             "linecolor": "#506784",
             "minorgridcolor": "#506784",
             "startlinecolor": "#A2B1C6"
            },
            "type": "carpet"
           }
          ],
          "table": [
           {
            "cells": {
             "fill": {
              "color": "#506784"
             },
             "line": {
              "color": "rgb(17,17,17)"
             }
            },
            "header": {
             "fill": {
              "color": "#2a3f5f"
             },
             "line": {
              "color": "rgb(17,17,17)"
             }
            },
            "type": "table"
           }
          ],
          "barpolar": [
           {
            "marker": {
             "line": {
              "color": "rgb(17,17,17)",
              "width": 0.5
             },
             "pattern": {
              "fillmode": "overlay",
              "size": 10,
              "solidity": 0.2
             }
            },
            "type": "barpolar"
           }
          ],
          "pie": [
           {
            "automargin": true,
            "type": "pie"
           }
          ]
         },
         "layout": {
          "autotypenumbers": "strict",
          "colorway": [
           "#636efa",
           "#EF553B",
           "#00cc96",
           "#ab63fa",
           "#FFA15A",
           "#19d3f3",
           "#FF6692",
           "#B6E880",
           "#FF97FF",
           "#FECB52"
          ],
          "font": {
           "color": "#f2f5fa"
          },
          "hovermode": "closest",
          "hoverlabel": {
           "align": "left"
          },
          "paper_bgcolor": "rgb(17,17,17)",
          "plot_bgcolor": "rgb(17,17,17)",
          "polar": {
           "bgcolor": "rgb(17,17,17)",
           "angularaxis": {
            "gridcolor": "#506784",
            "linecolor": "#506784",
            "ticks": ""
           },
           "radialaxis": {
            "gridcolor": "#506784",
            "linecolor": "#506784",
            "ticks": ""
           }
          },
          "ternary": {
           "bgcolor": "rgb(17,17,17)",
           "aaxis": {
            "gridcolor": "#506784",
            "linecolor": "#506784",
            "ticks": ""
           },
           "baxis": {
            "gridcolor": "#506784",
            "linecolor": "#506784",
            "ticks": ""
           },
           "caxis": {
            "gridcolor": "#506784",
            "linecolor": "#506784",
            "ticks": ""
           }
          },
          "coloraxis": {
           "colorbar": {
            "outlinewidth": 0,
            "ticks": ""
           }
          },
          "colorscale": {
           "sequential": [
            [
             0.0,
             "#0d0887"
            ],
            [
             0.1111111111111111,
             "#46039f"
            ],
            [
             0.2222222222222222,
             "#7201a8"
            ],
            [
             0.3333333333333333,
             "#9c179e"
            ],
            [
             0.4444444444444444,
             "#bd3786"
            ],
            [
             0.5555555555555556,
             "#d8576b"
            ],
            [
             0.6666666666666666,
             "#ed7953"
            ],
            [
             0.7777777777777778,
             "#fb9f3a"
            ],
            [
             0.8888888888888888,
             "#fdca26"
            ],
            [
             1.0,
             "#f0f921"
            ]
           ],
           "sequentialminus": [
            [
             0.0,
             "#0d0887"
            ],
            [
             0.1111111111111111,
             "#46039f"
            ],
            [
             0.2222222222222222,
             "#7201a8"
            ],
            [
             0.3333333333333333,
             "#9c179e"
            ],
            [
             0.4444444444444444,
             "#bd3786"
            ],
            [
             0.5555555555555556,
             "#d8576b"
            ],
            [
             0.6666666666666666,
             "#ed7953"
            ],
            [
             0.7777777777777778,
             "#fb9f3a"
            ],
            [
             0.8888888888888888,
             "#fdca26"
            ],
            [
             1.0,
             "#f0f921"
            ]
           ],
           "diverging": [
            [
             0,
             "#8e0152"
            ],
            [
             0.1,
             "#c51b7d"
            ],
            [
             0.2,
             "#de77ae"
            ],
            [
             0.3,
             "#f1b6da"
            ],
            [
             0.4,
             "#fde0ef"
            ],
            [
             0.5,
             "#f7f7f7"
            ],
            [
             0.6,
             "#e6f5d0"
            ],
            [
             0.7,
             "#b8e186"
            ],
            [
             0.8,
             "#7fbc41"
            ],
            [
             0.9,
             "#4d9221"
            ],
            [
             1,
             "#276419"
            ]
           ]
          },
          "xaxis": {
           "gridcolor": "#283442",
           "linecolor": "#506784",
           "ticks": "",
           "title": {
            "standoff": 15
           },
           "zerolinecolor": "#283442",
           "automargin": true,
           "zerolinewidth": 2
          },
          "yaxis": {
           "gridcolor": "#283442",
           "linecolor": "#506784",
           "ticks": "",
           "title": {
            "standoff": 15
           },
           "zerolinecolor": "#283442",
           "automargin": true,
           "zerolinewidth": 2
          },
          "scene": {
           "xaxis": {
            "backgroundcolor": "rgb(17,17,17)",
            "gridcolor": "#506784",
            "linecolor": "#506784",
            "showbackground": true,
            "ticks": "",
            "zerolinecolor": "#C8D4E3",
            "gridwidth": 2
           },
           "yaxis": {
            "backgroundcolor": "rgb(17,17,17)",
            "gridcolor": "#506784",
            "linecolor": "#506784",
            "showbackground": true,
            "ticks": "",
            "zerolinecolor": "#C8D4E3",
            "gridwidth": 2
           },
           "zaxis": {
            "backgroundcolor": "rgb(17,17,17)",
            "gridcolor": "#506784",
            "linecolor": "#506784",
            "showbackground": true,
            "ticks": "",
            "zerolinecolor": "#C8D4E3",
            "gridwidth": 2
           }
          },
          "shapedefaults": {
           "line": {
            "color": "#f2f5fa"
           }
          },
          "annotationdefaults": {
           "arrowcolor": "#f2f5fa",
           "arrowhead": 0,
           "arrowwidth": 1
          },
          "geo": {
           "bgcolor": "rgb(17,17,17)",
           "landcolor": "rgb(17,17,17)",
           "subunitcolor": "#506784",
           "showland": true,
           "showlakes": true,
           "lakecolor": "rgb(17,17,17)"
          },
          "title": {
           "x": 0.05
          },
          "updatemenudefaults": {
           "bgcolor": "#506784",
           "borderwidth": 0
          },
          "sliderdefaults": {
           "bgcolor": "#C8D4E3",
           "borderwidth": 1,
           "bordercolor": "rgb(17,17,17)",
           "tickwidth": 0
          },
          "mapbox": {
           "style": "dark"
          }
         }
        },
        "xaxis": {
         "anchor": "y",
         "domain": [
          0.0,
          1.0
         ],
         "title": {
          "text": "FREQ"
         }
        },
        "yaxis": {
         "anchor": "x",
         "domain": [
          0.0,
          1.0
         ],
         "title": {
          "text": "NOTA"
         }
        },
        "legend": {
         "title": {
          "text": "depto"
         },
         "tracegroupgap": 0
        },
        "title": {
         "text": "Scatter Plot de Frequencia x Nota"
        }
       },
       "config": {
        "plotlyServerURL": "https://plot.ly"
       }
      }
     },
     "metadata": {},
     "output_type": "display_data"
    }
   ],
   "execution_count": 17,
   "source": [
    "fig = px.scatter(joined_df, x=\"FREQ\", y=\"NOTA\", color=\"depto\", hover_data=[\"Nome\", \"FREQ\", \"NOTA\"], title=\"Scatter Plot de Frequencia x Nota\")\n",
    "fig.show()"
   ],
   "id": "b411036dc3c70263"
  },
  {
   "metadata": {},
   "cell_type": "markdown",
   "source": [
    "# Grafico de areas empilhadas de nota por semestre, mostrando a contribuicao de cada departamento para a media\n",
    "\n",
    "- Para envio considerar apenas o segundo"
   ],
   "id": "ca0a70d9bec4d9c5"
  },
  {
   "metadata": {
    "ExecuteTime": {
     "end_time": "2025-10-27T14:38:38.649148Z",
     "start_time": "2025-10-27T14:38:38.644768Z"
    }
   },
   "cell_type": "code",
   "outputs": [
    {
     "data": {
      "text/plain": [
       "['2020/1',\n",
       " '2020/2',\n",
       " '2021/1',\n",
       " '2021/2',\n",
       " '2022/1',\n",
       " '2022/2',\n",
       " '2023/1',\n",
       " '2023/2',\n",
       " '2024/1',\n",
       " '2024/2',\n",
       " '2025/1']"
      ]
     },
     "execution_count": 37,
     "metadata": {},
     "output_type": "execute_result"
    }
   ],
   "execution_count": 37,
   "source": "sorted(joined_df[\"Ano/Semestre\"].unique())",
   "id": "2baa22130c4b58af"
  },
  {
   "metadata": {
    "ExecuteTime": {
     "end_time": "2025-10-27T15:07:59.376003Z",
     "start_time": "2025-10-27T15:07:59.293705Z"
    }
   },
   "cell_type": "code",
   "outputs": [
    {
     "name": "stdout",
     "output_type": "stream",
     "text": [
      "['2020/1', '2020/2', '2021/1', '2021/2', '2022/1', '2022/2', '2023/1', '2023/2', '2024/1', '2024/2', '2025/1']\n",
      "[None,\n",
      " None,\n",
      " None,\n",
      " None,\n",
      " None,\n",
      " None,\n",
      " {'760': (0, np.int64(0)),\n",
      "  'SCC': (np.float64(9.6), np.int64(3)),\n",
      "  'SMA': (np.float64(8.75), np.int64(2)),\n",
      "  'SME': (0, np.int64(0)),\n",
      "  'SSC': (np.float64(9.625), np.int64(4)),\n",
      "  'total': np.int64(9)},\n",
      " {'760': (np.float64(9.0), np.int64(1)),\n",
      "  'SCC': (np.float64(9.733333333333334), np.int64(3)),\n",
      "  'SMA': (np.float64(9.7), np.int64(2)),\n",
      "  'SME': (0, np.int64(0)),\n",
      "  'SSC': (np.float64(9.45), np.int64(2)),\n",
      "  'total': np.int64(8)},\n",
      " {'760': (np.float64(9.2), np.int64(1)),\n",
      "  'SCC': (np.float64(9.399999999999999), np.int64(2)),\n",
      "  'SMA': (np.float64(8.9), np.int64(1)),\n",
      "  'SME': (0, np.int64(0)),\n",
      "  'SSC': (np.float64(9.333333333333334), np.int64(3)),\n",
      "  'total': np.int64(7)},\n",
      " {'760': (0, np.int64(0)),\n",
      "  'SCC': (np.float64(8.65), np.int64(2)),\n",
      "  'SMA': (0, np.int64(0)),\n",
      "  'SME': (np.float64(7.949999999999999), np.int64(2)),\n",
      "  'SSC': (np.float64(8.85), np.int64(2)),\n",
      "  'total': np.int64(6)},\n",
      " {'760': (0, np.int64(0)),\n",
      "  'SCC': (np.float64(9.3), np.int64(2)),\n",
      "  'SMA': (0, np.int64(0)),\n",
      "  'SME': (np.float64(8.2), np.int64(2)),\n",
      "  'SSC': (np.float64(8.55), np.int64(2)),\n",
      "  'total': np.int64(6)}]\n",
      "['2020/1', '2020/2', '2021/1', '2021/2', '2022/1', '2022/2', '2023/1', '2023/2', '2024/1', '2024/2', '2025/1']\n",
      "['2020/1', '2020/2', '2021/1', '2021/2', '2022/1', '2022/2', '2023/1', '2023/2', '2024/1', '2024/2', '2025/1']\n",
      "[None,\n",
      " None,\n",
      " None,\n",
      " None,\n",
      " None,\n",
      " None,\n",
      " {'760': (0, np.int64(0)),\n",
      "  'SCC': (np.float64(9.733333333333333), np.int64(3)),\n",
      "  'SMA': (np.float64(8.65), np.int64(2)),\n",
      "  'SME': (0, np.int64(0)),\n",
      "  'SSC': (np.float64(9.05), np.int64(4)),\n",
      "  'total': np.int64(9)},\n",
      " {'760': (np.float64(8.9), np.int64(1)),\n",
      "  'SCC': (np.float64(9.466666666666667), np.int64(3)),\n",
      "  'SMA': (np.float64(7.6000000000000005), np.int64(2)),\n",
      "  'SME': (0, np.int64(0)),\n",
      "  'SSC': (np.float64(8.3), np.int64(2)),\n",
      "  'total': np.int64(8)},\n",
      " {'760': (np.float64(8.6), np.int64(1)),\n",
      "  'SCC': (np.float64(9.55), np.int64(2)),\n",
      "  'SMA': (np.float64(6.7), np.int64(1)),\n",
      "  'SME': (0, np.int64(0)),\n",
      "  'SSC': (np.float64(9.166666666666666), np.int64(3)),\n",
      "  'total': np.int64(7)},\n",
      " {'760': (0, np.int64(0)),\n",
      "  'SCC': (np.float64(9.8), np.int64(2)),\n",
      "  'SMA': (0, np.int64(0)),\n",
      "  'SME': (np.float64(7.75), np.int64(2)),\n",
      "  'SSC': (np.float64(9.333333333333334), np.int64(3)),\n",
      "  'total': np.int64(7)},\n",
      " {'760': (0, np.int64(0)),\n",
      "  'SCC': (np.float64(9.6), np.int64(2)),\n",
      "  'SMA': (0, np.int64(0)),\n",
      "  'SME': (np.float64(8.75), np.int64(2)),\n",
      "  'SSC': (np.float64(8.8), np.int64(2)),\n",
      "  'total': np.int64(6)}]\n",
      "['2020/1', '2020/2', '2021/1', '2021/2', '2022/1', '2022/2', '2023/1', '2023/2', '2024/1', '2024/2', '2025/1']\n",
      "['2020/1', '2020/2', '2021/1', '2021/2', '2022/1', '2022/2', '2023/1', '2023/2', '2024/1', '2024/2', '2025/1']\n",
      "[{'760': (0, np.int64(0)),\n",
      "  'SCC': (np.float64(9.966666666666667), np.int64(3)),\n",
      "  'SMA': (np.float64(7.3), np.int64(2)),\n",
      "  'SME': (0, np.int64(0)),\n",
      "  'SSC': (np.float64(9.75), np.int64(4)),\n",
      "  'total': np.int64(9)},\n",
      " {'760': (0, np.int64(0)),\n",
      "  'SCC': (np.float64(8.5), np.int64(2)),\n",
      "  'SMA': (np.float64(5.55), np.int64(2)),\n",
      "  'SME': (0, np.int64(0)),\n",
      "  'SSC': (np.float64(9.75), np.int64(2)),\n",
      "  'total': np.int64(6)},\n",
      " {'760': (0, np.int64(0)),\n",
      "  'SCC': (np.float64(9.0), np.int64(2)),\n",
      "  'SMA': (np.float64(4.5), np.int64(1)),\n",
      "  'SME': (0, np.int64(0)),\n",
      "  'SSC': (np.float64(9.133333333333333), np.int64(3)),\n",
      "  'total': np.int64(6)},\n",
      " {'760': (0, np.int64(0)),\n",
      "  'SCC': (np.float64(6.9), np.int64(1)),\n",
      "  'SMA': (0, np.int64(0)),\n",
      "  'SME': (np.float64(8.5), np.int64(1)),\n",
      "  'SSC': (np.float64(8.4), np.int64(2)),\n",
      "  'total': np.int64(4)},\n",
      " {'760': (0, np.int64(0)),\n",
      "  'SCC': (np.float64(5.4), np.int64(2)),\n",
      "  'SMA': (0, np.int64(0)),\n",
      "  'SME': (np.float64(7.3), np.int64(1)),\n",
      "  'SSC': (np.float64(8.25), np.int64(2)),\n",
      "  'total': np.int64(5)},\n",
      " {'760': (0, np.int64(0)),\n",
      "  'SCC': (np.float64(8.466666666666667), np.int64(3)),\n",
      "  'SMA': (np.float64(3.3), np.int64(1)),\n",
      "  'SME': (np.float64(4.4), np.int64(1)),\n",
      "  'SSC': (np.float64(8.7), np.int64(1)),\n",
      "  'total': np.int64(6)},\n",
      " {'760': (0, np.int64(0)),\n",
      "  'SCC': (np.float64(7.049999999999999), np.int64(4)),\n",
      "  'SMA': (0, np.int64(0)),\n",
      "  'SME': (0, np.int64(0)),\n",
      "  'SSC': (np.float64(7.35), np.int64(4)),\n",
      "  'total': np.int64(8)},\n",
      " {'760': (np.float64(5.8), np.int64(1)),\n",
      "  'SCC': (np.float64(5.15), np.int64(2)),\n",
      "  'SMA': (np.float64(5.9), np.int64(1)),\n",
      "  'SME': (0, np.int64(0)),\n",
      "  'SSC': (np.float64(9.366666666666667), np.int64(3)),\n",
      "  'total': np.int64(7)},\n",
      " {'760': (np.float64(6.4), np.int64(1)),\n",
      "  'SCC': (np.float64(3.85), np.int64(2)),\n",
      "  'SMA': (np.float64(3.0), np.int64(1)),\n",
      "  'SME': (np.float64(5.1), np.int64(1)),\n",
      "  'SSC': (np.float64(0.0), np.int64(1)),\n",
      "  'total': np.int64(6)},\n",
      " {'760': (0, np.int64(0)),\n",
      "  'SCC': (np.float64(8.866666666666667), np.int64(3)),\n",
      "  'SMA': (0, np.int64(0)),\n",
      "  'SME': (np.float64(8.15), np.int64(2)),\n",
      "  'SSC': (np.float64(5.0), np.int64(1)),\n",
      "  'total': np.int64(6)},\n",
      " {'760': (0, np.int64(0)),\n",
      "  'SCC': (np.float64(4.166666666666667), np.int64(3)),\n",
      "  'SMA': (np.float64(8.4), np.int64(1)),\n",
      "  'SME': (0, np.int64(0)),\n",
      "  'SSC': (np.float64(4.55), np.int64(2)),\n",
      "  'total': np.int64(6)}]\n",
      "['2020/1', '2020/2', '2021/1', '2021/2', '2022/1', '2022/2', '2023/1', '2023/2', '2024/1', '2024/2', '2025/1']\n",
      "['2020/1', '2020/2', '2021/1', '2021/2', '2022/1', '2022/2', '2023/1', '2023/2', '2024/1', '2024/2', '2025/1']\n",
      "[None,\n",
      " None,\n",
      " None,\n",
      " None,\n",
      " None,\n",
      " None,\n",
      " {'760': (0, np.int64(0)),\n",
      "  'SCC': (np.float64(9.299999999999999), np.int64(3)),\n",
      "  'SMA': (np.float64(8.2), np.int64(2)),\n",
      "  'SME': (0, np.int64(0)),\n",
      "  'SSC': (np.float64(9.575), np.int64(4)),\n",
      "  'total': np.int64(9)},\n",
      " {'760': (np.float64(6.3), np.int64(1)),\n",
      "  'SCC': (np.float64(9.100000000000001), np.int64(3)),\n",
      "  'SMA': (np.float64(7.9), np.int64(2)),\n",
      "  'SME': (0, np.int64(0)),\n",
      "  'SSC': (np.float64(8.1), np.int64(2)),\n",
      "  'total': np.int64(8)},\n",
      " {'760': (np.float64(7.3), np.int64(1)),\n",
      "  'SCC': (np.float64(9.25), np.int64(2)),\n",
      "  'SMA': (np.float64(6.0), np.int64(1)),\n",
      "  'SME': (0, np.int64(0)),\n",
      "  'SSC': (np.float64(9.299999999999999), np.int64(3)),\n",
      "  'total': np.int64(7)},\n",
      " {'760': (0, np.int64(0)),\n",
      "  'SCC': (np.float64(8.25), np.int64(2)),\n",
      "  'SMA': (0, np.int64(0)),\n",
      "  'SME': (np.float64(7.85), np.int64(2)),\n",
      "  'SSC': (np.float64(9.25), np.int64(4)),\n",
      "  'total': np.int64(8)},\n",
      " {'760': (0, np.int64(0)),\n",
      "  'SCC': (np.float64(9.133333333333335), np.int64(3)),\n",
      "  'SMA': (0, np.int64(0)),\n",
      "  'SME': (np.float64(7.6), np.int64(2)),\n",
      "  'SSC': (np.float64(8.6), np.int64(2)),\n",
      "  'total': np.int64(7)}]\n",
      "['2020/1', '2020/2', '2021/1', '2021/2', '2022/1', '2022/2', '2023/1', '2023/2', '2024/1', '2024/2', '2025/1']\n",
      "['2020/1', '2020/2', '2021/1', '2021/2', '2022/1', '2022/2', '2023/1', '2023/2', '2024/1', '2024/2', '2025/1']\n",
      "[None,\n",
      " None,\n",
      " None,\n",
      " None,\n",
      " None,\n",
      " None,\n",
      " {'760': (0, np.int64(0)),\n",
      "  'SCC': (np.float64(8.433333333333332), np.int64(3)),\n",
      "  'SMA': (np.float64(8.9), np.int64(2)),\n",
      "  'SME': (0, np.int64(0)),\n",
      "  'SSC': (np.float64(9.125), np.int64(4)),\n",
      "  'total': np.int64(9)},\n",
      " {'760': (np.float64(7.9), np.int64(1)),\n",
      "  'SCC': (np.float64(9.466666666666667), np.int64(3)),\n",
      "  'SMA': (np.float64(8.05), np.int64(2)),\n",
      "  'SME': (0, np.int64(0)),\n",
      "  'SSC': (np.float64(9.55), np.int64(2)),\n",
      "  'total': np.int64(8)},\n",
      " {'760': (np.float64(7.6), np.int64(1)),\n",
      "  'SCC': (np.float64(8.899999999999999), np.int64(2)),\n",
      "  'SMA': (np.float64(7.5), np.int64(1)),\n",
      "  'SME': (0, np.int64(0)),\n",
      "  'SSC': (np.float64(9.275), np.int64(4)),\n",
      "  'total': np.int64(8)},\n",
      " {'760': (0, np.int64(0)),\n",
      "  'SCC': (np.float64(8.466666666666667), np.int64(3)),\n",
      "  'SMA': (np.float64(8.0), np.int64(1)),\n",
      "  'SME': (np.float64(9.3), np.int64(2)),\n",
      "  'SSC': (np.float64(8.8), np.int64(4)),\n",
      "  'total': np.int64(10)},\n",
      " {'760': (0, np.int64(0)),\n",
      "  'SCC': (np.float64(8.9), np.int64(3)),\n",
      "  'SMA': (0, np.int64(0)),\n",
      "  'SME': (np.float64(9.333333333333334), np.int64(3)),\n",
      "  'SSC': (np.float64(8.05), np.int64(2)),\n",
      "  'total': np.int64(8)}]\n",
      "['2020/1', '2020/2', '2021/1', '2021/2', '2022/1', '2022/2', '2023/1', '2023/2', '2024/1', '2024/2', '2025/1']\n"
     ]
    },
    {
     "data": {
      "application/vnd.plotly.v1+json": {
       "data": [
        {
         "mode": "lines+markers",
         "name": "SCC",
         "stackgroup": "depto",
         "x": [
          "2020/1",
          "2020/2",
          "2021/1",
          "2021/2",
          "2022/1",
          "2022/2",
          "2023/1",
          "2023/2",
          "2024/1",
          "2024/2",
          "2025/1"
         ],
         "y": [
          0,
          0,
          0,
          0,
          0,
          0,
          3.1999999999999997,
          3.6500000000000004,
          2.6857142857142855,
          2.8833333333333333,
          3.1
         ],
         "type": "scatter"
        },
        {
         "mode": "lines+markers",
         "name": "SCC",
         "stackgroup": "depto",
         "x": [
          "2020/1",
          "2020/2",
          "2021/1",
          "2021/2",
          "2022/1",
          "2022/2",
          "2023/1",
          "2023/2",
          "2024/1",
          "2024/2",
          "2025/1"
         ],
         "y": [
          0,
          0,
          0,
          0,
          0,
          0,
          3.244444444444444,
          3.55,
          2.7285714285714286,
          2.8000000000000003,
          3.1999999999999997
         ],
         "type": "scatter"
        },
        {
         "mode": "lines+markers",
         "name": "SCC",
         "stackgroup": "depto",
         "x": [
          "2020/1",
          "2020/2",
          "2021/1",
          "2021/2",
          "2022/1",
          "2022/2",
          "2023/1",
          "2023/2",
          "2024/1",
          "2024/2",
          "2025/1"
         ],
         "y": [
          3.322222222222222,
          2.8333333333333335,
          3.0,
          1.725,
          2.16,
          4.233333333333333,
          3.5249999999999995,
          1.4714285714285715,
          1.2833333333333334,
          4.433333333333334,
          2.0833333333333335
         ],
         "type": "scatter"
        },
        {
         "mode": "lines+markers",
         "name": "SCC",
         "stackgroup": "depto",
         "x": [
          "2020/1",
          "2020/2",
          "2021/1",
          "2021/2",
          "2022/1",
          "2022/2",
          "2023/1",
          "2023/2",
          "2024/1",
          "2024/2",
          "2025/1"
         ],
         "y": [
          0,
          0,
          0,
          0,
          0,
          0,
          3.0999999999999996,
          3.4125000000000005,
          2.642857142857143,
          2.0625,
          3.914285714285715
         ],
         "type": "scatter"
        },
        {
         "mode": "lines+markers",
         "name": "SCC",
         "stackgroup": "depto",
         "x": [
          "2020/1",
          "2020/2",
          "2021/1",
          "2021/2",
          "2022/1",
          "2022/2",
          "2023/1",
          "2023/2",
          "2024/1",
          "2024/2",
          "2025/1"
         ],
         "y": [
          0,
          0,
          0,
          0,
          0,
          0,
          2.811111111111111,
          3.55,
          2.2249999999999996,
          2.54,
          3.3375000000000004
         ],
         "type": "scatter"
        }
       ],
       "layout": {
        "template": {
         "data": {
          "histogram2dcontour": [
           {
            "type": "histogram2dcontour",
            "colorbar": {
             "outlinewidth": 0,
             "ticks": ""
            },
            "colorscale": [
             [
              0.0,
              "#0d0887"
             ],
             [
              0.1111111111111111,
              "#46039f"
             ],
             [
              0.2222222222222222,
              "#7201a8"
             ],
             [
              0.3333333333333333,
              "#9c179e"
             ],
             [
              0.4444444444444444,
              "#bd3786"
             ],
             [
              0.5555555555555556,
              "#d8576b"
             ],
             [
              0.6666666666666666,
              "#ed7953"
             ],
             [
              0.7777777777777778,
              "#fb9f3a"
             ],
             [
              0.8888888888888888,
              "#fdca26"
             ],
             [
              1.0,
              "#f0f921"
             ]
            ]
           }
          ],
          "choropleth": [
           {
            "type": "choropleth",
            "colorbar": {
             "outlinewidth": 0,
             "ticks": ""
            }
           }
          ],
          "histogram2d": [
           {
            "type": "histogram2d",
            "colorbar": {
             "outlinewidth": 0,
             "ticks": ""
            },
            "colorscale": [
             [
              0.0,
              "#0d0887"
             ],
             [
              0.1111111111111111,
              "#46039f"
             ],
             [
              0.2222222222222222,
              "#7201a8"
             ],
             [
              0.3333333333333333,
              "#9c179e"
             ],
             [
              0.4444444444444444,
              "#bd3786"
             ],
             [
              0.5555555555555556,
              "#d8576b"
             ],
             [
              0.6666666666666666,
              "#ed7953"
             ],
             [
              0.7777777777777778,
              "#fb9f3a"
             ],
             [
              0.8888888888888888,
              "#fdca26"
             ],
             [
              1.0,
              "#f0f921"
             ]
            ]
           }
          ],
          "heatmap": [
           {
            "type": "heatmap",
            "colorbar": {
             "outlinewidth": 0,
             "ticks": ""
            },
            "colorscale": [
             [
              0.0,
              "#0d0887"
             ],
             [
              0.1111111111111111,
              "#46039f"
             ],
             [
              0.2222222222222222,
              "#7201a8"
             ],
             [
              0.3333333333333333,
              "#9c179e"
             ],
             [
              0.4444444444444444,
              "#bd3786"
             ],
             [
              0.5555555555555556,
              "#d8576b"
             ],
             [
              0.6666666666666666,
              "#ed7953"
             ],
             [
              0.7777777777777778,
              "#fb9f3a"
             ],
             [
              0.8888888888888888,
              "#fdca26"
             ],
             [
              1.0,
              "#f0f921"
             ]
            ]
           }
          ],
          "contourcarpet": [
           {
            "type": "contourcarpet",
            "colorbar": {
             "outlinewidth": 0,
             "ticks": ""
            }
           }
          ],
          "contour": [
           {
            "type": "contour",
            "colorbar": {
             "outlinewidth": 0,
             "ticks": ""
            },
            "colorscale": [
             [
              0.0,
              "#0d0887"
             ],
             [
              0.1111111111111111,
              "#46039f"
             ],
             [
              0.2222222222222222,
              "#7201a8"
             ],
             [
              0.3333333333333333,
              "#9c179e"
             ],
             [
              0.4444444444444444,
              "#bd3786"
             ],
             [
              0.5555555555555556,
              "#d8576b"
             ],
             [
              0.6666666666666666,
              "#ed7953"
             ],
             [
              0.7777777777777778,
              "#fb9f3a"
             ],
             [
              0.8888888888888888,
              "#fdca26"
             ],
             [
              1.0,
              "#f0f921"
             ]
            ]
           }
          ],
          "surface": [
           {
            "type": "surface",
            "colorbar": {
             "outlinewidth": 0,
             "ticks": ""
            },
            "colorscale": [
             [
              0.0,
              "#0d0887"
             ],
             [
              0.1111111111111111,
              "#46039f"
             ],
             [
              0.2222222222222222,
              "#7201a8"
             ],
             [
              0.3333333333333333,
              "#9c179e"
             ],
             [
              0.4444444444444444,
              "#bd3786"
             ],
             [
              0.5555555555555556,
              "#d8576b"
             ],
             [
              0.6666666666666666,
              "#ed7953"
             ],
             [
              0.7777777777777778,
              "#fb9f3a"
             ],
             [
              0.8888888888888888,
              "#fdca26"
             ],
             [
              1.0,
              "#f0f921"
             ]
            ]
           }
          ],
          "mesh3d": [
           {
            "type": "mesh3d",
            "colorbar": {
             "outlinewidth": 0,
             "ticks": ""
            }
           }
          ],
          "scatter": [
           {
            "marker": {
             "line": {
              "color": "#283442"
             }
            },
            "type": "scatter"
           }
          ],
          "parcoords": [
           {
            "type": "parcoords",
            "line": {
             "colorbar": {
              "outlinewidth": 0,
              "ticks": ""
             }
            }
           }
          ],
          "scatterpolargl": [
           {
            "type": "scatterpolargl",
            "marker": {
             "colorbar": {
              "outlinewidth": 0,
              "ticks": ""
             }
            }
           }
          ],
          "bar": [
           {
            "error_x": {
             "color": "#f2f5fa"
            },
            "error_y": {
             "color": "#f2f5fa"
            },
            "marker": {
             "line": {
              "color": "rgb(17,17,17)",
              "width": 0.5
             },
             "pattern": {
              "fillmode": "overlay",
              "size": 10,
              "solidity": 0.2
             }
            },
            "type": "bar"
           }
          ],
          "scattergeo": [
           {
            "type": "scattergeo",
            "marker": {
             "colorbar": {
              "outlinewidth": 0,
              "ticks": ""
             }
            }
           }
          ],
          "scatterpolar": [
           {
            "type": "scatterpolar",
            "marker": {
             "colorbar": {
              "outlinewidth": 0,
              "ticks": ""
             }
            }
           }
          ],
          "histogram": [
           {
            "marker": {
             "pattern": {
              "fillmode": "overlay",
              "size": 10,
              "solidity": 0.2
             }
            },
            "type": "histogram"
           }
          ],
          "scattergl": [
           {
            "marker": {
             "line": {
              "color": "#283442"
             }
            },
            "type": "scattergl"
           }
          ],
          "scatter3d": [
           {
            "type": "scatter3d",
            "line": {
             "colorbar": {
              "outlinewidth": 0,
              "ticks": ""
             }
            },
            "marker": {
             "colorbar": {
              "outlinewidth": 0,
              "ticks": ""
             }
            }
           }
          ],
          "scattermap": [
           {
            "type": "scattermap",
            "marker": {
             "colorbar": {
              "outlinewidth": 0,
              "ticks": ""
             }
            }
           }
          ],
          "scattermapbox": [
           {
            "type": "scattermapbox",
            "marker": {
             "colorbar": {
              "outlinewidth": 0,
              "ticks": ""
             }
            }
           }
          ],
          "scatterternary": [
           {
            "type": "scatterternary",
            "marker": {
             "colorbar": {
              "outlinewidth": 0,
              "ticks": ""
             }
            }
           }
          ],
          "scattercarpet": [
           {
            "type": "scattercarpet",
            "marker": {
             "colorbar": {
              "outlinewidth": 0,
              "ticks": ""
             }
            }
           }
          ],
          "carpet": [
           {
            "aaxis": {
             "endlinecolor": "#A2B1C6",
             "gridcolor": "#506784",
             "linecolor": "#506784",
             "minorgridcolor": "#506784",
             "startlinecolor": "#A2B1C6"
            },
            "baxis": {
             "endlinecolor": "#A2B1C6",
             "gridcolor": "#506784",
             "linecolor": "#506784",
             "minorgridcolor": "#506784",
             "startlinecolor": "#A2B1C6"
            },
            "type": "carpet"
           }
          ],
          "table": [
           {
            "cells": {
             "fill": {
              "color": "#506784"
             },
             "line": {
              "color": "rgb(17,17,17)"
             }
            },
            "header": {
             "fill": {
              "color": "#2a3f5f"
             },
             "line": {
              "color": "rgb(17,17,17)"
             }
            },
            "type": "table"
           }
          ],
          "barpolar": [
           {
            "marker": {
             "line": {
              "color": "rgb(17,17,17)",
              "width": 0.5
             },
             "pattern": {
              "fillmode": "overlay",
              "size": 10,
              "solidity": 0.2
             }
            },
            "type": "barpolar"
           }
          ],
          "pie": [
           {
            "automargin": true,
            "type": "pie"
           }
          ]
         },
         "layout": {
          "autotypenumbers": "strict",
          "colorway": [
           "#636efa",
           "#EF553B",
           "#00cc96",
           "#ab63fa",
           "#FFA15A",
           "#19d3f3",
           "#FF6692",
           "#B6E880",
           "#FF97FF",
           "#FECB52"
          ],
          "font": {
           "color": "#f2f5fa"
          },
          "hovermode": "closest",
          "hoverlabel": {
           "align": "left"
          },
          "paper_bgcolor": "rgb(17,17,17)",
          "plot_bgcolor": "rgb(17,17,17)",
          "polar": {
           "bgcolor": "rgb(17,17,17)",
           "angularaxis": {
            "gridcolor": "#506784",
            "linecolor": "#506784",
            "ticks": ""
           },
           "radialaxis": {
            "gridcolor": "#506784",
            "linecolor": "#506784",
            "ticks": ""
           }
          },
          "ternary": {
           "bgcolor": "rgb(17,17,17)",
           "aaxis": {
            "gridcolor": "#506784",
            "linecolor": "#506784",
            "ticks": ""
           },
           "baxis": {
            "gridcolor": "#506784",
            "linecolor": "#506784",
            "ticks": ""
           },
           "caxis": {
            "gridcolor": "#506784",
            "linecolor": "#506784",
            "ticks": ""
           }
          },
          "coloraxis": {
           "colorbar": {
            "outlinewidth": 0,
            "ticks": ""
           }
          },
          "colorscale": {
           "sequential": [
            [
             0.0,
             "#0d0887"
            ],
            [
             0.1111111111111111,
             "#46039f"
            ],
            [
             0.2222222222222222,
             "#7201a8"
            ],
            [
             0.3333333333333333,
             "#9c179e"
            ],
            [
             0.4444444444444444,
             "#bd3786"
            ],
            [
             0.5555555555555556,
             "#d8576b"
            ],
            [
             0.6666666666666666,
             "#ed7953"
            ],
            [
             0.7777777777777778,
             "#fb9f3a"
            ],
            [
             0.8888888888888888,
             "#fdca26"
            ],
            [
             1.0,
             "#f0f921"
            ]
           ],
           "sequentialminus": [
            [
             0.0,
             "#0d0887"
            ],
            [
             0.1111111111111111,
             "#46039f"
            ],
            [
             0.2222222222222222,
             "#7201a8"
            ],
            [
             0.3333333333333333,
             "#9c179e"
            ],
            [
             0.4444444444444444,
             "#bd3786"
            ],
            [
             0.5555555555555556,
             "#d8576b"
            ],
            [
             0.6666666666666666,
             "#ed7953"
            ],
            [
             0.7777777777777778,
             "#fb9f3a"
            ],
            [
             0.8888888888888888,
             "#fdca26"
            ],
            [
             1.0,
             "#f0f921"
            ]
           ],
           "diverging": [
            [
             0,
             "#8e0152"
            ],
            [
             0.1,
             "#c51b7d"
            ],
            [
             0.2,
             "#de77ae"
            ],
            [
             0.3,
             "#f1b6da"
            ],
            [
             0.4,
             "#fde0ef"
            ],
            [
             0.5,
             "#f7f7f7"
            ],
            [
             0.6,
             "#e6f5d0"
            ],
            [
             0.7,
             "#b8e186"
            ],
            [
             0.8,
             "#7fbc41"
            ],
            [
             0.9,
             "#4d9221"
            ],
            [
             1,
             "#276419"
            ]
           ]
          },
          "xaxis": {
           "gridcolor": "#283442",
           "linecolor": "#506784",
           "ticks": "",
           "title": {
            "standoff": 15
           },
           "zerolinecolor": "#283442",
           "automargin": true,
           "zerolinewidth": 2
          },
          "yaxis": {
           "gridcolor": "#283442",
           "linecolor": "#506784",
           "ticks": "",
           "title": {
            "standoff": 15
           },
           "zerolinecolor": "#283442",
           "automargin": true,
           "zerolinewidth": 2
          },
          "scene": {
           "xaxis": {
            "backgroundcolor": "rgb(17,17,17)",
            "gridcolor": "#506784",
            "linecolor": "#506784",
            "showbackground": true,
            "ticks": "",
            "zerolinecolor": "#C8D4E3",
            "gridwidth": 2
           },
           "yaxis": {
            "backgroundcolor": "rgb(17,17,17)",
            "gridcolor": "#506784",
            "linecolor": "#506784",
            "showbackground": true,
            "ticks": "",
            "zerolinecolor": "#C8D4E3",
            "gridwidth": 2
           },
           "zaxis": {
            "backgroundcolor": "rgb(17,17,17)",
            "gridcolor": "#506784",
            "linecolor": "#506784",
            "showbackground": true,
            "ticks": "",
            "zerolinecolor": "#C8D4E3",
            "gridwidth": 2
           }
          },
          "shapedefaults": {
           "line": {
            "color": "#f2f5fa"
           }
          },
          "annotationdefaults": {
           "arrowcolor": "#f2f5fa",
           "arrowhead": 0,
           "arrowwidth": 1
          },
          "geo": {
           "bgcolor": "rgb(17,17,17)",
           "landcolor": "rgb(17,17,17)",
           "subunitcolor": "#506784",
           "showland": true,
           "showlakes": true,
           "lakecolor": "rgb(17,17,17)"
          },
          "title": {
           "x": 0.05
          },
          "updatemenudefaults": {
           "bgcolor": "#506784",
           "borderwidth": 0
          },
          "sliderdefaults": {
           "bgcolor": "#C8D4E3",
           "borderwidth": 1,
           "bordercolor": "rgb(17,17,17)",
           "tickwidth": 0
          },
          "mapbox": {
           "style": "dark"
          }
         }
        }
       },
       "config": {
        "plotlyServerURL": "https://plot.ly"
       }
      }
     },
     "metadata": {},
     "output_type": "display_data"
    }
   ],
   "execution_count": 52,
   "source": [
    "fig = go.Figure()\n",
    "\n",
    "for student in students.index:\n",
    "    semesters = [] # Stores the semesters labels\n",
    "    averages = [] # Stores the array of contributions to average\n",
    "    student_df = joined_df[joined_df[\"student_id\"] == student]\n",
    "    for semester in sorted(joined_df[\"Ano/Semestre\"].unique()):\n",
    "        student_sem_df = student_df[student_df[\"Ano/Semestre\"] == semester]\n",
    "        semesters.append(semester)\n",
    "        if student_sem_df.empty:\n",
    "            averages.append(None)\n",
    "            continue\n",
    "        sem_avgs = {}\n",
    "        semester_total = 0\n",
    "        for depto in student_df[\"depto\"].unique():\n",
    "            student_sem_depto_notas = student_sem_df[student_sem_df[\"depto\"] == depto][\"NOTA\"]\n",
    "            avg = student_sem_depto_notas.mean()\n",
    "            count = student_sem_depto_notas.count()\n",
    "            avg = avg if count != 0 else 0\n",
    "            sem_avgs[depto] = (avg, count)\n",
    "            semester_total += count\n",
    "        sem_avgs[\"total\"] = semester_total\n",
    "        averages.append(sem_avgs)\n",
    "    print(semesters)\n",
    "    pprint(averages)\n",
    "    for depto in student_df[\"depto\"].unique():\n",
    "        y = list(map(lambda x: x[depto][0] * x[depto][1] / x[\"total\"] if x is not None else 0, averages))\n",
    "        print(semesters)\n",
    "        fig.add_trace(go.Scatter(\n",
    "            x=semesters, y=y,\n",
    "            mode=\"lines+markers\",\n",
    "            stackgroup=\"depto\",\n",
    "            name=depto,\n",
    "        ))\n",
    "        break\n",
    "\n",
    "fig.show()\n"
   ],
   "id": "4fde17acf6d9bade"
  },
  {
   "metadata": {
    "ExecuteTime": {
     "end_time": "2025-10-27T15:23:47.204443Z",
     "start_time": "2025-10-27T15:23:47.114562Z"
    }
   },
   "cell_type": "code",
   "source": [
    "import plotly.graph_objects as go\n",
    "\n",
    "fig = go.Figure()\n",
    "\n",
    "\n",
    "all_student_data = []\n",
    "trace_count_per_student = []\n",
    "\n",
    "for student in students.index:\n",
    "    semesters = []  # Stores the semesters labels\n",
    "    averages = []  # Stores the array of contributions to average\n",
    "    student_df = joined_df[joined_df[\"student_id\"] == student]\n",
    "\n",
    "    for semester in sorted(joined_df[\"Ano/Semestre\"].unique()):\n",
    "        student_sem_df = student_df[student_df[\"Ano/Semestre\"] == semester]\n",
    "        semesters.append(semester)\n",
    "        if student_sem_df.empty:\n",
    "            averages.append(None)\n",
    "            continue\n",
    "        sem_avgs = {}\n",
    "        semester_total = 0\n",
    "        for depto in student_df[\"depto\"].unique():\n",
    "            student_sem_depto_notas = student_sem_df[student_sem_df[\"depto\"] == depto][\"NOTA\"]\n",
    "            avg = student_sem_depto_notas.mean()\n",
    "            count = student_sem_depto_notas.count()\n",
    "            avg = avg if count != 0 else 0\n",
    "            sem_avgs[depto] = (avg, count)\n",
    "            semester_total += count\n",
    "        sem_avgs[\"total\"] = semester_total\n",
    "        averages.append(sem_avgs)\n",
    "\n",
    "    # Students plot\n",
    "    student_traces = []\n",
    "    total_y = np.array([0] * len(averages), dtype=np.float64)\n",
    "    for depto in student_df[\"depto\"].unique():\n",
    "        y = list(map(lambda x: x[depto][0] * x[depto][1] / x[\"total\"] if x is not None else 0, averages))\n",
    "        total_y += np.array(y)\n",
    "\n",
    "        trace = go.Scatter(\n",
    "            x=semesters,\n",
    "            y=y,\n",
    "            mode=\"lines+markers\",\n",
    "            stackgroup=\"depto\",\n",
    "            name=depto,\n",
    "            visible=(student == students.index[0])  # Only first visible\n",
    "        )\n",
    "        fig.add_trace(trace)\n",
    "        student_traces.append(trace)\n",
    "    fig.add_trace(go.Scatter(\n",
    "        x=semesters,\n",
    "        y=total_y,\n",
    "        mode=\"lines\",\n",
    "        name=\"Média do semestre\",\n",
    "        line=dict(width=0),\n",
    "        showlegend=False,\n",
    "        hovertemplate=\"<b>Média total: %{y:.2f}</b><extra></extra>\",\n",
    "        visible=(student == students.index[0])\n",
    "    ))\n",
    "\n",
    "    trace_count_per_student.append(len(student_df[\"depto\"].unique())+1)\n",
    "\n",
    "# Create dropdown buttons\n",
    "buttons = []\n",
    "for i, student in enumerate(students.index):\n",
    "    # Calculate which traces belong to this student\n",
    "    start_idx = sum(trace_count_per_student[:i])\n",
    "    end_idx = start_idx + trace_count_per_student[i]\n",
    "\n",
    "    # Create visibility list\n",
    "    visible = [False] * len(fig.data)\n",
    "    for j in range(start_idx, end_idx):\n",
    "        visible[j] = True\n",
    "\n",
    "    buttons.append(\n",
    "        dict(\n",
    "            label=f\"Estudante {student}\",\n",
    "            method=\"update\",\n",
    "            args=[{\"visible\": visible},\n",
    "                  {\"title\": f\"Contribuição à Média por departamento para Estudante {student}\"}]\n",
    "        )\n",
    "    )\n",
    "\n",
    "# Add dropdown menu to layout\n",
    "fig.update_layout(\n",
    "    updatemenus=[\n",
    "        dict(\n",
    "            buttons=buttons,\n",
    "            direction=\"down\",\n",
    "            pad={\"r\": 10, \"t\": 10},\n",
    "            showactive=False,\n",
    "            x=0.1,\n",
    "            xanchor=\"left\",\n",
    "            y=1.15,\n",
    "            yanchor=\"top\",\n",
    "            bgcolor=\"gray\",\n",
    "            bordercolor=\"gray\",\n",
    "            borderwidth=1\n",
    "        )\n",
    "    ],\n",
    "    title=f\"Contribuição à Média por departamento para Estudante {students.index[0]}\",\n",
    "    xaxis_title=\"Semestre\",\n",
    "    yaxis_title=\"Média\",\n",
    "    hovermode='x unified'\n",
    ")\n",
    "\n",
    "fig.show()"
   ],
   "id": "1259b65489d15611",
   "outputs": [
    {
     "data": {
      "application/vnd.plotly.v1+json": {
       "data": [
        {
         "mode": "lines+markers",
         "name": "SCC",
         "stackgroup": "depto",
         "visible": true,
         "x": [
          "2020/1",
          "2020/2",
          "2021/1",
          "2021/2",
          "2022/1",
          "2022/2",
          "2023/1",
          "2023/2",
          "2024/1",
          "2024/2",
          "2025/1"
         ],
         "y": [
          0,
          0,
          0,
          0,
          0,
          0,
          3.1999999999999997,
          3.6500000000000004,
          2.6857142857142855,
          2.8833333333333333,
          3.1
         ],
         "type": "scatter"
        },
        {
         "mode": "lines+markers",
         "name": "SMA",
         "stackgroup": "depto",
         "visible": true,
         "x": [
          "2020/1",
          "2020/2",
          "2021/1",
          "2021/2",
          "2022/1",
          "2022/2",
          "2023/1",
          "2023/2",
          "2024/1",
          "2024/2",
          "2025/1"
         ],
         "y": [
          0,
          0,
          0,
          0,
          0,
          0,
          1.9444444444444444,
          2.425,
          1.2714285714285716,
          0.0,
          0.0
         ],
         "type": "scatter"
        },
        {
         "mode": "lines+markers",
         "name": "SSC",
         "stackgroup": "depto",
         "visible": true,
         "x": [
          "2020/1",
          "2020/2",
          "2021/1",
          "2021/2",
          "2022/1",
          "2022/2",
          "2023/1",
          "2023/2",
          "2024/1",
          "2024/2",
          "2025/1"
         ],
         "y": [
          0,
          0,
          0,
          0,
          0,
          0,
          4.277777777777778,
          2.3625,
          4.0,
          2.9499999999999997,
          2.85
         ],
         "type": "scatter"
        },
        {
         "mode": "lines+markers",
         "name": "760",
         "stackgroup": "depto",
         "visible": true,
         "x": [
          "2020/1",
          "2020/2",
          "2021/1",
          "2021/2",
          "2022/1",
          "2022/2",
          "2023/1",
          "2023/2",
          "2024/1",
          "2024/2",
          "2025/1"
         ],
         "y": [
          0,
          0,
          0,
          0,
          0,
          0,
          0.0,
          1.125,
          1.3142857142857143,
          0.0,
          0.0
         ],
         "type": "scatter"
        },
        {
         "mode": "lines+markers",
         "name": "SME",
         "stackgroup": "depto",
         "visible": true,
         "x": [
          "2020/1",
          "2020/2",
          "2021/1",
          "2021/2",
          "2022/1",
          "2022/2",
          "2023/1",
          "2023/2",
          "2024/1",
          "2024/2",
          "2025/1"
         ],
         "y": [
          0,
          0,
          0,
          0,
          0,
          0,
          0.0,
          0.0,
          0.0,
          2.65,
          2.733333333333333
         ],
         "type": "scatter"
        },
        {
         "hovertemplate": "<b>Média total: %{y:.2f}</b><extra></extra>",
         "line": {
          "width": 0
         },
         "mode": "lines",
         "name": "Média do semestre",
         "showlegend": false,
         "visible": true,
         "x": [
          "2020/1",
          "2020/2",
          "2021/1",
          "2021/2",
          "2022/1",
          "2022/2",
          "2023/1",
          "2023/2",
          "2024/1",
          "2024/2",
          "2025/1"
         ],
         "y": {
          "dtype": "f8",
          "bdata": "AAAAAAAAAAAAAAAAAAAAAAAAAAAAAAAAAAAAAAAAAAAAAAAAAAAAAAAAAAAAAAAAgi3Ygi3YIkAAAAAAACAjQLD4iq/4iiJAd3d3d3f3IEDe3d3d3V0hQA=="
         },
         "type": "scatter"
        },
        {
         "mode": "lines+markers",
         "name": "SCC",
         "stackgroup": "depto",
         "visible": false,
         "x": [
          "2020/1",
          "2020/2",
          "2021/1",
          "2021/2",
          "2022/1",
          "2022/2",
          "2023/1",
          "2023/2",
          "2024/1",
          "2024/2",
          "2025/1"
         ],
         "y": [
          0,
          0,
          0,
          0,
          0,
          0,
          3.244444444444444,
          3.55,
          2.7285714285714286,
          2.8000000000000003,
          3.1999999999999997
         ],
         "type": "scatter"
        },
        {
         "mode": "lines+markers",
         "name": "SMA",
         "stackgroup": "depto",
         "visible": false,
         "x": [
          "2020/1",
          "2020/2",
          "2021/1",
          "2021/2",
          "2022/1",
          "2022/2",
          "2023/1",
          "2023/2",
          "2024/1",
          "2024/2",
          "2025/1"
         ],
         "y": [
          0,
          0,
          0,
          0,
          0,
          0,
          1.9222222222222223,
          1.9000000000000001,
          0.9571428571428572,
          0.0,
          0.0
         ],
         "type": "scatter"
        },
        {
         "mode": "lines+markers",
         "name": "SSC",
         "stackgroup": "depto",
         "visible": false,
         "x": [
          "2020/1",
          "2020/2",
          "2021/1",
          "2021/2",
          "2022/1",
          "2022/2",
          "2023/1",
          "2023/2",
          "2024/1",
          "2024/2",
          "2025/1"
         ],
         "y": [
          0,
          0,
          0,
          0,
          0,
          0,
          4.022222222222222,
          2.075,
          3.9285714285714284,
          4.0,
          2.9333333333333336
         ],
         "type": "scatter"
        },
        {
         "mode": "lines+markers",
         "name": "760",
         "stackgroup": "depto",
         "visible": false,
         "x": [
          "2020/1",
          "2020/2",
          "2021/1",
          "2021/2",
          "2022/1",
          "2022/2",
          "2023/1",
          "2023/2",
          "2024/1",
          "2024/2",
          "2025/1"
         ],
         "y": [
          0,
          0,
          0,
          0,
          0,
          0,
          0.0,
          1.1125,
          1.2285714285714284,
          0.0,
          0.0
         ],
         "type": "scatter"
        },
        {
         "mode": "lines+markers",
         "name": "SME",
         "stackgroup": "depto",
         "visible": false,
         "x": [
          "2020/1",
          "2020/2",
          "2021/1",
          "2021/2",
          "2022/1",
          "2022/2",
          "2023/1",
          "2023/2",
          "2024/1",
          "2024/2",
          "2025/1"
         ],
         "y": [
          0,
          0,
          0,
          0,
          0,
          0,
          0.0,
          0.0,
          0.0,
          2.2142857142857144,
          2.9166666666666665
         ],
         "type": "scatter"
        },
        {
         "hovertemplate": "<b>Média total: %{y:.2f}</b><extra></extra>",
         "line": {
          "width": 0
         },
         "mode": "lines",
         "name": "Média do semestre",
         "showlegend": false,
         "visible": false,
         "x": [
          "2020/1",
          "2020/2",
          "2021/1",
          "2021/2",
          "2022/1",
          "2022/2",
          "2023/1",
          "2023/2",
          "2024/1",
          "2024/2",
          "2025/1"
         ],
         "y": {
          "dtype": "f8",
          "bdata": "AAAAAAAAAAAAAAAAAAAAAAAAAAAAAAAAAAAAAAAAAAAAAAAAAAAAAAAAAAAAAAAAC7ZgC7ZgIkBnZmZmZkYhQPiKr/iKryFAdlAHdVAHIkCZmZmZmRkiQA=="
         },
         "type": "scatter"
        },
        {
         "mode": "lines+markers",
         "name": "SCC",
         "stackgroup": "depto",
         "visible": false,
         "x": [
          "2020/1",
          "2020/2",
          "2021/1",
          "2021/2",
          "2022/1",
          "2022/2",
          "2023/1",
          "2023/2",
          "2024/1",
          "2024/2",
          "2025/1"
         ],
         "y": [
          3.322222222222222,
          2.8333333333333335,
          3.0,
          1.725,
          2.16,
          4.233333333333333,
          3.5249999999999995,
          1.4714285714285715,
          1.2833333333333334,
          4.433333333333334,
          2.0833333333333335
         ],
         "type": "scatter"
        },
        {
         "mode": "lines+markers",
         "name": "SMA",
         "stackgroup": "depto",
         "visible": false,
         "x": [
          "2020/1",
          "2020/2",
          "2021/1",
          "2021/2",
          "2022/1",
          "2022/2",
          "2023/1",
          "2023/2",
          "2024/1",
          "2024/2",
          "2025/1"
         ],
         "y": [
          1.6222222222222222,
          1.8499999999999999,
          0.75,
          0.0,
          0.0,
          0.5499999999999999,
          0.0,
          0.8428571428571429,
          0.5,
          0.0,
          1.4000000000000001
         ],
         "type": "scatter"
        },
        {
         "mode": "lines+markers",
         "name": "SSC",
         "stackgroup": "depto",
         "visible": false,
         "x": [
          "2020/1",
          "2020/2",
          "2021/1",
          "2021/2",
          "2022/1",
          "2022/2",
          "2023/1",
          "2023/2",
          "2024/1",
          "2024/2",
          "2025/1"
         ],
         "y": [
          4.333333333333333,
          3.25,
          4.566666666666666,
          4.2,
          3.3,
          1.45,
          3.675,
          4.014285714285714,
          0.0,
          0.8333333333333334,
          1.5166666666666666
         ],
         "type": "scatter"
        },
        {
         "mode": "lines+markers",
         "name": "SME",
         "stackgroup": "depto",
         "visible": false,
         "x": [
          "2020/1",
          "2020/2",
          "2021/1",
          "2021/2",
          "2022/1",
          "2022/2",
          "2023/1",
          "2023/2",
          "2024/1",
          "2024/2",
          "2025/1"
         ],
         "y": [
          0.0,
          0.0,
          0.0,
          2.125,
          1.46,
          0.7333333333333334,
          0.0,
          0.0,
          0.85,
          2.716666666666667,
          0.0
         ],
         "type": "scatter"
        },
        {
         "mode": "lines+markers",
         "name": "760",
         "stackgroup": "depto",
         "visible": false,
         "x": [
          "2020/1",
          "2020/2",
          "2021/1",
          "2021/2",
          "2022/1",
          "2022/2",
          "2023/1",
          "2023/2",
          "2024/1",
          "2024/2",
          "2025/1"
         ],
         "y": [
          0.0,
          0.0,
          0.0,
          0.0,
          0.0,
          0.0,
          0.0,
          0.8285714285714285,
          1.0666666666666667,
          0.0,
          0.0
         ],
         "type": "scatter"
        },
        {
         "hovertemplate": "<b>Média total: %{y:.2f}</b><extra></extra>",
         "line": {
          "width": 0
         },
         "mode": "lines",
         "name": "Média do semestre",
         "showlegend": false,
         "visible": false,
         "x": [
          "2020/1",
          "2020/2",
          "2021/1",
          "2021/2",
          "2022/1",
          "2022/2",
          "2023/1",
          "2023/2",
          "2024/1",
          "2024/2",
          "2025/1"
         ],
         "y": {
          "dtype": "f8",
          "bdata": "5DiO4ziOIkC8u7u7u7sfQCIiIiIioiBAmpmZmZkZIECuR+F6FK4bQN7d3d3d3RtAzMzMzMzMHEAP6qAO6qAcQJqZmZmZmQ1A7+7u7u7uH0AAAAAAAAAUQA=="
         },
         "type": "scatter"
        },
        {
         "mode": "lines+markers",
         "name": "SCC",
         "stackgroup": "depto",
         "visible": false,
         "x": [
          "2020/1",
          "2020/2",
          "2021/1",
          "2021/2",
          "2022/1",
          "2022/2",
          "2023/1",
          "2023/2",
          "2024/1",
          "2024/2",
          "2025/1"
         ],
         "y": [
          0,
          0,
          0,
          0,
          0,
          0,
          3.0999999999999996,
          3.4125000000000005,
          2.642857142857143,
          2.0625,
          3.914285714285715
         ],
         "type": "scatter"
        },
        {
         "mode": "lines+markers",
         "name": "SMA",
         "stackgroup": "depto",
         "visible": false,
         "x": [
          "2020/1",
          "2020/2",
          "2021/1",
          "2021/2",
          "2022/1",
          "2022/2",
          "2023/1",
          "2023/2",
          "2024/1",
          "2024/2",
          "2025/1"
         ],
         "y": [
          0,
          0,
          0,
          0,
          0,
          0,
          1.822222222222222,
          1.975,
          0.8571428571428571,
          0.0,
          0.0
         ],
         "type": "scatter"
        },
        {
         "mode": "lines+markers",
         "name": "SSC",
         "stackgroup": "depto",
         "visible": false,
         "x": [
          "2020/1",
          "2020/2",
          "2021/1",
          "2021/2",
          "2022/1",
          "2022/2",
          "2023/1",
          "2023/2",
          "2024/1",
          "2024/2",
          "2025/1"
         ],
         "y": [
          0,
          0,
          0,
          0,
          0,
          0,
          4.2555555555555555,
          2.025,
          3.9857142857142853,
          4.625,
          2.457142857142857
         ],
         "type": "scatter"
        },
        {
         "mode": "lines+markers",
         "name": "760",
         "stackgroup": "depto",
         "visible": false,
         "x": [
          "2020/1",
          "2020/2",
          "2021/1",
          "2021/2",
          "2022/1",
          "2022/2",
          "2023/1",
          "2023/2",
          "2024/1",
          "2024/2",
          "2025/1"
         ],
         "y": [
          0,
          0,
          0,
          0,
          0,
          0,
          0.0,
          0.7875,
          1.042857142857143,
          0.0,
          0.0
         ],
         "type": "scatter"
        },
        {
         "mode": "lines+markers",
         "name": "SME",
         "stackgroup": "depto",
         "visible": false,
         "x": [
          "2020/1",
          "2020/2",
          "2021/1",
          "2021/2",
          "2022/1",
          "2022/2",
          "2023/1",
          "2023/2",
          "2024/1",
          "2024/2",
          "2025/1"
         ],
         "y": [
          0,
          0,
          0,
          0,
          0,
          0,
          0.0,
          0.0,
          0.0,
          1.9625,
          2.1714285714285713
         ],
         "type": "scatter"
        },
        {
         "hovertemplate": "<b>Média total: %{y:.2f}</b><extra></extra>",
         "line": {
          "width": 0
         },
         "mode": "lines",
         "name": "Média do semestre",
         "showlegend": false,
         "visible": false,
         "x": [
          "2020/1",
          "2020/2",
          "2021/1",
          "2021/2",
          "2022/1",
          "2022/2",
          "2023/1",
          "2023/2",
          "2024/1",
          "2024/2",
          "2025/1"
         ],
         "y": {
          "dtype": "f8",
          "bdata": "AAAAAAAAAAAAAAAAAAAAAAAAAAAAAAAAAAAAAAAAAAAAAAAAAAAAAAAAAAAAAAAAsAVbsAVbIkBnZmZmZmYgQOqgDuqgDiFAzczMzMxMIUBf8RVf8RUhQA=="
         },
         "type": "scatter"
        },
        {
         "mode": "lines+markers",
         "name": "SCC",
         "stackgroup": "depto",
         "visible": false,
         "x": [
          "2020/1",
          "2020/2",
          "2021/1",
          "2021/2",
          "2022/1",
          "2022/2",
          "2023/1",
          "2023/2",
          "2024/1",
          "2024/2",
          "2025/1"
         ],
         "y": [
          0,
          0,
          0,
          0,
          0,
          0,
          2.811111111111111,
          3.55,
          2.2249999999999996,
          2.54,
          3.3375000000000004
         ],
         "type": "scatter"
        },
        {
         "mode": "lines+markers",
         "name": "SMA",
         "stackgroup": "depto",
         "visible": false,
         "x": [
          "2020/1",
          "2020/2",
          "2021/1",
          "2021/2",
          "2022/1",
          "2022/2",
          "2023/1",
          "2023/2",
          "2024/1",
          "2024/2",
          "2025/1"
         ],
         "y": [
          0,
          0,
          0,
          0,
          0,
          0,
          1.9777777777777779,
          2.0125,
          0.9375,
          0.8,
          0.0
         ],
         "type": "scatter"
        },
        {
         "mode": "lines+markers",
         "name": "SSC",
         "stackgroup": "depto",
         "visible": false,
         "x": [
          "2020/1",
          "2020/2",
          "2021/1",
          "2021/2",
          "2022/1",
          "2022/2",
          "2023/1",
          "2023/2",
          "2024/1",
          "2024/2",
          "2025/1"
         ],
         "y": [
          0,
          0,
          0,
          0,
          0,
          0,
          4.055555555555555,
          2.3875,
          4.6375,
          3.5200000000000005,
          2.0125
         ],
         "type": "scatter"
        },
        {
         "mode": "lines+markers",
         "name": "760",
         "stackgroup": "depto",
         "visible": false,
         "x": [
          "2020/1",
          "2020/2",
          "2021/1",
          "2021/2",
          "2022/1",
          "2022/2",
          "2023/1",
          "2023/2",
          "2024/1",
          "2024/2",
          "2025/1"
         ],
         "y": [
          0,
          0,
          0,
          0,
          0,
          0,
          0.0,
          0.9875,
          0.95,
          0.0,
          0.0
         ],
         "type": "scatter"
        },
        {
         "mode": "lines+markers",
         "name": "SME",
         "stackgroup": "depto",
         "visible": false,
         "x": [
          "2020/1",
          "2020/2",
          "2021/1",
          "2021/2",
          "2022/1",
          "2022/2",
          "2023/1",
          "2023/2",
          "2024/1",
          "2024/2",
          "2025/1"
         ],
         "y": [
          0,
          0,
          0,
          0,
          0,
          0,
          0.0,
          0.0,
          0.0,
          1.86,
          3.5
         ],
         "type": "scatter"
        },
        {
         "hovertemplate": "<b>Média total: %{y:.2f}</b><extra></extra>",
         "line": {
          "width": 0
         },
         "mode": "lines",
         "name": "Média do semestre",
         "showlegend": false,
         "visible": false,
         "x": [
          "2020/1",
          "2020/2",
          "2021/1",
          "2021/2",
          "2022/1",
          "2022/2",
          "2023/1",
          "2023/2",
          "2024/1",
          "2024/2",
          "2025/1"
         ],
         "y": {
          "dtype": "f8",
          "bdata": "AAAAAAAAAAAAAAAAAAAAAAAAAAAAAAAAAAAAAAAAAAAAAAAAAAAAAAAAAAAAAAAABluwBVuwIUAAAAAAAOAhQAAAAAAAgCFAcT0K16NwIUA0MzMzM7MhQA=="
         },
         "type": "scatter"
        }
       ],
       "layout": {
        "template": {
         "data": {
          "histogram2dcontour": [
           {
            "type": "histogram2dcontour",
            "colorbar": {
             "outlinewidth": 0,
             "ticks": ""
            },
            "colorscale": [
             [
              0.0,
              "#0d0887"
             ],
             [
              0.1111111111111111,
              "#46039f"
             ],
             [
              0.2222222222222222,
              "#7201a8"
             ],
             [
              0.3333333333333333,
              "#9c179e"
             ],
             [
              0.4444444444444444,
              "#bd3786"
             ],
             [
              0.5555555555555556,
              "#d8576b"
             ],
             [
              0.6666666666666666,
              "#ed7953"
             ],
             [
              0.7777777777777778,
              "#fb9f3a"
             ],
             [
              0.8888888888888888,
              "#fdca26"
             ],
             [
              1.0,
              "#f0f921"
             ]
            ]
           }
          ],
          "choropleth": [
           {
            "type": "choropleth",
            "colorbar": {
             "outlinewidth": 0,
             "ticks": ""
            }
           }
          ],
          "histogram2d": [
           {
            "type": "histogram2d",
            "colorbar": {
             "outlinewidth": 0,
             "ticks": ""
            },
            "colorscale": [
             [
              0.0,
              "#0d0887"
             ],
             [
              0.1111111111111111,
              "#46039f"
             ],
             [
              0.2222222222222222,
              "#7201a8"
             ],
             [
              0.3333333333333333,
              "#9c179e"
             ],
             [
              0.4444444444444444,
              "#bd3786"
             ],
             [
              0.5555555555555556,
              "#d8576b"
             ],
             [
              0.6666666666666666,
              "#ed7953"
             ],
             [
              0.7777777777777778,
              "#fb9f3a"
             ],
             [
              0.8888888888888888,
              "#fdca26"
             ],
             [
              1.0,
              "#f0f921"
             ]
            ]
           }
          ],
          "heatmap": [
           {
            "type": "heatmap",
            "colorbar": {
             "outlinewidth": 0,
             "ticks": ""
            },
            "colorscale": [
             [
              0.0,
              "#0d0887"
             ],
             [
              0.1111111111111111,
              "#46039f"
             ],
             [
              0.2222222222222222,
              "#7201a8"
             ],
             [
              0.3333333333333333,
              "#9c179e"
             ],
             [
              0.4444444444444444,
              "#bd3786"
             ],
             [
              0.5555555555555556,
              "#d8576b"
             ],
             [
              0.6666666666666666,
              "#ed7953"
             ],
             [
              0.7777777777777778,
              "#fb9f3a"
             ],
             [
              0.8888888888888888,
              "#fdca26"
             ],
             [
              1.0,
              "#f0f921"
             ]
            ]
           }
          ],
          "contourcarpet": [
           {
            "type": "contourcarpet",
            "colorbar": {
             "outlinewidth": 0,
             "ticks": ""
            }
           }
          ],
          "contour": [
           {
            "type": "contour",
            "colorbar": {
             "outlinewidth": 0,
             "ticks": ""
            },
            "colorscale": [
             [
              0.0,
              "#0d0887"
             ],
             [
              0.1111111111111111,
              "#46039f"
             ],
             [
              0.2222222222222222,
              "#7201a8"
             ],
             [
              0.3333333333333333,
              "#9c179e"
             ],
             [
              0.4444444444444444,
              "#bd3786"
             ],
             [
              0.5555555555555556,
              "#d8576b"
             ],
             [
              0.6666666666666666,
              "#ed7953"
             ],
             [
              0.7777777777777778,
              "#fb9f3a"
             ],
             [
              0.8888888888888888,
              "#fdca26"
             ],
             [
              1.0,
              "#f0f921"
             ]
            ]
           }
          ],
          "surface": [
           {
            "type": "surface",
            "colorbar": {
             "outlinewidth": 0,
             "ticks": ""
            },
            "colorscale": [
             [
              0.0,
              "#0d0887"
             ],
             [
              0.1111111111111111,
              "#46039f"
             ],
             [
              0.2222222222222222,
              "#7201a8"
             ],
             [
              0.3333333333333333,
              "#9c179e"
             ],
             [
              0.4444444444444444,
              "#bd3786"
             ],
             [
              0.5555555555555556,
              "#d8576b"
             ],
             [
              0.6666666666666666,
              "#ed7953"
             ],
             [
              0.7777777777777778,
              "#fb9f3a"
             ],
             [
              0.8888888888888888,
              "#fdca26"
             ],
             [
              1.0,
              "#f0f921"
             ]
            ]
           }
          ],
          "mesh3d": [
           {
            "type": "mesh3d",
            "colorbar": {
             "outlinewidth": 0,
             "ticks": ""
            }
           }
          ],
          "scatter": [
           {
            "marker": {
             "line": {
              "color": "#283442"
             }
            },
            "type": "scatter"
           }
          ],
          "parcoords": [
           {
            "type": "parcoords",
            "line": {
             "colorbar": {
              "outlinewidth": 0,
              "ticks": ""
             }
            }
           }
          ],
          "scatterpolargl": [
           {
            "type": "scatterpolargl",
            "marker": {
             "colorbar": {
              "outlinewidth": 0,
              "ticks": ""
             }
            }
           }
          ],
          "bar": [
           {
            "error_x": {
             "color": "#f2f5fa"
            },
            "error_y": {
             "color": "#f2f5fa"
            },
            "marker": {
             "line": {
              "color": "rgb(17,17,17)",
              "width": 0.5
             },
             "pattern": {
              "fillmode": "overlay",
              "size": 10,
              "solidity": 0.2
             }
            },
            "type": "bar"
           }
          ],
          "scattergeo": [
           {
            "type": "scattergeo",
            "marker": {
             "colorbar": {
              "outlinewidth": 0,
              "ticks": ""
             }
            }
           }
          ],
          "scatterpolar": [
           {
            "type": "scatterpolar",
            "marker": {
             "colorbar": {
              "outlinewidth": 0,
              "ticks": ""
             }
            }
           }
          ],
          "histogram": [
           {
            "marker": {
             "pattern": {
              "fillmode": "overlay",
              "size": 10,
              "solidity": 0.2
             }
            },
            "type": "histogram"
           }
          ],
          "scattergl": [
           {
            "marker": {
             "line": {
              "color": "#283442"
             }
            },
            "type": "scattergl"
           }
          ],
          "scatter3d": [
           {
            "type": "scatter3d",
            "line": {
             "colorbar": {
              "outlinewidth": 0,
              "ticks": ""
             }
            },
            "marker": {
             "colorbar": {
              "outlinewidth": 0,
              "ticks": ""
             }
            }
           }
          ],
          "scattermap": [
           {
            "type": "scattermap",
            "marker": {
             "colorbar": {
              "outlinewidth": 0,
              "ticks": ""
             }
            }
           }
          ],
          "scattermapbox": [
           {
            "type": "scattermapbox",
            "marker": {
             "colorbar": {
              "outlinewidth": 0,
              "ticks": ""
             }
            }
           }
          ],
          "scatterternary": [
           {
            "type": "scatterternary",
            "marker": {
             "colorbar": {
              "outlinewidth": 0,
              "ticks": ""
             }
            }
           }
          ],
          "scattercarpet": [
           {
            "type": "scattercarpet",
            "marker": {
             "colorbar": {
              "outlinewidth": 0,
              "ticks": ""
             }
            }
           }
          ],
          "carpet": [
           {
            "aaxis": {
             "endlinecolor": "#A2B1C6",
             "gridcolor": "#506784",
             "linecolor": "#506784",
             "minorgridcolor": "#506784",
             "startlinecolor": "#A2B1C6"
            },
            "baxis": {
             "endlinecolor": "#A2B1C6",
             "gridcolor": "#506784",
             "linecolor": "#506784",
             "minorgridcolor": "#506784",
             "startlinecolor": "#A2B1C6"
            },
            "type": "carpet"
           }
          ],
          "table": [
           {
            "cells": {
             "fill": {
              "color": "#506784"
             },
             "line": {
              "color": "rgb(17,17,17)"
             }
            },
            "header": {
             "fill": {
              "color": "#2a3f5f"
             },
             "line": {
              "color": "rgb(17,17,17)"
             }
            },
            "type": "table"
           }
          ],
          "barpolar": [
           {
            "marker": {
             "line": {
              "color": "rgb(17,17,17)",
              "width": 0.5
             },
             "pattern": {
              "fillmode": "overlay",
              "size": 10,
              "solidity": 0.2
             }
            },
            "type": "barpolar"
           }
          ],
          "pie": [
           {
            "automargin": true,
            "type": "pie"
           }
          ]
         },
         "layout": {
          "autotypenumbers": "strict",
          "colorway": [
           "#636efa",
           "#EF553B",
           "#00cc96",
           "#ab63fa",
           "#FFA15A",
           "#19d3f3",
           "#FF6692",
           "#B6E880",
           "#FF97FF",
           "#FECB52"
          ],
          "font": {
           "color": "#f2f5fa"
          },
          "hovermode": "closest",
          "hoverlabel": {
           "align": "left"
          },
          "paper_bgcolor": "rgb(17,17,17)",
          "plot_bgcolor": "rgb(17,17,17)",
          "polar": {
           "bgcolor": "rgb(17,17,17)",
           "angularaxis": {
            "gridcolor": "#506784",
            "linecolor": "#506784",
            "ticks": ""
           },
           "radialaxis": {
            "gridcolor": "#506784",
            "linecolor": "#506784",
            "ticks": ""
           }
          },
          "ternary": {
           "bgcolor": "rgb(17,17,17)",
           "aaxis": {
            "gridcolor": "#506784",
            "linecolor": "#506784",
            "ticks": ""
           },
           "baxis": {
            "gridcolor": "#506784",
            "linecolor": "#506784",
            "ticks": ""
           },
           "caxis": {
            "gridcolor": "#506784",
            "linecolor": "#506784",
            "ticks": ""
           }
          },
          "coloraxis": {
           "colorbar": {
            "outlinewidth": 0,
            "ticks": ""
           }
          },
          "colorscale": {
           "sequential": [
            [
             0.0,
             "#0d0887"
            ],
            [
             0.1111111111111111,
             "#46039f"
            ],
            [
             0.2222222222222222,
             "#7201a8"
            ],
            [
             0.3333333333333333,
             "#9c179e"
            ],
            [
             0.4444444444444444,
             "#bd3786"
            ],
            [
             0.5555555555555556,
             "#d8576b"
            ],
            [
             0.6666666666666666,
             "#ed7953"
            ],
            [
             0.7777777777777778,
             "#fb9f3a"
            ],
            [
             0.8888888888888888,
             "#fdca26"
            ],
            [
             1.0,
             "#f0f921"
            ]
           ],
           "sequentialminus": [
            [
             0.0,
             "#0d0887"
            ],
            [
             0.1111111111111111,
             "#46039f"
            ],
            [
             0.2222222222222222,
             "#7201a8"
            ],
            [
             0.3333333333333333,
             "#9c179e"
            ],
            [
             0.4444444444444444,
             "#bd3786"
            ],
            [
             0.5555555555555556,
             "#d8576b"
            ],
            [
             0.6666666666666666,
             "#ed7953"
            ],
            [
             0.7777777777777778,
             "#fb9f3a"
            ],
            [
             0.8888888888888888,
             "#fdca26"
            ],
            [
             1.0,
             "#f0f921"
            ]
           ],
           "diverging": [
            [
             0,
             "#8e0152"
            ],
            [
             0.1,
             "#c51b7d"
            ],
            [
             0.2,
             "#de77ae"
            ],
            [
             0.3,
             "#f1b6da"
            ],
            [
             0.4,
             "#fde0ef"
            ],
            [
             0.5,
             "#f7f7f7"
            ],
            [
             0.6,
             "#e6f5d0"
            ],
            [
             0.7,
             "#b8e186"
            ],
            [
             0.8,
             "#7fbc41"
            ],
            [
             0.9,
             "#4d9221"
            ],
            [
             1,
             "#276419"
            ]
           ]
          },
          "xaxis": {
           "gridcolor": "#283442",
           "linecolor": "#506784",
           "ticks": "",
           "title": {
            "standoff": 15
           },
           "zerolinecolor": "#283442",
           "automargin": true,
           "zerolinewidth": 2
          },
          "yaxis": {
           "gridcolor": "#283442",
           "linecolor": "#506784",
           "ticks": "",
           "title": {
            "standoff": 15
           },
           "zerolinecolor": "#283442",
           "automargin": true,
           "zerolinewidth": 2
          },
          "scene": {
           "xaxis": {
            "backgroundcolor": "rgb(17,17,17)",
            "gridcolor": "#506784",
            "linecolor": "#506784",
            "showbackground": true,
            "ticks": "",
            "zerolinecolor": "#C8D4E3",
            "gridwidth": 2
           },
           "yaxis": {
            "backgroundcolor": "rgb(17,17,17)",
            "gridcolor": "#506784",
            "linecolor": "#506784",
            "showbackground": true,
            "ticks": "",
            "zerolinecolor": "#C8D4E3",
            "gridwidth": 2
           },
           "zaxis": {
            "backgroundcolor": "rgb(17,17,17)",
            "gridcolor": "#506784",
            "linecolor": "#506784",
            "showbackground": true,
            "ticks": "",
            "zerolinecolor": "#C8D4E3",
            "gridwidth": 2
           }
          },
          "shapedefaults": {
           "line": {
            "color": "#f2f5fa"
           }
          },
          "annotationdefaults": {
           "arrowcolor": "#f2f5fa",
           "arrowhead": 0,
           "arrowwidth": 1
          },
          "geo": {
           "bgcolor": "rgb(17,17,17)",
           "landcolor": "rgb(17,17,17)",
           "subunitcolor": "#506784",
           "showland": true,
           "showlakes": true,
           "lakecolor": "rgb(17,17,17)"
          },
          "title": {
           "x": 0.05
          },
          "updatemenudefaults": {
           "bgcolor": "#506784",
           "borderwidth": 0
          },
          "sliderdefaults": {
           "bgcolor": "#C8D4E3",
           "borderwidth": 1,
           "bordercolor": "rgb(17,17,17)",
           "tickwidth": 0
          },
          "mapbox": {
           "style": "dark"
          }
         }
        },
        "updatemenus": [
         {
          "bgcolor": "gray",
          "bordercolor": "gray",
          "borderwidth": 1,
          "buttons": [
           {
            "args": [
             {
              "visible": [
               true,
               true,
               true,
               true,
               true,
               true,
               false,
               false,
               false,
               false,
               false,
               false,
               false,
               false,
               false,
               false,
               false,
               false,
               false,
               false,
               false,
               false,
               false,
               false,
               false,
               false,
               false,
               false,
               false,
               false
              ]
             },
             {
              "title": "Contribuição à Média por departamento para Estudante 0"
             }
            ],
            "label": "Estudante 0",
            "method": "update"
           },
           {
            "args": [
             {
              "visible": [
               false,
               false,
               false,
               false,
               false,
               false,
               true,
               true,
               true,
               true,
               true,
               true,
               false,
               false,
               false,
               false,
               false,
               false,
               false,
               false,
               false,
               false,
               false,
               false,
               false,
               false,
               false,
               false,
               false,
               false
              ]
             },
             {
              "title": "Contribuição à Média por departamento para Estudante 1"
             }
            ],
            "label": "Estudante 1",
            "method": "update"
           },
           {
            "args": [
             {
              "visible": [
               false,
               false,
               false,
               false,
               false,
               false,
               false,
               false,
               false,
               false,
               false,
               false,
               true,
               true,
               true,
               true,
               true,
               true,
               false,
               false,
               false,
               false,
               false,
               false,
               false,
               false,
               false,
               false,
               false,
               false
              ]
             },
             {
              "title": "Contribuição à Média por departamento para Estudante 2"
             }
            ],
            "label": "Estudante 2",
            "method": "update"
           },
           {
            "args": [
             {
              "visible": [
               false,
               false,
               false,
               false,
               false,
               false,
               false,
               false,
               false,
               false,
               false,
               false,
               false,
               false,
               false,
               false,
               false,
               false,
               true,
               true,
               true,
               true,
               true,
               true,
               false,
               false,
               false,
               false,
               false,
               false
              ]
             },
             {
              "title": "Contribuição à Média por departamento para Estudante 3"
             }
            ],
            "label": "Estudante 3",
            "method": "update"
           },
           {
            "args": [
             {
              "visible": [
               false,
               false,
               false,
               false,
               false,
               false,
               false,
               false,
               false,
               false,
               false,
               false,
               false,
               false,
               false,
               false,
               false,
               false,
               false,
               false,
               false,
               false,
               false,
               false,
               true,
               true,
               true,
               true,
               true,
               true
              ]
             },
             {
              "title": "Contribuição à Média por departamento para Estudante 4"
             }
            ],
            "label": "Estudante 4",
            "method": "update"
           }
          ],
          "direction": "down",
          "pad": {
           "r": 10,
           "t": 10
          },
          "showactive": false,
          "x": 0.1,
          "xanchor": "left",
          "y": 1.15,
          "yanchor": "top"
         }
        ],
        "title": {
         "text": "Contribuição à Média por departamento para Estudante 0"
        },
        "xaxis": {
         "title": {
          "text": "Semestre"
         }
        },
        "yaxis": {
         "title": {
          "text": "Média"
         }
        },
        "hovermode": "x unified"
       },
       "config": {
        "plotlyServerURL": "https://plot.ly"
       }
      }
     },
     "metadata": {},
     "output_type": "display_data"
    }
   ],
   "execution_count": 64
  }
 ],
 "metadata": {
  "kernelspec": {
   "display_name": "Python 3",
   "language": "python",
   "name": "python3"
  },
  "language_info": {
   "codemirror_mode": {
    "name": "ipython",
    "version": 2
   },
   "file_extension": ".py",
   "mimetype": "text/x-python",
   "name": "python",
   "nbconvert_exporter": "python",
   "pygments_lexer": "ipython2",
   "version": "2.7.6"
  }
 },
 "nbformat": 4,
 "nbformat_minor": 5
}
