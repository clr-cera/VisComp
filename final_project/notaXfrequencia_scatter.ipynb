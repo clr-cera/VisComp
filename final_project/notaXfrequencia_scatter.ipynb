{
 "cells": [
  {
   "metadata": {},
   "cell_type": "markdown",
   "source": [
    "# Scatter plot de frequencia X Nota\n",
    "\n",
    "- Identificar correlacao de frequencia e nota\n",
    "- Interatividade deve poder separar por depto"
   ],
   "id": "f057a6a1d1d08428"
  },
  {
   "cell_type": "code",
   "id": "initial_id",
   "metadata": {
    "collapsed": true,
    "ExecuteTime": {
     "end_time": "2025-10-25T14:52:57.237496Z",
     "start_time": "2025-10-25T14:52:54.260348Z"
    }
   },
   "source": [
    "import pandas as pd\n",
    "import plotly.express as px"
   ],
   "outputs": [],
   "execution_count": 1
  },
  {
   "metadata": {
    "ExecuteTime": {
     "end_time": "2025-10-25T15:09:13.295066Z",
     "start_time": "2025-10-25T15:09:13.272344Z"
    }
   },
   "cell_type": "code",
   "source": [
    "students = pd.read_csv(\"../data/students.csv\", index_col=\"IdEstudante\")\n",
    "grades = pd.read_csv(\"../data/final_table.csv\")\n",
    "\n",
    "grades[\"depto\"] = grades[\"Sigla\"].apply(lambda s: s[:3])\n",
    "\n",
    "joined_df = grades.join(students, on=\"student_id\", how=\"inner\")\n",
    "joined_df"
   ],
   "id": "d17d59d0c997ba6d",
   "outputs": [
    {
     "data": {
      "text/plain": [
       "       Sigla                                               Nome Ano/Semestre  \\\n",
       "0    SCC0200  Informação Profissional e Tutoria Acadêmica em...       2023/1   \n",
       "1    SCC0221               Introdução à Ciência de Computação I       2023/1   \n",
       "2    SCC0222  Laboratório de Introdução à Ciência de Computa...       2023/1   \n",
       "3    SMA0300                                Geometria Analítica       2023/1   \n",
       "4    SMA0353                                          Cálculo I       2023/1   \n",
       "..       ...                                                ...          ...   \n",
       "219  SME0104                                   Cálculo Numérico       2025/1   \n",
       "220  SME0121                             Processos Estocásticos       2025/1   \n",
       "221  SME0130                                    Redes Complexas       2025/1   \n",
       "222  SSC0130                             Engenharia de Software       2025/1   \n",
       "223  SSC0142                              Redes de Computadores       2025/1   \n",
       "\n",
       "     AU  TR  AU+TR  EXT   FREQ  NOTA  student_id depto  Idade Curso  \\\n",
       "0     2   0      2   30  100.0  10.0           0   SCC     20   BCC   \n",
       "1     4   1      5   90   97.0   9.0           0   SCC     20   BCC   \n",
       "2     2   2      4   90  100.0   9.8           0   SCC     20   BCC   \n",
       "3     4   0      4   60  100.0   7.5           0   SMA     20   BCC   \n",
       "4     4   0      4   60  100.0  10.0           0   SMA     20   BCC   \n",
       "..   ..  ..    ...  ...    ...   ...         ...   ...    ...   ...   \n",
       "219   4   0      4    0  100.0   9.5           4   SME     20   BCC   \n",
       "220   4   0      4    0   80.0   8.5           4   SME     20   BCC   \n",
       "221   4   2      6    0  100.0  10.0           4   SME     20   BCC   \n",
       "222   4   1      5   15  100.0   8.4           4   SSC     20   BCC   \n",
       "223   4   2      6   30   80.0   7.7           4   SSC     20   BCC   \n",
       "\n",
       "     AnoIngresso   Ponderada   Classificacao   AnoConclusao   AAC   AEX  \n",
       "0           2023         9.1              16           2027    80   190  \n",
       "1           2023         9.1              16           2027    80   190  \n",
       "2           2023         9.1              16           2027    80   190  \n",
       "3           2023         9.1              16           2027    80   190  \n",
       "4           2023         9.1              16           2027    80   190  \n",
       "..           ...         ...             ...            ...   ...   ...  \n",
       "219         2023         8.9              32           2027     1   180  \n",
       "220         2023         8.9              32           2027     1   180  \n",
       "221         2023         8.9              32           2027     1   180  \n",
       "222         2023         8.9              32           2027     1   180  \n",
       "223         2023         8.9              32           2027     1   180  \n",
       "\n",
       "[224 rows x 19 columns]"
      ],
      "text/html": [
       "<div>\n",
       "<style scoped>\n",
       "    .dataframe tbody tr th:only-of-type {\n",
       "        vertical-align: middle;\n",
       "    }\n",
       "\n",
       "    .dataframe tbody tr th {\n",
       "        vertical-align: top;\n",
       "    }\n",
       "\n",
       "    .dataframe thead th {\n",
       "        text-align: right;\n",
       "    }\n",
       "</style>\n",
       "<table border=\"1\" class=\"dataframe\">\n",
       "  <thead>\n",
       "    <tr style=\"text-align: right;\">\n",
       "      <th></th>\n",
       "      <th>Sigla</th>\n",
       "      <th>Nome</th>\n",
       "      <th>Ano/Semestre</th>\n",
       "      <th>AU</th>\n",
       "      <th>TR</th>\n",
       "      <th>AU+TR</th>\n",
       "      <th>EXT</th>\n",
       "      <th>FREQ</th>\n",
       "      <th>NOTA</th>\n",
       "      <th>student_id</th>\n",
       "      <th>depto</th>\n",
       "      <th>Idade</th>\n",
       "      <th>Curso</th>\n",
       "      <th>AnoIngresso</th>\n",
       "      <th>Ponderada</th>\n",
       "      <th>Classificacao</th>\n",
       "      <th>AnoConclusao</th>\n",
       "      <th>AAC</th>\n",
       "      <th>AEX</th>\n",
       "    </tr>\n",
       "  </thead>\n",
       "  <tbody>\n",
       "    <tr>\n",
       "      <th>0</th>\n",
       "      <td>SCC0200</td>\n",
       "      <td>Informação Profissional e Tutoria Acadêmica em...</td>\n",
       "      <td>2023/1</td>\n",
       "      <td>2</td>\n",
       "      <td>0</td>\n",
       "      <td>2</td>\n",
       "      <td>30</td>\n",
       "      <td>100.0</td>\n",
       "      <td>10.0</td>\n",
       "      <td>0</td>\n",
       "      <td>SCC</td>\n",
       "      <td>20</td>\n",
       "      <td>BCC</td>\n",
       "      <td>2023</td>\n",
       "      <td>9.1</td>\n",
       "      <td>16</td>\n",
       "      <td>2027</td>\n",
       "      <td>80</td>\n",
       "      <td>190</td>\n",
       "    </tr>\n",
       "    <tr>\n",
       "      <th>1</th>\n",
       "      <td>SCC0221</td>\n",
       "      <td>Introdução à Ciência de Computação I</td>\n",
       "      <td>2023/1</td>\n",
       "      <td>4</td>\n",
       "      <td>1</td>\n",
       "      <td>5</td>\n",
       "      <td>90</td>\n",
       "      <td>97.0</td>\n",
       "      <td>9.0</td>\n",
       "      <td>0</td>\n",
       "      <td>SCC</td>\n",
       "      <td>20</td>\n",
       "      <td>BCC</td>\n",
       "      <td>2023</td>\n",
       "      <td>9.1</td>\n",
       "      <td>16</td>\n",
       "      <td>2027</td>\n",
       "      <td>80</td>\n",
       "      <td>190</td>\n",
       "    </tr>\n",
       "    <tr>\n",
       "      <th>2</th>\n",
       "      <td>SCC0222</td>\n",
       "      <td>Laboratório de Introdução à Ciência de Computa...</td>\n",
       "      <td>2023/1</td>\n",
       "      <td>2</td>\n",
       "      <td>2</td>\n",
       "      <td>4</td>\n",
       "      <td>90</td>\n",
       "      <td>100.0</td>\n",
       "      <td>9.8</td>\n",
       "      <td>0</td>\n",
       "      <td>SCC</td>\n",
       "      <td>20</td>\n",
       "      <td>BCC</td>\n",
       "      <td>2023</td>\n",
       "      <td>9.1</td>\n",
       "      <td>16</td>\n",
       "      <td>2027</td>\n",
       "      <td>80</td>\n",
       "      <td>190</td>\n",
       "    </tr>\n",
       "    <tr>\n",
       "      <th>3</th>\n",
       "      <td>SMA0300</td>\n",
       "      <td>Geometria Analítica</td>\n",
       "      <td>2023/1</td>\n",
       "      <td>4</td>\n",
       "      <td>0</td>\n",
       "      <td>4</td>\n",
       "      <td>60</td>\n",
       "      <td>100.0</td>\n",
       "      <td>7.5</td>\n",
       "      <td>0</td>\n",
       "      <td>SMA</td>\n",
       "      <td>20</td>\n",
       "      <td>BCC</td>\n",
       "      <td>2023</td>\n",
       "      <td>9.1</td>\n",
       "      <td>16</td>\n",
       "      <td>2027</td>\n",
       "      <td>80</td>\n",
       "      <td>190</td>\n",
       "    </tr>\n",
       "    <tr>\n",
       "      <th>4</th>\n",
       "      <td>SMA0353</td>\n",
       "      <td>Cálculo I</td>\n",
       "      <td>2023/1</td>\n",
       "      <td>4</td>\n",
       "      <td>0</td>\n",
       "      <td>4</td>\n",
       "      <td>60</td>\n",
       "      <td>100.0</td>\n",
       "      <td>10.0</td>\n",
       "      <td>0</td>\n",
       "      <td>SMA</td>\n",
       "      <td>20</td>\n",
       "      <td>BCC</td>\n",
       "      <td>2023</td>\n",
       "      <td>9.1</td>\n",
       "      <td>16</td>\n",
       "      <td>2027</td>\n",
       "      <td>80</td>\n",
       "      <td>190</td>\n",
       "    </tr>\n",
       "    <tr>\n",
       "      <th>...</th>\n",
       "      <td>...</td>\n",
       "      <td>...</td>\n",
       "      <td>...</td>\n",
       "      <td>...</td>\n",
       "      <td>...</td>\n",
       "      <td>...</td>\n",
       "      <td>...</td>\n",
       "      <td>...</td>\n",
       "      <td>...</td>\n",
       "      <td>...</td>\n",
       "      <td>...</td>\n",
       "      <td>...</td>\n",
       "      <td>...</td>\n",
       "      <td>...</td>\n",
       "      <td>...</td>\n",
       "      <td>...</td>\n",
       "      <td>...</td>\n",
       "      <td>...</td>\n",
       "      <td>...</td>\n",
       "    </tr>\n",
       "    <tr>\n",
       "      <th>219</th>\n",
       "      <td>SME0104</td>\n",
       "      <td>Cálculo Numérico</td>\n",
       "      <td>2025/1</td>\n",
       "      <td>4</td>\n",
       "      <td>0</td>\n",
       "      <td>4</td>\n",
       "      <td>0</td>\n",
       "      <td>100.0</td>\n",
       "      <td>9.5</td>\n",
       "      <td>4</td>\n",
       "      <td>SME</td>\n",
       "      <td>20</td>\n",
       "      <td>BCC</td>\n",
       "      <td>2023</td>\n",
       "      <td>8.9</td>\n",
       "      <td>32</td>\n",
       "      <td>2027</td>\n",
       "      <td>1</td>\n",
       "      <td>180</td>\n",
       "    </tr>\n",
       "    <tr>\n",
       "      <th>220</th>\n",
       "      <td>SME0121</td>\n",
       "      <td>Processos Estocásticos</td>\n",
       "      <td>2025/1</td>\n",
       "      <td>4</td>\n",
       "      <td>0</td>\n",
       "      <td>4</td>\n",
       "      <td>0</td>\n",
       "      <td>80.0</td>\n",
       "      <td>8.5</td>\n",
       "      <td>4</td>\n",
       "      <td>SME</td>\n",
       "      <td>20</td>\n",
       "      <td>BCC</td>\n",
       "      <td>2023</td>\n",
       "      <td>8.9</td>\n",
       "      <td>32</td>\n",
       "      <td>2027</td>\n",
       "      <td>1</td>\n",
       "      <td>180</td>\n",
       "    </tr>\n",
       "    <tr>\n",
       "      <th>221</th>\n",
       "      <td>SME0130</td>\n",
       "      <td>Redes Complexas</td>\n",
       "      <td>2025/1</td>\n",
       "      <td>4</td>\n",
       "      <td>2</td>\n",
       "      <td>6</td>\n",
       "      <td>0</td>\n",
       "      <td>100.0</td>\n",
       "      <td>10.0</td>\n",
       "      <td>4</td>\n",
       "      <td>SME</td>\n",
       "      <td>20</td>\n",
       "      <td>BCC</td>\n",
       "      <td>2023</td>\n",
       "      <td>8.9</td>\n",
       "      <td>32</td>\n",
       "      <td>2027</td>\n",
       "      <td>1</td>\n",
       "      <td>180</td>\n",
       "    </tr>\n",
       "    <tr>\n",
       "      <th>222</th>\n",
       "      <td>SSC0130</td>\n",
       "      <td>Engenharia de Software</td>\n",
       "      <td>2025/1</td>\n",
       "      <td>4</td>\n",
       "      <td>1</td>\n",
       "      <td>5</td>\n",
       "      <td>15</td>\n",
       "      <td>100.0</td>\n",
       "      <td>8.4</td>\n",
       "      <td>4</td>\n",
       "      <td>SSC</td>\n",
       "      <td>20</td>\n",
       "      <td>BCC</td>\n",
       "      <td>2023</td>\n",
       "      <td>8.9</td>\n",
       "      <td>32</td>\n",
       "      <td>2027</td>\n",
       "      <td>1</td>\n",
       "      <td>180</td>\n",
       "    </tr>\n",
       "    <tr>\n",
       "      <th>223</th>\n",
       "      <td>SSC0142</td>\n",
       "      <td>Redes de Computadores</td>\n",
       "      <td>2025/1</td>\n",
       "      <td>4</td>\n",
       "      <td>2</td>\n",
       "      <td>6</td>\n",
       "      <td>30</td>\n",
       "      <td>80.0</td>\n",
       "      <td>7.7</td>\n",
       "      <td>4</td>\n",
       "      <td>SSC</td>\n",
       "      <td>20</td>\n",
       "      <td>BCC</td>\n",
       "      <td>2023</td>\n",
       "      <td>8.9</td>\n",
       "      <td>32</td>\n",
       "      <td>2027</td>\n",
       "      <td>1</td>\n",
       "      <td>180</td>\n",
       "    </tr>\n",
       "  </tbody>\n",
       "</table>\n",
       "<p>224 rows × 19 columns</p>\n",
       "</div>"
      ]
     },
     "execution_count": 12,
     "metadata": {},
     "output_type": "execute_result"
    }
   ],
   "execution_count": 12
  },
  {
   "metadata": {
    "ExecuteTime": {
     "end_time": "2025-10-25T15:11:56.627890Z",
     "start_time": "2025-10-25T15:11:56.584092Z"
    }
   },
   "cell_type": "code",
   "source": [
    "fig = px.scatter(joined_df, x=\"FREQ\", y=\"NOTA\", color=\"depto\", hover_data=[\"Nome\", \"FREQ\", \"NOTA\"], title=\"Scatter Plot de Frequencia x Nota\")\n",
    "fig.show()"
   ],
   "id": "b411036dc3c70263",
   "outputs": [
    {
     "data": {
      "application/vnd.plotly.v1+json": {
       "data": [
        {
         "customdata": [
          [
           "Informação Profissional e Tutoria Acadêmica em Ciências da Computação"
          ],
          [
           "Introdução à Ciência de Computação I"
          ],
          [
           "Laboratório de Introdução à Ciência de Computação I"
          ],
          [
           "Introdução à Ciência de Computação II"
          ],
          [
           "Algoritmos e Estruturas de Dados I"
          ],
          [
           "Laboratório de Introdução à Ciência da Computação II"
          ],
          [
           "Organização de Arquivos"
          ],
          [
           "Modelagem Computacional em Grafos"
          ],
          [
           "Algoritmos Avançados e Aplicações"
          ],
          [
           "Seminários em Computação I"
          ],
          [
           "Introdução ao Desenvolvimento Web"
          ],
          [
           "Bases de Dados"
          ],
          [
           "Informação Profissional e Tutoria Acadêmica em Ciências da Computação"
          ],
          [
           "Introdução à Ciência de Computação I"
          ],
          [
           "Laboratório de Introdução à Ciência de Computação I"
          ],
          [
           "Introdução à Ciência de Computação II"
          ],
          [
           "Algoritmos e Estruturas de Dados I"
          ],
          [
           "Laboratório de Introdução à Ciência da Computação II"
          ],
          [
           "Organização de Arquivos"
          ],
          [
           "Modelagem Computacional em Grafos"
          ],
          [
           "Algoritmos Avançados e Aplicações"
          ],
          [
           "Tópicos Avançados em Ciências de Computação II"
          ],
          [
           "Introdução ao Desenvolvimento Web"
          ],
          [
           "Bases de Dados"
          ],
          [
           "Informação Profissional e Tutoria Acadêmica em Ciências da Computação"
          ],
          [
           "Introdução à Ciência de Computação I"
          ],
          [
           "Laboratório de Introdução à Ciência de Computação I"
          ],
          [
           "Introdução à Ciência de Computação II"
          ],
          [
           "Algoritmos e Estruturas de Dados I"
          ],
          [
           "Organização de Arquivos"
          ],
          [
           "Modelagem Computacional em Grafos"
          ],
          [
           "Algoritmos Avançados e Aplicações"
          ],
          [
           "Introdução ao Desenvolvimento Web"
          ],
          [
           "Bases de Dados"
          ],
          [
           "Teoria da Computação e Linguagens Formais"
          ],
          [
           "Computadores e Sociedade I"
          ],
          [
           "Seminários em Computação I"
          ],
          [
           "Laboratório de Algoritmos Avançados I"
          ],
          [
           "Linguagens de Programação e Compiladores"
          ],
          [
           "Seminários em Computação II"
          ],
          [
           "Bases de Dados"
          ],
          [
           "Computação Gráfica"
          ],
          [
           "Estágio Supervisionado I"
          ],
          [
           "Computação Gráfica"
          ],
          [
           "Estágio Supervisionado II"
          ],
          [
           "Seminários em Computação III"
          ],
          [
           "Inteligência Artificial"
          ],
          [
           "Estágio Supervisionado II"
          ],
          [
           "Arquitetura de Sistemas Gerenciadores de Bases de Dados"
          ],
          [
           "Processamento de Imagens"
          ],
          [
           "Multimídia"
          ],
          [
           "Informação Profissional e Tutoria Acadêmica em Ciências da Computação"
          ],
          [
           "Introdução à Ciência de Computação I"
          ],
          [
           "Laboratório de Introdução à Ciência de Computação I"
          ],
          [
           "Introdução à Ciência de Computação II"
          ],
          [
           "Algoritmos e Estruturas de Dados I"
          ],
          [
           "Laboratório de Introdução à Ciência da Computação II"
          ],
          [
           "Organização de Arquivos"
          ],
          [
           "Modelagem Computacional em Grafos"
          ],
          [
           "Algoritmos Avançados e Aplicações"
          ],
          [
           "Sistemas de Recomendação"
          ],
          [
           "Introdução ao Desenvolvimento Web"
          ],
          [
           "Bases de Dados"
          ],
          [
           "Multimídia"
          ],
          [
           "Informação Profissional e Tutoria Acadêmica em Ciências da Computação"
          ],
          [
           "Introdução à Ciência de Computação I"
          ],
          [
           "Laboratório de Introdução à Ciência de Computação I"
          ],
          [
           "Introdução à Ciência de Computação II"
          ],
          [
           "Algoritmos e Estruturas de Dados I"
          ],
          [
           "Laboratório de Introdução à Ciência da Computação II"
          ],
          [
           "Organização de Arquivos"
          ],
          [
           "Modelagem Computacional em Grafos"
          ],
          [
           "Algoritmos Avançados e Aplicações"
          ],
          [
           "Introdução à Bioinformática"
          ],
          [
           "Tópicos Avançados em Ciências de Computação II"
          ],
          [
           "Introdução ao Desenvolvimento Web"
          ],
          [
           "Bases de Dados"
          ],
          [
           "Multimídia"
          ]
         ],
         "hovertemplate": "depto=SCC<br>FREQ=%{x}<br>NOTA=%{y}<br>Nome=%{customdata[0]}<extra></extra>",
         "legendgroup": "SCC",
         "marker": {
          "color": "#636efa",
          "symbol": "circle"
         },
         "mode": "markers",
         "name": "SCC",
         "orientation": "v",
         "showlegend": true,
         "x": {
          "dtype": "f8",
          "bdata": "AAAAAAAAWUAAAAAAAEBYQAAAAAAAAFlAAAAAAABAWEAAAAAAAEBYQAAAAAAAAFlAAAAAAACAV0AAAAAAAABZQAAAAAAAAFlAAAAAAAAAVkAAAAAAAAAkQAAAAAAAAFlAAAAAAAAAWUAAAAAAAABZQAAAAAAAAFlAAAAAAAAAWUAAAAAAAABZQAAAAAAAAFlAAAAAAAAAWUAAAAAAAABZQAAAAAAAAFlAAAAAAAAAWUAAAAAAAEBXQAAAAAAAAFlAAAAAAAAAWUAAAAAAAABZQAAAAAAAAFlAAAAAAAAAWUAAAAAAAABZQAAAAAAAAFlAAAAAAACAUUAAAAAAAABZQAAAAAAAQFNAAAAAAABAV0AAAAAAAMBUQAAAAAAAAFRAAAAAAAAAWUAAAAAAAABZQAAAAAAAQFdAAAAAAAAAWUAAAAAAAEBYQAAAAAAAAExAAAAAAAAAWUAAAAAAAEBVQAAAAAAAAAAAAAAAAAAAVkAAAAAAAABUQAAAAAAAAFlAAAAAAACAVkAAAAAAAABVQAAAAAAAQFJAAAAAAAAAWUAAAAAAAABZQAAAAAAAAFlAAAAAAAAAWUAAAAAAAEBYQAAAAAAAAFlAAAAAAAAAWUAAAAAAAABZQAAAAAAAAFlAAAAAAAAAWUAAAAAAAEBYQAAAAAAAAFlAAAAAAADAVUAAAAAAAIBWQAAAAAAAQFhAAAAAAAAAWUAAAAAAAABZQAAAAAAAQFdAAAAAAAAAWUAAAAAAAIBXQAAAAAAAAFlAAAAAAAAAWUAAAAAAAABZQAAAAAAAAFlAAAAAAABAWEAAAAAAAABYQAAAAAAAAFRA"
         },
         "xaxis": "x",
         "y": {
          "dtype": "f8",
          "bdata": "AAAAAAAAJEAAAAAAAAAiQJqZmZmZmSNAzczMzMzMIkCamZmZmZkjQAAAAAAAACRAMzMzMzMzIkBmZmZmZmYjQAAAAAAAACFAmpmZmZmZIUAzMzMzMzMiQAAAAAAAACNAAAAAAAAAJEBmZmZmZmYiQAAAAAAAACRAMzMzMzMzIkCamZmZmZkiQAAAAAAAACRAmpmZmZmZIkCamZmZmZkjQAAAAAAAACRAMzMzMzMzI0BmZmZmZmYjQAAAAAAAACNAAAAAAAAAJEAAAAAAAAAkQM3MzMzMzCNAAAAAAAAAIUAAAAAAAAAhQAAAAAAAACBAAAAAAAAAJECamZmZmZkbQJqZmZmZmR1AMzMzMzMzC0AAAAAAAAAgQM3MzMzMzCJAAAAAAAAAIEDNzMzMzMwMQGZmZmZmZiBAAAAAAAAAJECamZmZmZkZQM3MzMzMzPQ/AAAAAAAAIkDNzMzMzMweQAAAAAAAAAAAZmZmZmZmIkCamZmZmZkdQAAAAAAAACRAzczMzMzMIUDNzMzMzMwMQAAAAAAAAAAAAAAAAAAAJEDNzMzMzMwgQAAAAAAAACNAmpmZmZmZIEDNzMzMzMwiQDMzMzMzMyNAMzMzMzMzIkDNzMzMzMwiQJqZmZmZmSJAzczMzMzMHEAzMzMzMzMjQAAAAAAAACFAmpmZmZmZIkAAAAAAAAAiQJqZmZmZmR9AzczMzMzMIEAAAAAAAAAkQJqZmZmZmSFAMzMzMzMzI0BmZmZmZmYhQDMzMzMzMyJAAAAAAAAAHkDNzMzMzMwhQAAAAAAAACJAzczMzMzMIEBmZmZmZmYiQDMzMzMzMyJA"
         },
         "yaxis": "y",
         "type": "scatter"
        },
        {
         "customdata": [
          [
           "Geometria Analítica"
          ],
          [
           "Cálculo I"
          ],
          [
           "Matemática Discreta I"
          ],
          [
           "Cálculo II"
          ],
          [
           "Cálculo III"
          ],
          [
           "Geometria Analítica"
          ],
          [
           "Cálculo I"
          ],
          [
           "Matemática Discreta I"
          ],
          [
           "Cálculo II"
          ],
          [
           "Cálculo III"
          ],
          [
           "Geometria Analítica"
          ],
          [
           "Cálculo I"
          ],
          [
           "Matemática Discreta I"
          ],
          [
           "Cálculo II"
          ],
          [
           "Cálculo III"
          ],
          [
           "Cálculo III"
          ],
          [
           "Cálculo IV"
          ],
          [
           "Cálculo III"
          ],
          [
           "Cálculo III"
          ],
          [
           "Geometria Analítica"
          ],
          [
           "Cálculo I"
          ],
          [
           "Matemática Discreta I"
          ],
          [
           "Cálculo II"
          ],
          [
           "Cálculo III"
          ],
          [
           "Geometria Analítica"
          ],
          [
           "Cálculo I"
          ],
          [
           "Matemática Discreta I"
          ],
          [
           "Cálculo II"
          ],
          [
           "Cálculo III"
          ],
          [
           "Cálculo IV"
          ]
         ],
         "hovertemplate": "depto=SMA<br>FREQ=%{x}<br>NOTA=%{y}<br>Nome=%{customdata[0]}<extra></extra>",
         "legendgroup": "SMA",
         "marker": {
          "color": "#EF553B",
          "symbol": "circle"
         },
         "mode": "markers",
         "name": "SMA",
         "orientation": "v",
         "showlegend": true,
         "x": {
          "dtype": "f8",
          "bdata": "AAAAAAAAWUAAAAAAAABZQAAAAAAAAFlAAAAAAAAAWUAAAAAAAABZQAAAAAAAAFlAAAAAAAAAWUAAAAAAAABZQAAAAAAAAFlAAAAAAAAAWUAAAAAAAABZQAAAAAAAAFlAAAAAAAAAVEAAAAAAAABZQAAAAAAAAFlAAAAAAACAU0AAAAAAAABZQAAAAAAAwFZAAAAAAAAAVEAAAAAAAABZQAAAAAAAAFlAAAAAAAAAWUAAAAAAAABZQAAAAAAAAFlAAAAAAAAAWUAAAAAAAABZQAAAAAAAAFlAAAAAAAAAWUAAAAAAAABZQAAAAAAAgFFA"
         },
         "xaxis": "x",
         "y": {
          "dtype": "f8",
          "bdata": "AAAAAAAAHkAAAAAAAAAkQAAAAAAAACRAzczMzMzMIkDNzMzMzMwhQDMzMzMzMx1AAAAAAAAAJECamZmZmZkgQJqZmZmZmRtAzczMzMzMGkAzMzMzMzMbQDMzMzMzMx9AAAAAAAAAGEBmZmZmZmYUQAAAAAAAABJAZmZmZmZmCkCamZmZmZkXQAAAAAAAAAhAzczMzMzMIECamZmZmZkfQAAAAAAAACFAmpmZmZmZIkAAAAAAAAAaQAAAAAAAABhAMzMzMzMzH0AAAAAAAAAkQGZmZmZmZiJAmpmZmZmZG0AAAAAAAAAeQAAAAAAAACBA"
         },
         "yaxis": "y",
         "type": "scatter"
        },
        {
         "customdata": [
          [
           "Evolução Histórica da Computação e Aplicações"
          ],
          [
           "Prática em Lógica Digital"
          ],
          [
           "Introdução à Lógica Digital"
          ],
          [
           "Eletrônica para Computação"
          ],
          [
           "Prática em Sistemas Digitais"
          ],
          [
           "Sistemas Digitais"
          ],
          [
           "Programação Orientada a Objetos"
          ],
          [
           "Organização e Arquitetura de Computadores"
          ],
          [
           "Programação Funcional"
          ],
          [
           "Análise e Projeto Orientados a Objetos"
          ],
          [
           "Sistemas Operacionais I"
          ],
          [
           "Engenharia de Software"
          ],
          [
           "Redes de Computadores"
          ],
          [
           "Evolução Histórica da Computação e Aplicações"
          ],
          [
           "Prática em Lógica Digital"
          ],
          [
           "Introdução à Lógica Digital"
          ],
          [
           "Eletrônica para Computação"
          ],
          [
           "Prática em Sistemas Digitais"
          ],
          [
           "Sistemas Digitais"
          ],
          [
           "Programação Orientada a Objetos"
          ],
          [
           "Organização e Arquitetura de Computadores"
          ],
          [
           "Programação Funcional"
          ],
          [
           "Análise e Projeto Orientados a Objetos"
          ],
          [
           "Sistemas Operacionais I"
          ],
          [
           "Sistemas Evolutivos e Aplicados à Robótica"
          ],
          [
           "Engenharia de Software"
          ],
          [
           "Redes de Computadores"
          ],
          [
           "Evolução Histórica da Computação e Aplicações"
          ],
          [
           "Prática em Lógica Digital"
          ],
          [
           "Introdução à Lógica Digital"
          ],
          [
           "Eletrônica para Computação"
          ],
          [
           "Prática em Sistemas Digitais"
          ],
          [
           "Sistemas Digitais"
          ],
          [
           "Programação Orientada a Objetos"
          ],
          [
           "Prática em Organização de Computadores"
          ],
          [
           "Organização e Arquitetura de Computadores"
          ],
          [
           "Análise e Projeto Orientados a Objetos"
          ],
          [
           "Sistemas Operacionais I"
          ],
          [
           "Engenharia de Software"
          ],
          [
           "Redes de Computadores"
          ],
          [
           "Computação de Alto Desempenho"
          ],
          [
           "Sistemas de Informação"
          ],
          [
           "Engenharia de Segurança"
          ],
          [
           "Sistemas Computacionais Distribuídos"
          ],
          [
           "Teste e Inspeção de Software"
          ],
          [
           "Arquitetura de Software"
          ],
          [
           "Reuso de Software"
          ],
          [
           "Desenvolvimento de Código Otimizado"
          ],
          [
           "Programação de Robôs Móveis"
          ],
          [
           "Sistemas Open Source"
          ],
          [
           "Computação em Nuvem e Arquitetura Orientadas a Serviços"
          ],
          [
           "Projeto e Desenvolvimento de Software de Sistema"
          ],
          [
           "Evolução Histórica da Computação e Aplicações"
          ],
          [
           "Prática em Lógica Digital"
          ],
          [
           "Introdução à Lógica Digital"
          ],
          [
           "Eletrônica para Computação"
          ],
          [
           "Prática em Sistemas Digitais"
          ],
          [
           "Sistemas Digitais"
          ],
          [
           "Programação Orientada a Objetos"
          ],
          [
           "Organização e Arquitetura de Computadores"
          ],
          [
           "Programação Funcional"
          ],
          [
           "Análise e Projeto Orientados a Objetos"
          ],
          [
           "Sistemas Operacionais I"
          ],
          [
           "Sistemas Evolutivos e Aplicados à Robótica"
          ],
          [
           "Criptomoedas e Blockchain"
          ],
          [
           "Engenharia de Software"
          ],
          [
           "Redes de Computadores"
          ],
          [
           "Evolução Histórica da Computação e Aplicações"
          ],
          [
           "Prática em Lógica Digital"
          ],
          [
           "Introdução à Lógica Digital"
          ],
          [
           "Eletrônica para Computação"
          ],
          [
           "Prática em Sistemas Digitais"
          ],
          [
           "Sistemas Digitais"
          ],
          [
           "Programação Orientada a Objetos"
          ],
          [
           "Prática em Organização de Computadores"
          ],
          [
           "Organização e Arquitetura de Computadores"
          ],
          [
           "Programação Funcional"
          ],
          [
           "Análise e Projeto Orientados a Objetos"
          ],
          [
           "Sistemas Operacionais I"
          ],
          [
           "Sistemas Evolutivos e Aplicados à Robótica"
          ],
          [
           "Criptomoedas e Blockchain"
          ],
          [
           "Engenharia de Software"
          ],
          [
           "Redes de Computadores"
          ]
         ],
         "hovertemplate": "depto=SSC<br>FREQ=%{x}<br>NOTA=%{y}<br>Nome=%{customdata[0]}<extra></extra>",
         "legendgroup": "SSC",
         "marker": {
          "color": "#00cc96",
          "symbol": "circle"
         },
         "mode": "markers",
         "name": "SSC",
         "orientation": "v",
         "showlegend": true,
         "x": {
          "dtype": "f8",
          "bdata": "AAAAAAAAPkAAAAAAAABZQAAAAAAAQFdAAAAAAACAV0AAAAAAAIBWQAAAAAAAAFRAAAAAAAAAWUAAAAAAAAAuQAAAAAAAAFlAAAAAAAAALkAAAAAAAAA+QAAAAAAAAC5AAAAAAAAAPkAAAAAAAABZQAAAAAAAAFlAAAAAAADAVUAAAAAAAABZQAAAAAAAgFZAAAAAAABAV0AAAAAAAABZQAAAAAAAQFhAAAAAAAAAWUAAAAAAAABZQAAAAAAAAFlAAAAAAAAAWUAAAAAAAABZQAAAAAAAAFRAAAAAAAAAWUAAAAAAAABZQAAAAAAAAFlAAAAAAAAAWUAAAAAAAABZQAAAAAAAAFlAAAAAAABAV0AAAAAAAEBTQAAAAAAAAFlAAAAAAABAV0AAAAAAAABZQAAAAAAAAFlAAAAAAAAAWUAAAAAAAIBWQAAAAAAAwFVAAAAAAAAAWUAAAAAAAABZQAAAAAAAwFdAAAAAAAAAVEAAAAAAAEBXQAAAAAAAQFdAAAAAAAAAAAAAAAAAAABZQAAAAAAAAFRAAAAAAAAAWUAAAAAAAABZQAAAAAAAAFlAAAAAAACAVUAAAAAAAABZQAAAAAAAAFZAAAAAAAAAWUAAAAAAAABZQAAAAAAAAFlAAAAAAAAAWUAAAAAAAABZQAAAAAAAAFlAAAAAAAAAWUAAAAAAAIBUQAAAAAAAAFlAAAAAAAAAVEAAAAAAAABZQAAAAAAAgFZAAAAAAAAAWUAAAAAAAABZQAAAAAAAAFlAAAAAAAAAWUAAAAAAAABZQAAAAAAAwFJAAAAAAABAV0AAAAAAAABZQAAAAAAAwFJAAAAAAAAAWUAAAAAAAABZQAAAAAAAgFRAAAAAAAAAWUAAAAAAAABUQA=="
         },
         "xaxis": "x",
         "y": {
          "dtype": "f8",
          "bdata": "AAAAAAAAJEAAAAAAAAAkQAAAAAAAACFAAAAAAAAAJEAAAAAAAAAkQM3MzMzMzCFAmpmZmZmZI0AzMzMzMzMiQDMzMzMzMyJAAAAAAAAAIkBmZmZmZmYhQM3MzMzMzCNAzczMzMzMHEAAAAAAAAAkQAAAAAAAACRAzczMzMzMGEAAAAAAAAAkQM3MzMzMzCJAzczMzMzMHECamZmZmZkjQGZmZmZmZiBAAAAAAAAAI0CamZmZmZkiQGZmZmZmZiFAAAAAAAAAJEDNzMzMzMwjQM3MzMzMzB5AAAAAAAAAJEAAAAAAAAAkQAAAAAAAACJAAAAAAAAAJEAAAAAAAAAkQAAAAAAAACNAzczMzMzMIEAAAAAAAAAkQAAAAAAAACJAAAAAAAAAI0AzMzMzMzMdQJqZmZmZmR9AMzMzMzMzIUBmZmZmZmYhQGZmZmZmZiBAmpmZmZmZHUDNzMzMzMwYQGZmZmZmZh5AAAAAAAAAJEBmZmZmZmYjQM3MzMzMzCBAAAAAAAAAAAAAAAAAAAAUQM3MzMzMzABAAAAAAAAAHEAAAAAAAAAkQAAAAAAAACRAmpmZmZmZIEAAAAAAAAAkQAAAAAAAACRAzczMzMzMGECamZmZmZkiQGZmZmZmZiJAzczMzMzMIkAzMzMzMzMiQJqZmZmZmSFAAAAAAAAAJEAzMzMzMzMiQM3MzMzMzCJAMzMzMzMzH0AAAAAAAAAkQAAAAAAAACFAAAAAAAAAIEAAAAAAAAAkQAAAAAAAACRAMzMzMzMzIkBmZmZmZmYhQAAAAAAAACRAmpmZmZmZIUAzMzMzMzMjQDMzMzMzMx9AmpmZmZmZIEAAAAAAAAAkQDMzMzMzMyJAzczMzMzMIEDNzMzMzMweQA=="
         },
         "yaxis": "y",
         "type": "scatter"
        },
        {
         "customdata": [
          [
           "Física Básica I"
          ],
          [
           "Laboratório de Física Geral I"
          ],
          [
           "Física Básica I"
          ],
          [
           "Laboratório de Fisica Geral I"
          ],
          [
           "Física Básica I"
          ],
          [
           "Laboratório de Física Geral I"
          ],
          [
           "Física Básica I"
          ],
          [
           "Laboratório de Física Geral I"
          ],
          [
           "Física Básica I"
          ],
          [
           "Laboratório de Fisica Geral I"
          ]
         ],
         "hovertemplate": "depto=760<br>FREQ=%{x}<br>NOTA=%{y}<br>Nome=%{customdata[0]}<extra></extra>",
         "legendgroup": "760",
         "marker": {
          "color": "#ab63fa",
          "symbol": "circle"
         },
         "mode": "markers",
         "name": "760",
         "orientation": "v",
         "showlegend": true,
         "x": {
          "dtype": "f8",
          "bdata": "AAAAAAAAWUAAAAAAAABZQAAAAAAAAFlAAAAAAAAAWUAAAAAAAABZQAAAAAAAwFRAAAAAAAAAV0AAAAAAAABZQAAAAAAAAFlAAAAAAADAVEA="
         },
         "xaxis": "x",
         "y": {
          "dtype": "f8",
          "bdata": "AAAAAAAAIkBmZmZmZmYiQM3MzMzMzCFAMzMzMzMzIUAzMzMzMzMXQJqZmZmZmRlAMzMzMzMzGUAzMzMzMzMdQJqZmZmZmR9AZmZmZmZmHkA="
         },
         "yaxis": "y",
         "type": "scatter"
        },
        {
         "customdata": [
          [
           "Estatística"
          ],
          [
           "Álgebra Linear e Aplicações"
          ],
          [
           "Cálculo Numérico"
          ],
          [
           "Processos Estocásticos"
          ],
          [
           "Estatística"
          ],
          [
           "Álgebra Linear e Aplicações"
          ],
          [
           "Cálculo Numérico"
          ],
          [
           "Processos Estocásticos"
          ],
          [
           "Estatística"
          ],
          [
           "Processos Estocásticos"
          ],
          [
           "Álgebra Linear e Aplicações"
          ],
          [
           "Cálculo Numérico"
          ],
          [
           "Programação Matemática"
          ],
          [
           "Álgebra Linear e Aplicações"
          ],
          [
           "Estatística"
          ],
          [
           "Álgebra Linear e Aplicações"
          ],
          [
           "Cálculo Numérico"
          ],
          [
           "Processos Estocásticos"
          ],
          [
           "Estatística"
          ],
          [
           "Álgebra Linear e Aplicações"
          ],
          [
           "Cálculo Numérico"
          ],
          [
           "Processos Estocásticos"
          ],
          [
           "Redes Complexas"
          ]
         ],
         "hovertemplate": "depto=SME<br>FREQ=%{x}<br>NOTA=%{y}<br>Nome=%{customdata[0]}<extra></extra>",
         "legendgroup": "SME",
         "marker": {
          "color": "#FFA15A",
          "symbol": "circle"
         },
         "mode": "markers",
         "name": "SME",
         "orientation": "v",
         "showlegend": true,
         "x": {
          "dtype": "f8",
          "bdata": "AAAAAABAVkAAAAAAAIBVQAAAAAAAgFZAAAAAAAAAVEAAAAAAAABZQAAAAAAAAFlAAAAAAAAAWUAAAAAAAABUQAAAAAAAAFRAAAAAAAAAWUAAAAAAAMBUQAAAAAAAgFFAAAAAAADAVUAAAAAAAMBTQAAAAAAAAFlAAAAAAABAVkAAAAAAAIBWQAAAAAAAAFlAAAAAAAAAWUAAAAAAAEBXQAAAAAAAAFlAAAAAAAAAVEAAAAAAAABZQA=="
         },
         "xaxis": "x",
         "y": {
          "dtype": "f8",
          "bdata": "MzMzMzMzH0AzMzMzMzMgQAAAAAAAABxAzczMzMzMIkCamZmZmZkXQDMzMzMzMyNAAAAAAAAAJEAAAAAAAAAeQAAAAAAAACFAMzMzMzMzHUCamZmZmZkRQGZmZmZmZhRAAAAAAAAAIUAzMzMzMzMfQGZmZmZmZhpAMzMzMzMzIkAAAAAAAAAcQGZmZmZmZiBAMzMzMzMzIUAAAAAAAAAkQAAAAAAAACNAAAAAAAAAIUAAAAAAAAAkQA=="
         },
         "yaxis": "y",
         "type": "scatter"
        }
       ],
       "layout": {
        "template": {
         "data": {
          "histogram2dcontour": [
           {
            "type": "histogram2dcontour",
            "colorbar": {
             "outlinewidth": 0,
             "ticks": ""
            },
            "colorscale": [
             [
              0.0,
              "#0d0887"
             ],
             [
              0.1111111111111111,
              "#46039f"
             ],
             [
              0.2222222222222222,
              "#7201a8"
             ],
             [
              0.3333333333333333,
              "#9c179e"
             ],
             [
              0.4444444444444444,
              "#bd3786"
             ],
             [
              0.5555555555555556,
              "#d8576b"
             ],
             [
              0.6666666666666666,
              "#ed7953"
             ],
             [
              0.7777777777777778,
              "#fb9f3a"
             ],
             [
              0.8888888888888888,
              "#fdca26"
             ],
             [
              1.0,
              "#f0f921"
             ]
            ]
           }
          ],
          "choropleth": [
           {
            "type": "choropleth",
            "colorbar": {
             "outlinewidth": 0,
             "ticks": ""
            }
           }
          ],
          "histogram2d": [
           {
            "type": "histogram2d",
            "colorbar": {
             "outlinewidth": 0,
             "ticks": ""
            },
            "colorscale": [
             [
              0.0,
              "#0d0887"
             ],
             [
              0.1111111111111111,
              "#46039f"
             ],
             [
              0.2222222222222222,
              "#7201a8"
             ],
             [
              0.3333333333333333,
              "#9c179e"
             ],
             [
              0.4444444444444444,
              "#bd3786"
             ],
             [
              0.5555555555555556,
              "#d8576b"
             ],
             [
              0.6666666666666666,
              "#ed7953"
             ],
             [
              0.7777777777777778,
              "#fb9f3a"
             ],
             [
              0.8888888888888888,
              "#fdca26"
             ],
             [
              1.0,
              "#f0f921"
             ]
            ]
           }
          ],
          "heatmap": [
           {
            "type": "heatmap",
            "colorbar": {
             "outlinewidth": 0,
             "ticks": ""
            },
            "colorscale": [
             [
              0.0,
              "#0d0887"
             ],
             [
              0.1111111111111111,
              "#46039f"
             ],
             [
              0.2222222222222222,
              "#7201a8"
             ],
             [
              0.3333333333333333,
              "#9c179e"
             ],
             [
              0.4444444444444444,
              "#bd3786"
             ],
             [
              0.5555555555555556,
              "#d8576b"
             ],
             [
              0.6666666666666666,
              "#ed7953"
             ],
             [
              0.7777777777777778,
              "#fb9f3a"
             ],
             [
              0.8888888888888888,
              "#fdca26"
             ],
             [
              1.0,
              "#f0f921"
             ]
            ]
           }
          ],
          "contourcarpet": [
           {
            "type": "contourcarpet",
            "colorbar": {
             "outlinewidth": 0,
             "ticks": ""
            }
           }
          ],
          "contour": [
           {
            "type": "contour",
            "colorbar": {
             "outlinewidth": 0,
             "ticks": ""
            },
            "colorscale": [
             [
              0.0,
              "#0d0887"
             ],
             [
              0.1111111111111111,
              "#46039f"
             ],
             [
              0.2222222222222222,
              "#7201a8"
             ],
             [
              0.3333333333333333,
              "#9c179e"
             ],
             [
              0.4444444444444444,
              "#bd3786"
             ],
             [
              0.5555555555555556,
              "#d8576b"
             ],
             [
              0.6666666666666666,
              "#ed7953"
             ],
             [
              0.7777777777777778,
              "#fb9f3a"
             ],
             [
              0.8888888888888888,
              "#fdca26"
             ],
             [
              1.0,
              "#f0f921"
             ]
            ]
           }
          ],
          "surface": [
           {
            "type": "surface",
            "colorbar": {
             "outlinewidth": 0,
             "ticks": ""
            },
            "colorscale": [
             [
              0.0,
              "#0d0887"
             ],
             [
              0.1111111111111111,
              "#46039f"
             ],
             [
              0.2222222222222222,
              "#7201a8"
             ],
             [
              0.3333333333333333,
              "#9c179e"
             ],
             [
              0.4444444444444444,
              "#bd3786"
             ],
             [
              0.5555555555555556,
              "#d8576b"
             ],
             [
              0.6666666666666666,
              "#ed7953"
             ],
             [
              0.7777777777777778,
              "#fb9f3a"
             ],
             [
              0.8888888888888888,
              "#fdca26"
             ],
             [
              1.0,
              "#f0f921"
             ]
            ]
           }
          ],
          "mesh3d": [
           {
            "type": "mesh3d",
            "colorbar": {
             "outlinewidth": 0,
             "ticks": ""
            }
           }
          ],
          "scatter": [
           {
            "marker": {
             "line": {
              "color": "#283442"
             }
            },
            "type": "scatter"
           }
          ],
          "parcoords": [
           {
            "type": "parcoords",
            "line": {
             "colorbar": {
              "outlinewidth": 0,
              "ticks": ""
             }
            }
           }
          ],
          "scatterpolargl": [
           {
            "type": "scatterpolargl",
            "marker": {
             "colorbar": {
              "outlinewidth": 0,
              "ticks": ""
             }
            }
           }
          ],
          "bar": [
           {
            "error_x": {
             "color": "#f2f5fa"
            },
            "error_y": {
             "color": "#f2f5fa"
            },
            "marker": {
             "line": {
              "color": "rgb(17,17,17)",
              "width": 0.5
             },
             "pattern": {
              "fillmode": "overlay",
              "size": 10,
              "solidity": 0.2
             }
            },
            "type": "bar"
           }
          ],
          "scattergeo": [
           {
            "type": "scattergeo",
            "marker": {
             "colorbar": {
              "outlinewidth": 0,
              "ticks": ""
             }
            }
           }
          ],
          "scatterpolar": [
           {
            "type": "scatterpolar",
            "marker": {
             "colorbar": {
              "outlinewidth": 0,
              "ticks": ""
             }
            }
           }
          ],
          "histogram": [
           {
            "marker": {
             "pattern": {
              "fillmode": "overlay",
              "size": 10,
              "solidity": 0.2
             }
            },
            "type": "histogram"
           }
          ],
          "scattergl": [
           {
            "marker": {
             "line": {
              "color": "#283442"
             }
            },
            "type": "scattergl"
           }
          ],
          "scatter3d": [
           {
            "type": "scatter3d",
            "line": {
             "colorbar": {
              "outlinewidth": 0,
              "ticks": ""
             }
            },
            "marker": {
             "colorbar": {
              "outlinewidth": 0,
              "ticks": ""
             }
            }
           }
          ],
          "scattermap": [
           {
            "type": "scattermap",
            "marker": {
             "colorbar": {
              "outlinewidth": 0,
              "ticks": ""
             }
            }
           }
          ],
          "scattermapbox": [
           {
            "type": "scattermapbox",
            "marker": {
             "colorbar": {
              "outlinewidth": 0,
              "ticks": ""
             }
            }
           }
          ],
          "scatterternary": [
           {
            "type": "scatterternary",
            "marker": {
             "colorbar": {
              "outlinewidth": 0,
              "ticks": ""
             }
            }
           }
          ],
          "scattercarpet": [
           {
            "type": "scattercarpet",
            "marker": {
             "colorbar": {
              "outlinewidth": 0,
              "ticks": ""
             }
            }
           }
          ],
          "carpet": [
           {
            "aaxis": {
             "endlinecolor": "#A2B1C6",
             "gridcolor": "#506784",
             "linecolor": "#506784",
             "minorgridcolor": "#506784",
             "startlinecolor": "#A2B1C6"
            },
            "baxis": {
             "endlinecolor": "#A2B1C6",
             "gridcolor": "#506784",
             "linecolor": "#506784",
             "minorgridcolor": "#506784",
             "startlinecolor": "#A2B1C6"
            },
            "type": "carpet"
           }
          ],
          "table": [
           {
            "cells": {
             "fill": {
              "color": "#506784"
             },
             "line": {
              "color": "rgb(17,17,17)"
             }
            },
            "header": {
             "fill": {
              "color": "#2a3f5f"
             },
             "line": {
              "color": "rgb(17,17,17)"
             }
            },
            "type": "table"
           }
          ],
          "barpolar": [
           {
            "marker": {
             "line": {
              "color": "rgb(17,17,17)",
              "width": 0.5
             },
             "pattern": {
              "fillmode": "overlay",
              "size": 10,
              "solidity": 0.2
             }
            },
            "type": "barpolar"
           }
          ],
          "pie": [
           {
            "automargin": true,
            "type": "pie"
           }
          ]
         },
         "layout": {
          "autotypenumbers": "strict",
          "colorway": [
           "#636efa",
           "#EF553B",
           "#00cc96",
           "#ab63fa",
           "#FFA15A",
           "#19d3f3",
           "#FF6692",
           "#B6E880",
           "#FF97FF",
           "#FECB52"
          ],
          "font": {
           "color": "#f2f5fa"
          },
          "hovermode": "closest",
          "hoverlabel": {
           "align": "left"
          },
          "paper_bgcolor": "rgb(17,17,17)",
          "plot_bgcolor": "rgb(17,17,17)",
          "polar": {
           "bgcolor": "rgb(17,17,17)",
           "angularaxis": {
            "gridcolor": "#506784",
            "linecolor": "#506784",
            "ticks": ""
           },
           "radialaxis": {
            "gridcolor": "#506784",
            "linecolor": "#506784",
            "ticks": ""
           }
          },
          "ternary": {
           "bgcolor": "rgb(17,17,17)",
           "aaxis": {
            "gridcolor": "#506784",
            "linecolor": "#506784",
            "ticks": ""
           },
           "baxis": {
            "gridcolor": "#506784",
            "linecolor": "#506784",
            "ticks": ""
           },
           "caxis": {
            "gridcolor": "#506784",
            "linecolor": "#506784",
            "ticks": ""
           }
          },
          "coloraxis": {
           "colorbar": {
            "outlinewidth": 0,
            "ticks": ""
           }
          },
          "colorscale": {
           "sequential": [
            [
             0.0,
             "#0d0887"
            ],
            [
             0.1111111111111111,
             "#46039f"
            ],
            [
             0.2222222222222222,
             "#7201a8"
            ],
            [
             0.3333333333333333,
             "#9c179e"
            ],
            [
             0.4444444444444444,
             "#bd3786"
            ],
            [
             0.5555555555555556,
             "#d8576b"
            ],
            [
             0.6666666666666666,
             "#ed7953"
            ],
            [
             0.7777777777777778,
             "#fb9f3a"
            ],
            [
             0.8888888888888888,
             "#fdca26"
            ],
            [
             1.0,
             "#f0f921"
            ]
           ],
           "sequentialminus": [
            [
             0.0,
             "#0d0887"
            ],
            [
             0.1111111111111111,
             "#46039f"
            ],
            [
             0.2222222222222222,
             "#7201a8"
            ],
            [
             0.3333333333333333,
             "#9c179e"
            ],
            [
             0.4444444444444444,
             "#bd3786"
            ],
            [
             0.5555555555555556,
             "#d8576b"
            ],
            [
             0.6666666666666666,
             "#ed7953"
            ],
            [
             0.7777777777777778,
             "#fb9f3a"
            ],
            [
             0.8888888888888888,
             "#fdca26"
            ],
            [
             1.0,
             "#f0f921"
            ]
           ],
           "diverging": [
            [
             0,
             "#8e0152"
            ],
            [
             0.1,
             "#c51b7d"
            ],
            [
             0.2,
             "#de77ae"
            ],
            [
             0.3,
             "#f1b6da"
            ],
            [
             0.4,
             "#fde0ef"
            ],
            [
             0.5,
             "#f7f7f7"
            ],
            [
             0.6,
             "#e6f5d0"
            ],
            [
             0.7,
             "#b8e186"
            ],
            [
             0.8,
             "#7fbc41"
            ],
            [
             0.9,
             "#4d9221"
            ],
            [
             1,
             "#276419"
            ]
           ]
          },
          "xaxis": {
           "gridcolor": "#283442",
           "linecolor": "#506784",
           "ticks": "",
           "title": {
            "standoff": 15
           },
           "zerolinecolor": "#283442",
           "automargin": true,
           "zerolinewidth": 2
          },
          "yaxis": {
           "gridcolor": "#283442",
           "linecolor": "#506784",
           "ticks": "",
           "title": {
            "standoff": 15
           },
           "zerolinecolor": "#283442",
           "automargin": true,
           "zerolinewidth": 2
          },
          "scene": {
           "xaxis": {
            "backgroundcolor": "rgb(17,17,17)",
            "gridcolor": "#506784",
            "linecolor": "#506784",
            "showbackground": true,
            "ticks": "",
            "zerolinecolor": "#C8D4E3",
            "gridwidth": 2
           },
           "yaxis": {
            "backgroundcolor": "rgb(17,17,17)",
            "gridcolor": "#506784",
            "linecolor": "#506784",
            "showbackground": true,
            "ticks": "",
            "zerolinecolor": "#C8D4E3",
            "gridwidth": 2
           },
           "zaxis": {
            "backgroundcolor": "rgb(17,17,17)",
            "gridcolor": "#506784",
            "linecolor": "#506784",
            "showbackground": true,
            "ticks": "",
            "zerolinecolor": "#C8D4E3",
            "gridwidth": 2
           }
          },
          "shapedefaults": {
           "line": {
            "color": "#f2f5fa"
           }
          },
          "annotationdefaults": {
           "arrowcolor": "#f2f5fa",
           "arrowhead": 0,
           "arrowwidth": 1
          },
          "geo": {
           "bgcolor": "rgb(17,17,17)",
           "landcolor": "rgb(17,17,17)",
           "subunitcolor": "#506784",
           "showland": true,
           "showlakes": true,
           "lakecolor": "rgb(17,17,17)"
          },
          "title": {
           "x": 0.05
          },
          "updatemenudefaults": {
           "bgcolor": "#506784",
           "borderwidth": 0
          },
          "sliderdefaults": {
           "bgcolor": "#C8D4E3",
           "borderwidth": 1,
           "bordercolor": "rgb(17,17,17)",
           "tickwidth": 0
          },
          "mapbox": {
           "style": "dark"
          }
         }
        },
        "xaxis": {
         "anchor": "y",
         "domain": [
          0.0,
          1.0
         ],
         "title": {
          "text": "FREQ"
         }
        },
        "yaxis": {
         "anchor": "x",
         "domain": [
          0.0,
          1.0
         ],
         "title": {
          "text": "NOTA"
         }
        },
        "legend": {
         "title": {
          "text": "depto"
         },
         "tracegroupgap": 0
        },
        "title": {
         "text": "Scatter Plot de Frequencia x Nota"
        }
       },
       "config": {
        "plotlyServerURL": "https://plot.ly"
       }
      }
     },
     "metadata": {},
     "output_type": "display_data"
    }
   ],
   "execution_count": 17
  }
 ],
 "metadata": {
  "kernelspec": {
   "display_name": "Python 3",
   "language": "python",
   "name": "python3"
  },
  "language_info": {
   "codemirror_mode": {
    "name": "ipython",
    "version": 2
   },
   "file_extension": ".py",
   "mimetype": "text/x-python",
   "name": "python",
   "nbconvert_exporter": "python",
   "pygments_lexer": "ipython2",
   "version": "2.7.6"
  }
 },
 "nbformat": 4,
 "nbformat_minor": 5
}
